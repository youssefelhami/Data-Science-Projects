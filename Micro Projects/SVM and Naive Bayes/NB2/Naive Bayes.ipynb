{
 "cells": [
  {
   "cell_type": "markdown",
   "id": "bc60d141",
   "metadata": {},
   "source": [
    "#  Multinomial  NB"
   ]
  },
  {
   "cell_type": "markdown",
   "id": "0bb2a70b",
   "metadata": {},
   "source": [
    "## Importing the libraries"
   ]
  },
  {
   "cell_type": "code",
   "execution_count": 1,
   "id": "14e014d4",
   "metadata": {},
   "outputs": [],
   "source": [
    "import numpy as np\n",
    "import matplotlib.pyplot as plt \n",
    "import pandas as pd"
   ]
  },
  {
   "cell_type": "markdown",
   "id": "11675dac",
   "metadata": {},
   "source": [
    "# Importing the dataset"
   ]
  },
  {
   "cell_type": "code",
   "execution_count": 2,
   "id": "69b55d35",
   "metadata": {},
   "outputs": [],
   "source": [
    "dataset=pd.read_csv(\"spam.csv\")\n",
    "x=dataset.iloc[:,1].values \n",
    "y=dataset.iloc[:, 0].values"
   ]
  },
  {
   "cell_type": "markdown",
   "id": "7d2dbc7b",
   "metadata": {},
   "source": [
    "## Splitting the dataset into the Training set and Test set"
   ]
  },
  {
   "cell_type": "code",
   "execution_count": 3,
   "id": "215ee31e",
   "metadata": {},
   "outputs": [],
   "source": [
    "from sklearn.model_selection import train_test_split\n",
    "x_train , x_test, y_train , y_test = train_test_split(x,y,test_size=0.25,random_state=0)"
   ]
  },
  {
   "cell_type": "markdown",
   "id": "eb385474",
   "metadata": {},
   "source": [
    "## Encoding the target variable"
   ]
  },
  {
   "cell_type": "code",
   "execution_count": 4,
   "id": "c7973c4e",
   "metadata": {},
   "outputs": [],
   "source": [
    "from sklearn.preprocessing import LabelEncoder\n",
    "encoder=LabelEncoder()\n",
    "y_train=encoder.fit_transform(y_train)\n",
    "y_test=encoder.transform(y_test)"
   ]
  },
  {
   "cell_type": "markdown",
   "id": "a6fb617b",
   "metadata": {},
   "source": [
    "## Converting the messages to a word count matrix for train and test data"
   ]
  },
  {
   "cell_type": "code",
   "execution_count": 5,
   "id": "f7be590d",
   "metadata": {},
   "outputs": [],
   "source": [
    "from sklearn.feature_extraction.text import CountVectorizer\n",
    "cv = CountVectorizer()\n",
    "x_train = cv.fit_transform(x_train)\n",
    "x_test=cv.transform(x_test)"
   ]
  },
  {
   "cell_type": "markdown",
   "id": "cf8eae40",
   "metadata": {},
   "source": [
    "## Training the Multinomial  Naive Bayes model on the Training set"
   ]
  },
  {
   "cell_type": "code",
   "execution_count": 6,
   "id": "f978491a",
   "metadata": {},
   "outputs": [
    {
     "data": {
      "text/plain": [
       "MultinomialNB(alpha=1)"
      ]
     },
     "execution_count": 6,
     "metadata": {},
     "output_type": "execute_result"
    }
   ],
   "source": [
    "from sklearn.naive_bayes import MultinomialNB\n",
    "\n",
    "multi_model = MultinomialNB(alpha=1)\n",
    "multi_model.fit(x_train, y_train)\n"
   ]
  },
  {
   "cell_type": "markdown",
   "id": "b71e5f3b",
   "metadata": {},
   "source": [
    "## Predicting the Test set results for the Multinomial NB"
   ]
  },
  {
   "cell_type": "code",
   "execution_count": 7,
   "id": "22dd49c2",
   "metadata": {},
   "outputs": [
    {
     "name": "stdout",
     "output_type": "stream",
     "text": [
      "[[0 0]\n",
      " [0 0]\n",
      " [0 0]\n",
      " ...\n",
      " [0 0]\n",
      " [0 0]\n",
      " [1 1]]\n"
     ]
    }
   ],
   "source": [
    "y_pred=multi_model.predict(x_test)\n",
    "print(np.concatenate((y_pred.reshape(len(y_pred),1),y_test.reshape(len(y_test),1)),1))"
   ]
  },
  {
   "cell_type": "markdown",
   "id": "dc8b8bcc",
   "metadata": {},
   "source": [
    "## Calculating the Multinomial NB Model's accuracy "
   ]
  },
  {
   "cell_type": "code",
   "execution_count": 8,
   "id": "f374db88",
   "metadata": {},
   "outputs": [
    {
     "name": "stdout",
     "output_type": "stream",
     "text": [
      "0.9863603732950467\n"
     ]
    }
   ],
   "source": [
    "from sklearn.metrics import  accuracy_score  \n",
    "print(accuracy_score(y_test, y_pred))"
   ]
  },
  {
   "cell_type": "markdown",
   "id": "10fc5b0f",
   "metadata": {},
   "source": [
    " ## Making a prediciton using the Multinomial NB Model"
   ]
  },
  {
   "cell_type": "code",
   "execution_count": 9,
   "id": "3c6d116a",
   "metadata": {},
   "outputs": [
    {
     "name": "stdout",
     "output_type": "stream",
     "text": [
      "[1]\n"
     ]
    }
   ],
   "source": [
    "test_msg = ['You have been selected to receive a $1000 prize reward ! To claim your reward call 090654414']\n",
    "test_msg=cv.transform(test_msg)\n",
    "print(multi_model.predict(test_msg))"
   ]
  }
 ],
 "metadata": {
  "kernelspec": {
   "display_name": "Python 3",
   "language": "python",
   "name": "python3"
  },
  "language_info": {
   "codemirror_mode": {
    "name": "ipython",
    "version": 3
   },
   "file_extension": ".py",
   "mimetype": "text/x-python",
   "name": "python",
   "nbconvert_exporter": "python",
   "pygments_lexer": "ipython3",
   "version": "3.8.8"
  }
 },
 "nbformat": 4,
 "nbformat_minor": 5
}
