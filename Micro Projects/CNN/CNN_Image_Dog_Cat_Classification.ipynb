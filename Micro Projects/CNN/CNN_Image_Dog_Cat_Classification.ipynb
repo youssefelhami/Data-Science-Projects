{
 "cells": [
  {
   "cell_type": "markdown",
   "metadata": {
    "colab_type": "text",
    "id": "3DR-eO17geWu"
   },
   "source": [
    "# Convolutional Neural Network"
   ]
  },
  {
   "cell_type": "markdown",
   "metadata": {
    "colab_type": "text",
    "id": "EMefrVPCg-60"
   },
   "source": [
    "### Importing the libraries"
   ]
  },
  {
   "cell_type": "code",
   "execution_count": 1,
   "metadata": {},
   "outputs": [],
   "source": [
    "import tensorflow as tf \n",
    "from keras.preprocessing.image import ImageDataGenerator"
   ]
  },
  {
   "cell_type": "markdown",
   "metadata": {
    "colab_type": "text",
    "id": "MvE-heJNo3GG"
   },
   "source": [
    "### Preprocessing the Training set"
   ]
  },
  {
   "cell_type": "code",
   "execution_count": 2,
   "metadata": {},
   "outputs": [
    {
     "name": "stdout",
     "output_type": "stream",
     "text": [
      "Found 7999 images belonging to 2 classes.\n"
     ]
    }
   ],
   "source": [
    "train_datagen=ImageDataGenerator(rescale=1/255,rotation_range=180, horizontal_flip=True)\n",
    "training_set=train_datagen.flow_from_directory('dataset/training_set',target_size=(64,64),batch_size=32,class_mode='binary')"
   ]
  },
  {
   "cell_type": "markdown",
   "metadata": {
    "colab_type": "text",
    "id": "mrCMmGw9pHys"
   },
   "source": [
    "### Preprocessing the Test set"
   ]
  },
  {
   "cell_type": "code",
   "execution_count": 3,
   "metadata": {},
   "outputs": [
    {
     "name": "stdout",
     "output_type": "stream",
     "text": [
      "Found 2000 images belonging to 2 classes.\n"
     ]
    }
   ],
   "source": [
    "test_datagen=ImageDataGenerator(rescale=1/255)\n",
    "test_set=test_datagen.flow_from_directory('dataset/test_set',target_size=(64,64),batch_size=32,class_mode='binary')"
   ]
  },
  {
   "cell_type": "markdown",
   "metadata": {
    "colab_type": "text",
    "id": "af8O4l90gk7B"
   },
   "source": [
    "##  Building the CNN"
   ]
  },
  {
   "cell_type": "markdown",
   "metadata": {
    "colab_type": "text",
    "id": "ces1gXY2lmoX"
   },
   "source": [
    "### Initialising the CNN"
   ]
  },
  {
   "cell_type": "code",
   "execution_count": 4,
   "metadata": {},
   "outputs": [],
   "source": [
    "cnn_model=tf.keras.models.Sequential()"
   ]
  },
  {
   "cell_type": "markdown",
   "metadata": {
    "colab_type": "text",
    "id": "u5YJj_XMl5LF"
   },
   "source": [
    "### Step 1 -  Adding a Convolutional layer"
   ]
  },
  {
   "cell_type": "code",
   "execution_count": 5,
   "metadata": {},
   "outputs": [],
   "source": [
    "cnn_model.add(tf.keras.layers.Conv2D(input_shape=[64,64,3],filters=32,kernel_size=3,activation=\"relu\"))"
   ]
  },
  {
   "cell_type": "markdown",
   "metadata": {
    "colab_type": "text",
    "id": "tf87FpvxmNOJ"
   },
   "source": [
    "### Step 2 - Pooling"
   ]
  },
  {
   "cell_type": "code",
   "execution_count": 6,
   "metadata": {},
   "outputs": [],
   "source": [
    "cnn_model.add(tf.keras.layers.MaxPool2D(pool_size=2,strides=2))"
   ]
  },
  {
   "cell_type": "markdown",
   "metadata": {
    "colab_type": "text",
    "id": "xaTOgD8rm4mU"
   },
   "source": [
    "### Adding  more convolutional and max pooling layers"
   ]
  },
  {
   "cell_type": "code",
   "execution_count": 7,
   "metadata": {},
   "outputs": [],
   "source": [
    "cnn_model.add(tf.keras.layers.Conv2D(filters=32,kernel_size=3,activation=\"relu\"))\n",
    "cnn_model.add(tf.keras.layers.MaxPool2D(pool_size=2,strides=2))"
   ]
  },
  {
   "cell_type": "code",
   "execution_count": 8,
   "metadata": {},
   "outputs": [],
   "source": [
    "cnn_model.add(tf.keras.layers.Conv2D(filters=32,kernel_size=3,activation=\"relu\"))\n",
    "cnn_model.add(tf.keras.layers.MaxPool2D(pool_size=2,strides=2))"
   ]
  },
  {
   "cell_type": "code",
   "execution_count": 9,
   "metadata": {},
   "outputs": [],
   "source": [
    "cnn_model.add(tf.keras.layers.Conv2D(filters=32,kernel_size=3,activation=\"relu\"))\n",
    "cnn_model.add(tf.keras.layers.MaxPool2D(pool_size=2,strides=2))"
   ]
  },
  {
   "cell_type": "markdown",
   "metadata": {
    "colab_type": "text",
    "id": "tmiEuvTunKfk"
   },
   "source": [
    "### Step 3 - Flattening"
   ]
  },
  {
   "cell_type": "code",
   "execution_count": 10,
   "metadata": {},
   "outputs": [],
   "source": [
    "cnn_model.add(tf.keras.layers.Flatten())"
   ]
  },
  {
   "cell_type": "markdown",
   "metadata": {
    "colab_type": "text",
    "id": "dAoSECOm203v"
   },
   "source": [
    "### Step 4 - Full Connection"
   ]
  },
  {
   "cell_type": "code",
   "execution_count": 11,
   "metadata": {},
   "outputs": [],
   "source": [
    "cnn_model.add(tf.keras.layers.Dense(units=128, activation='relu'))"
   ]
  },
  {
   "cell_type": "markdown",
   "metadata": {
    "colab_type": "text",
    "id": "yTldFvbX28Na"
   },
   "source": [
    "### Step 5 - Output Layer"
   ]
  },
  {
   "cell_type": "code",
   "execution_count": 12,
   "metadata": {},
   "outputs": [],
   "source": [
    "cnn_model.add(tf.keras.layers.Dense(units=1, activation='sigmoid'))"
   ]
  },
  {
   "cell_type": "markdown",
   "metadata": {
    "colab_type": "text",
    "id": "D6XkI90snSDl"
   },
   "source": [
    "## Training the CNN"
   ]
  },
  {
   "cell_type": "markdown",
   "metadata": {
    "colab_type": "text",
    "id": "vfrFQACEnc6i"
   },
   "source": [
    "### Compiling the CNN"
   ]
  },
  {
   "cell_type": "code",
   "execution_count": 13,
   "metadata": {
    "colab": {},
    "colab_type": "code",
    "id": "NALksrNQpUlJ"
   },
   "outputs": [],
   "source": [
    "cnn_model.compile(optimizer = 'adam', loss = 'binary_crossentropy', metrics = ['accuracy'])"
   ]
  },
  {
   "cell_type": "markdown",
   "metadata": {
    "colab_type": "text",
    "id": "ehS-v3MIpX2h"
   },
   "source": [
    "### Training the CNN on the Training set and evaluating it on the Test set"
   ]
  },
  {
   "cell_type": "code",
   "execution_count": 14,
   "metadata": {},
   "outputs": [
    {
     "name": "stdout",
     "output_type": "stream",
     "text": [
      "Epoch 1/35\n",
      "250/250 [==============================] - 59s 232ms/step - loss: 0.6850 - accuracy: 0.5431 - val_loss: 0.6786 - val_accuracy: 0.5740\n",
      "Epoch 2/35\n",
      "250/250 [==============================] - 54s 215ms/step - loss: 0.6554 - accuracy: 0.6158 - val_loss: 0.6525 - val_accuracy: 0.6185\n",
      "Epoch 3/35\n",
      "250/250 [==============================] - 54s 217ms/step - loss: 0.6386 - accuracy: 0.6360 - val_loss: 0.6132 - val_accuracy: 0.6720\n",
      "Epoch 4/35\n",
      "250/250 [==============================] - 56s 226ms/step - loss: 0.6209 - accuracy: 0.6617 - val_loss: 0.6040 - val_accuracy: 0.6800\n",
      "Epoch 5/35\n",
      "250/250 [==============================] - 58s 233ms/step - loss: 0.6025 - accuracy: 0.6732 - val_loss: 0.6145 - val_accuracy: 0.6620\n",
      "Epoch 6/35\n",
      "250/250 [==============================] - 67s 268ms/step - loss: 0.6020 - accuracy: 0.6742 - val_loss: 0.5953 - val_accuracy: 0.7065\n",
      "Epoch 7/35\n",
      "250/250 [==============================] - 64s 258ms/step - loss: 0.5915 - accuracy: 0.6855 - val_loss: 0.5718 - val_accuracy: 0.7085\n",
      "Epoch 8/35\n",
      "250/250 [==============================] - 74s 296ms/step - loss: 0.5806 - accuracy: 0.6955 - val_loss: 0.5836 - val_accuracy: 0.6965\n",
      "Epoch 9/35\n",
      "250/250 [==============================] - 53s 212ms/step - loss: 0.5740 - accuracy: 0.6966 - val_loss: 0.5461 - val_accuracy: 0.7325\n",
      "Epoch 10/35\n",
      "250/250 [==============================] - 48s 193ms/step - loss: 0.5668 - accuracy: 0.7037 - val_loss: 0.5460 - val_accuracy: 0.7445\n",
      "Epoch 11/35\n",
      "250/250 [==============================] - 49s 194ms/step - loss: 0.5636 - accuracy: 0.7081 - val_loss: 0.5193 - val_accuracy: 0.7540\n",
      "Epoch 12/35\n",
      "250/250 [==============================] - 53s 213ms/step - loss: 0.5542 - accuracy: 0.7173 - val_loss: 0.5351 - val_accuracy: 0.7510\n",
      "Epoch 13/35\n",
      "250/250 [==============================] - 58s 230ms/step - loss: 0.5543 - accuracy: 0.7181 - val_loss: 0.5259 - val_accuracy: 0.7515\n",
      "Epoch 14/35\n",
      "250/250 [==============================] - 56s 223ms/step - loss: 0.5518 - accuracy: 0.7187 - val_loss: 0.5216 - val_accuracy: 0.7510\n",
      "Epoch 15/35\n",
      "250/250 [==============================] - 53s 211ms/step - loss: 0.5424 - accuracy: 0.7262 - val_loss: 0.5056 - val_accuracy: 0.7720\n",
      "Epoch 16/35\n",
      "250/250 [==============================] - 49s 194ms/step - loss: 0.5479 - accuracy: 0.7182 - val_loss: 0.5316 - val_accuracy: 0.7535\n",
      "Epoch 17/35\n",
      "250/250 [==============================] - 51s 205ms/step - loss: 0.5365 - accuracy: 0.7257 - val_loss: 0.5188 - val_accuracy: 0.7515\n",
      "Epoch 18/35\n",
      "250/250 [==============================] - 51s 203ms/step - loss: 0.5278 - accuracy: 0.7346 - val_loss: 0.5226 - val_accuracy: 0.7420\n",
      "Epoch 19/35\n",
      "250/250 [==============================] - 48s 190ms/step - loss: 0.5267 - accuracy: 0.7393 - val_loss: 0.5056 - val_accuracy: 0.7645\n",
      "Epoch 20/35\n",
      "250/250 [==============================] - 51s 202ms/step - loss: 0.5262 - accuracy: 0.7322 - val_loss: 0.5140 - val_accuracy: 0.7715\n",
      "Epoch 21/35\n",
      "250/250 [==============================] - 53s 210ms/step - loss: 0.5182 - accuracy: 0.7415 - val_loss: 0.4987 - val_accuracy: 0.7640\n",
      "Epoch 22/35\n",
      "250/250 [==============================] - 54s 215ms/step - loss: 0.5208 - accuracy: 0.7407 - val_loss: 0.5122 - val_accuracy: 0.7440\n",
      "Epoch 23/35\n",
      "250/250 [==============================] - 49s 196ms/step - loss: 0.5135 - accuracy: 0.7442 - val_loss: 0.4972 - val_accuracy: 0.7535\n",
      "Epoch 24/35\n",
      "250/250 [==============================] - 48s 194ms/step - loss: 0.5142 - accuracy: 0.7471 - val_loss: 0.5065 - val_accuracy: 0.7460\n",
      "Epoch 25/35\n",
      "250/250 [==============================] - 48s 192ms/step - loss: 0.5061 - accuracy: 0.7508 - val_loss: 0.5160 - val_accuracy: 0.7570\n",
      "Epoch 26/35\n",
      "250/250 [==============================] - 48s 192ms/step - loss: 0.5104 - accuracy: 0.7470 - val_loss: 0.5005 - val_accuracy: 0.7480\n",
      "Epoch 27/35\n",
      "250/250 [==============================] - 48s 192ms/step - loss: 0.4963 - accuracy: 0.7583 - val_loss: 0.4862 - val_accuracy: 0.7600\n",
      "Epoch 28/35\n",
      "250/250 [==============================] - 57s 230ms/step - loss: 0.4891 - accuracy: 0.7638 - val_loss: 0.4681 - val_accuracy: 0.7745\n",
      "Epoch 29/35\n",
      "250/250 [==============================] - 55s 221ms/step - loss: 0.5043 - accuracy: 0.7573 - val_loss: 0.4732 - val_accuracy: 0.7755\n",
      "Epoch 30/35\n",
      "250/250 [==============================] - 52s 210ms/step - loss: 0.4896 - accuracy: 0.7665 - val_loss: 0.4980 - val_accuracy: 0.7690\n",
      "Epoch 31/35\n",
      "250/250 [==============================] - 53s 211ms/step - loss: 0.4913 - accuracy: 0.7586 - val_loss: 0.4686 - val_accuracy: 0.7780\n",
      "Epoch 32/35\n",
      "250/250 [==============================] - 56s 225ms/step - loss: 0.4829 - accuracy: 0.7678 - val_loss: 0.5100 - val_accuracy: 0.7575\n",
      "Epoch 33/35\n",
      "250/250 [==============================] - 55s 219ms/step - loss: 0.4881 - accuracy: 0.7646 - val_loss: 0.5164 - val_accuracy: 0.7530\n",
      "Epoch 34/35\n",
      "250/250 [==============================] - 60s 238ms/step - loss: 0.4837 - accuracy: 0.7703 - val_loss: 0.4760 - val_accuracy: 0.7785\n",
      "Epoch 35/35\n",
      "250/250 [==============================] - 55s 221ms/step - loss: 0.4776 - accuracy: 0.7705 - val_loss: 0.4632 - val_accuracy: 0.7970\n"
     ]
    },
    {
     "data": {
      "text/plain": [
       "<tensorflow.python.keras.callbacks.History at 0x1c6f23fad90>"
      ]
     },
     "execution_count": 14,
     "metadata": {},
     "output_type": "execute_result"
    }
   ],
   "source": [
    "cnn_model.fit(x = training_set, validation_data = test_set, epochs = 35)"
   ]
  }
 ],
 "metadata": {
  "colab": {
   "authorship_tag": "ABX9TyON0YxX/oky4tPbqCLnFjWD",
   "collapsed_sections": [],
   "name": "convolutional_neural_network.ipynb",
   "provenance": [],
   "toc_visible": true
  },
  "kernelspec": {
   "display_name": "Python 3",
   "language": "python",
   "name": "python3"
  },
  "language_info": {
   "codemirror_mode": {
    "name": "ipython",
    "version": 3
   },
   "file_extension": ".py",
   "mimetype": "text/x-python",
   "name": "python",
   "nbconvert_exporter": "python",
   "pygments_lexer": "ipython3",
   "version": "3.8.8"
  }
 },
 "nbformat": 4,
 "nbformat_minor": 1
}
