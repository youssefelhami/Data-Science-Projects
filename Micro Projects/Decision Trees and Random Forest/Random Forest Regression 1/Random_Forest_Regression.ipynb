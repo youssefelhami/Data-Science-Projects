{
  "nbformat": 4,
  "nbformat_minor": 0,
  "metadata": {
    "colab": {
      "provenance": []
    },
    "kernelspec": {
      "name": "python3",
      "display_name": "Python 3"
    },
    "language_info": {
      "name": "python"
    }
  },
  "cells": [
    {
      "cell_type": "markdown",
      "source": [
        "## Random Forrest"
      ],
      "metadata": {
        "id": "df23jhTsT4K4"
      }
    },
    {
      "cell_type": "code",
      "execution_count": 1,
      "metadata": {
        "id": "osO36NAkTv13"
      },
      "outputs": [],
      "source": [
        "import numpy as np\n",
        "import pandas as pd"
      ]
    },
    {
      "cell_type": "markdown",
      "source": [
        "### Importing the dataset and creating the train and test sets"
      ],
      "metadata": {
        "id": "eLAAsc5qU_2-"
      }
    },
    {
      "cell_type": "code",
      "source": [
        "dataset= pd.read_csv(\"Data.csv\")\n",
        "X=dataset.iloc[:,:-1].values\n",
        "y= dataset.iloc[:,-1].values"
      ],
      "metadata": {
        "id": "ckUVEZUSULzV"
      },
      "execution_count": 2,
      "outputs": []
    },
    {
      "cell_type": "code",
      "source": [
        "print(X)"
      ],
      "metadata": {
        "colab": {
          "base_uri": "https://localhost:8080/"
        },
        "id": "W8w7HfsSeB2o",
        "outputId": "2157381b-8bae-46d9-af9b-2b25056d4ffa"
      },
      "execution_count": 3,
      "outputs": [
        {
          "output_type": "stream",
          "name": "stdout",
          "text": [
            "[[  14.96   41.76 1024.07   73.17]\n",
            " [  25.18   62.96 1020.04   59.08]\n",
            " [   5.11   39.4  1012.16   92.14]\n",
            " ...\n",
            " [  31.32   74.33 1012.92   36.48]\n",
            " [  24.48   69.45 1013.86   62.39]\n",
            " [  21.6    62.52 1017.23   67.87]]\n"
          ]
        }
      ]
    },
    {
      "cell_type": "code",
      "source": [
        "print(y)"
      ],
      "metadata": {
        "colab": {
          "base_uri": "https://localhost:8080/"
        },
        "id": "hkj4trymeDzs",
        "outputId": "aad7b4ed-e01e-4e19-d11e-81b7ffffbbeb"
      },
      "execution_count": 4,
      "outputs": [
        {
          "output_type": "stream",
          "name": "stdout",
          "text": [
            "[463.26 444.37 488.56 ... 429.57 435.74 453.28]\n"
          ]
        }
      ]
    },
    {
      "cell_type": "code",
      "source": [
        "from sklearn.model_selection import train_test_split\n",
        "X_train , X_test, y_train, y_test= train_test_split(X,y, test_size=0.2, random_state=0)"
      ],
      "metadata": {
        "id": "alSqFZWJVb5B"
      },
      "execution_count": 5,
      "outputs": []
    },
    {
      "cell_type": "markdown",
      "source": [
        "### Applying Grid Search + K-Fold Cross Valdiation to find the best model hyper-parameters"
      ],
      "metadata": {
        "id": "NHNNYhqCWgJg"
      }
    },
    {
      "cell_type": "code",
      "source": [
        "from sklearn.model_selection import GridSearchCV\n",
        "from sklearn.ensemble import RandomForestRegressor\n",
        "# Create the Grid of parameters to test\n",
        "grid = {'n_estimators' : [ 10,20 ,30 ,40 ,50 ,60 ,70 ,80 ,90 ,100],\n",
        "    'max_features' : ['sqrt', 'log2'],\n",
        "    'max_depth' : [2,4,6,8],\n",
        "    'criterion': ['squared_error'],\n",
        "    'random_state':[0]}\n",
        "\n",
        "gs= GridSearchCV(estimator= RandomForestRegressor(), param_grid=grid, scoring='neg_mean_absolute_error',cv=10,n_jobs=-1)\n",
        "gs.fit(X_train,y_train)\n",
        "# Get the best accuracy  using the best_score_ attribute of the grid search obj\n",
        "best_score= gs.best_score_\n",
        "# Get the best parameters corresponding to this accuracy\n",
        "best_parameters=gs.best_params_\n",
        "\n",
        "print(\"Best Loss:\", best_score) \n",
        "print(\"Best Parameters:\", best_parameters )"
      ],
      "metadata": {
        "colab": {
          "base_uri": "https://localhost:8080/"
        },
        "id": "zvij-iReWagQ",
        "outputId": "ab5bfb06-20be-4005-9002-6824e0c8afa9"
      },
      "execution_count": 6,
      "outputs": [
        {
          "output_type": "stream",
          "name": "stdout",
          "text": [
            "Best Loss: -2.8185758691673968\n",
            "Best Parameters: {'criterion': 'squared_error', 'max_depth': 8, 'max_features': 'sqrt', 'n_estimators': 90, 'random_state': 0}\n"
          ]
        }
      ]
    },
    {
      "cell_type": "markdown",
      "source": [
        "### Applying Random Search + K-Fold Cross Valdiation to find the best model hyper-parameters"
      ],
      "metadata": {
        "id": "9ud5Z4p7jDjh"
      }
    },
    {
      "cell_type": "code",
      "source": [
        "from sklearn.model_selection import RandomizedSearchCV\n",
        "\n",
        "\n",
        "param = {'n_estimators' : [ int(x) for x in (np.linspace(start = 10, stop = 200, num = 20))],\n",
        "    'max_features' : ['sqrt', 'log2'],\n",
        "    'max_depth' : [int(x) for x in np.linspace(start = 2, stop = 20, num = 10)],\n",
        "    'criterion': ['squared_error'],\n",
        "    'random_state':[0]}\n",
        "\n",
        "rs= RandomizedSearchCV(estimator= RandomForestRegressor(), param_distributions=param, n_iter=50, random_state=0, scoring='neg_mean_absolute_error',cv=10,n_jobs=-1)\n",
        "rs.fit(X_train,y_train)\n",
        "# Get the best accuracy  using the best_score_ attribute of the grid search obj\n",
        "best_score= rs.best_score_\n",
        "# Get the best parameters corresponding to this accuracy\n",
        "best_parameters=rs.best_params_\n",
        "\n",
        "print(\"Best Loss:\", best_score) \n",
        "print(\"Best Parameters:\", best_parameters )"
      ],
      "metadata": {
        "colab": {
          "base_uri": "https://localhost:8080/"
        },
        "id": "-VU7aBQadY22",
        "outputId": "f188a781-8802-45c7-aa50-647e176348e0"
      },
      "execution_count": 7,
      "outputs": [
        {
          "output_type": "stream",
          "name": "stdout",
          "text": [
            "Best Loss: -2.3304399230564994\n",
            "Best Parameters: {'random_state': 0, 'n_estimators': 200, 'max_features': 'log2', 'max_depth': 20, 'criterion': 'squared_error'}\n"
          ]
        }
      ]
    },
    {
      "cell_type": "markdown",
      "source": [
        "### Fit the model using the best found *hyperparameters* "
      ],
      "metadata": {
        "id": "nnxabDIgxLU_"
      }
    },
    {
      "cell_type": "code",
      "source": [
        "model= RandomForestRegressor(random_state= 0, n_estimators= 200, max_features= 'log2', max_depth= 20, criterion= 'squared_error')\n",
        "model.fit(X_train,y_train)"
      ],
      "metadata": {
        "colab": {
          "base_uri": "https://localhost:8080/"
        },
        "id": "QjZa-MFXw_GX",
        "outputId": "d8fac67f-70ba-48ef-a5cb-15ae6b07c422"
      },
      "execution_count": 8,
      "outputs": [
        {
          "output_type": "execute_result",
          "data": {
            "text/plain": [
              "RandomForestRegressor(max_depth=20, max_features='log2', n_estimators=200,\n",
              "                      random_state=0)"
            ]
          },
          "metadata": {},
          "execution_count": 8
        }
      ]
    },
    {
      "cell_type": "markdown",
      "source": [
        "### Evaluate The Model"
      ],
      "metadata": {
        "id": "aBv-rZUpyR6u"
      }
    },
    {
      "cell_type": "code",
      "source": [
        "from sklearn.metrics import mean_absolute_error\n",
        "\n",
        "y_pred=model.predict(X_test)\n",
        "\n",
        "print (\"Mean absolute error: \", mean_absolute_error(y_test, y_pred) )\n",
        "\n"
      ],
      "metadata": {
        "colab": {
          "base_uri": "https://localhost:8080/"
        },
        "id": "h6nz8oa9yVCG",
        "outputId": "75e78782-4b86-412e-ec39-cd2c57c4f2ca"
      },
      "execution_count": 9,
      "outputs": [
        {
          "output_type": "stream",
          "name": "stdout",
          "text": [
            "Mean absolute error:  2.2764070392548894\n"
          ]
        }
      ]
    }
  ]
}