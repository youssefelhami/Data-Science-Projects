{
  "nbformat": 4,
  "nbformat_minor": 0,
  "metadata": {
    "colab": {
      "provenance": []
    },
    "kernelspec": {
      "name": "python3",
      "display_name": "Python 3"
    },
    "language_info": {
      "name": "python"
    }
  },
  "cells": [
    {
      "cell_type": "markdown",
      "source": [
        "## Random Forrest"
      ],
      "metadata": {
        "id": "df23jhTsT4K4"
      }
    },
    {
      "cell_type": "code",
      "execution_count": 1,
      "metadata": {
        "id": "osO36NAkTv13"
      },
      "outputs": [],
      "source": [
        "import numpy as np\n",
        "import pandas as pd"
      ]
    },
    {
      "cell_type": "markdown",
      "source": [
        "### Importing the dataset and creating the train and test sets"
      ],
      "metadata": {
        "id": "eLAAsc5qU_2-"
      }
    },
    {
      "cell_type": "code",
      "source": [
        "dataset= pd.read_csv(\"Data.csv\")\n",
        "X=dataset.iloc[:,1:-1].values\n",
        "y= dataset.iloc[:,-1].values"
      ],
      "metadata": {
        "id": "ckUVEZUSULzV"
      },
      "execution_count": 2,
      "outputs": []
    },
    {
      "cell_type": "code",
      "source": [
        "print(X)"
      ],
      "metadata": {
        "colab": {
          "base_uri": "https://localhost:8080/"
        },
        "id": "W8w7HfsSeB2o",
        "outputId": "24260209-f56d-446e-9136-b9eb3cf70963"
      },
      "execution_count": 3,
      "outputs": [
        {
          "output_type": "stream",
          "name": "stdout",
          "text": [
            "[[ 5  1  1 ...  3  1  1]\n",
            " [ 5  4  4 ...  3  2  1]\n",
            " [ 3  1  1 ...  3  1  1]\n",
            " ...\n",
            " [ 5 10 10 ...  8 10  2]\n",
            " [ 4  8  6 ... 10  6  1]\n",
            " [ 4  8  8 ... 10  4  1]]\n"
          ]
        }
      ]
    },
    {
      "cell_type": "code",
      "source": [
        "print(y)"
      ],
      "metadata": {
        "colab": {
          "base_uri": "https://localhost:8080/"
        },
        "id": "hkj4trymeDzs",
        "outputId": "48c1135a-59c8-4eae-c889-aebd3440c166"
      },
      "execution_count": 4,
      "outputs": [
        {
          "output_type": "stream",
          "name": "stdout",
          "text": [
            "[2 2 2 2 2 4 2 2 2 2 2 2 4 2 4 4 2 2 4 2 4 4 2 2 4 2 2 2 2 2 2 4 2 2 2 4 2\n",
            " 4 4 4 4 4 4 2 4 2 2 4 4 4 4 4 4 4 4 4 4 4 4 2 4 4 2 4 2 4 4 2 2 4 2 4 4 2\n",
            " 2 2 2 2 2 2 2 2 4 4 4 4 2 2 2 2 2 2 2 2 2 2 4 4 4 4 2 4 4 4 4 4 2 4 2 4 4\n",
            " 4 2 2 2 4 2 2 2 2 4 4 4 2 4 2 4 2 2 2 4 2 2 2 2 2 2 2 2 4 2 2 4 2 2 4 2 4\n",
            " 4 2 2 4 2 2 4 4 2 2 2 2 4 4 2 2 2 2 2 4 4 4 2 4 2 4 2 2 2 4 4 2 4 4 4 2 4\n",
            " 4 2 2 2 2 2 2 2 2 4 4 2 2 2 4 4 2 2 2 4 4 2 4 4 4 2 2 4 2 2 4 4 4 4 2 4 4\n",
            " 2 4 4 4 2 4 2 4 4 4 4 2 2 2 2 2 2 4 4 2 2 4 2 4 4 4 2 2 2 2 4 4 4 4 4 2 4\n",
            " 4 4 2 4 2 4 4 2 2 2 2 4 2 2 4 4 4 4 4 2 4 4 2 2 4 4 2 2 4 4 2 4 2 4 4 2 2\n",
            " 4 2 2 2 4 2 2 4 4 2 2 4 2 4 2 2 4 2 4 4 4 2 2 4 4 2 4 2 2 4 4 2 2 2 4 2 2\n",
            " 2 4 4 2 2 2 4 2 2 4 4 4 4 4 4 2 2 2 2 4 4 2 2 2 2 2 2 2 2 2 2 2 2 2 4 2 2\n",
            " 2 2 4 2 2 2 2 4 2 2 2 2 2 2 2 2 4 2 2 2 2 2 2 2 2 2 2 4 2 4 2 4 2 2 2 2 4\n",
            " 2 2 2 4 2 4 2 2 2 2 2 2 2 4 4 2 2 2 4 2 2 2 2 2 2 2 2 4 2 2 2 4 2 4 4 4 2\n",
            " 2 2 2 2 2 2 4 4 4 2 2 2 2 2 2 2 2 2 2 2 4 2 2 4 4 2 2 2 4 4 4 2 4 2 4 2 2\n",
            " 2 2 2 2 2 2 2 2 2 2 4 2 2 2 2 2 2 2 4 4 2 2 2 4 2 2 4 4 2 2 2 2 2 2 4 2 2\n",
            " 2 2 2 2 2 2 2 2 2 2 2 2 2 4 2 2 4 2 2 2 2 2 2 2 2 2 2 2 2 2 2 2 4 2 2 4 4\n",
            " 4 4 2 2 4 2 2 2 2 2 2 4 4 2 2 2 4 2 4 2 4 4 4 2 4 2 2 2 2 2 2 2 2 4 4 4 2\n",
            " 2 4 2 4 4 4 2 2 2 2 2 2 2 2 2 2 2 2 4 2 2 2 2 2 2 4 2 2 4 2 2 2 2 2 2 2 2\n",
            " 2 2 2 4 2 2 2 2 2 2 2 2 2 4 2 2 2 2 2 2 2 2 2 4 4 4 2 2 2 2 2 2 2 2 2 4 4\n",
            " 2 2 2 2 2 2 2 2 2 4 2 2 2 2 4 4 4]\n"
          ]
        }
      ]
    },
    {
      "cell_type": "code",
      "source": [
        "from sklearn.model_selection import train_test_split\n",
        "X_train , X_test, y_train, y_test= train_test_split(X,y, test_size=0.2, random_state=0)"
      ],
      "metadata": {
        "id": "alSqFZWJVb5B"
      },
      "execution_count": 5,
      "outputs": []
    },
    {
      "cell_type": "markdown",
      "source": [
        "### Applying Grid Search + K-Fold Cross Valdiation to find the best model hyper-parameters"
      ],
      "metadata": {
        "id": "NHNNYhqCWgJg"
      }
    },
    {
      "cell_type": "code",
      "source": [
        "from sklearn.model_selection import GridSearchCV\n",
        "from sklearn.ensemble import RandomForestClassifier\n",
        "# Create the Grid of parameters to test\n",
        "grid = {'n_estimators' : [ 10,20 ,30 ,40 ,50 ,60 ,70 ,80 ,90 ,100],\n",
        "    'max_features' : ['sqrt', 'log2'],\n",
        "    'max_depth' : [2,4,6,8],\n",
        "    'criterion': ['gini', 'entropy'],\n",
        "    'random_state':[0]}\n",
        "\n",
        "gs= GridSearchCV(estimator= RandomForestClassifier(), param_grid=grid, scoring='accuracy',cv=10,n_jobs=-1)\n",
        "gs.fit(X_train,y_train)\n",
        "# Get the best accuracy  using the best_score_ attribute of the grid search obj\n",
        "best_accuracy= gs.best_score_\n",
        "# Get the best parameters corresponding to this accuracy\n",
        "best_parameters=gs.best_params_\n",
        "\n",
        "print(\"Best Accuracy:\", best_accuracy) \n",
        "print(\"Best Parameters:\", best_parameters )\n"
      ],
      "metadata": {
        "colab": {
          "base_uri": "https://localhost:8080/"
        },
        "id": "zvij-iReWagQ",
        "outputId": "303d57fc-d287-41ad-a888-004f0b9641d6"
      },
      "execution_count": 6,
      "outputs": [
        {
          "output_type": "stream",
          "name": "stdout",
          "text": [
            "Best Accuracy: 0.9743097643097643\n",
            "Best Parameters: {'criterion': 'entropy', 'max_depth': 4, 'max_features': 'sqrt', 'n_estimators': 20, 'random_state': 0}\n"
          ]
        }
      ]
    },
    {
      "cell_type": "markdown",
      "source": [
        "### Applying Random Search + K-Fold Cross Valdiation to find the best model hyper-parameters"
      ],
      "metadata": {
        "id": "9ud5Z4p7jDjh"
      }
    },
    {
      "cell_type": "code",
      "source": [
        "from sklearn.model_selection import RandomizedSearchCV\n",
        "\n",
        "\n",
        "param = {'n_estimators' : [ int(x) for x in (np.linspace(start = 10, stop = 200, num = 20))],\n",
        "    'max_features' : ['sqrt', 'log2'],\n",
        "    'max_depth' : [int(x) for x in np.linspace(start = 2, stop = 20, num = 10)],\n",
        "    'criterion': ['gini', 'entropy'],\n",
        "    'random_state':[0]}\n",
        "\n",
        "rs= RandomizedSearchCV(estimator= RandomForestClassifier(), param_distributions=param, n_iter=50, random_state=0, scoring='accuracy',cv=10,n_jobs=-1)\n",
        "rs.fit(X_train,y_train)\n",
        "# Get the best accuracy  using the best_score_ attribute of the grid search obj\n",
        "best_accuracy= rs.best_score_\n",
        "# Get the best parameters corresponding to this accuracy\n",
        "best_parameters=rs.best_params_\n",
        "\n",
        "print(\"Best Accuracy:\", best_accuracy) \n",
        "print(\"Best Parameters:\", best_parameters )"
      ],
      "metadata": {
        "colab": {
          "base_uri": "https://localhost:8080/"
        },
        "id": "-VU7aBQadY22",
        "outputId": "33425250-8015-46e0-ad93-3977d1b3aede"
      },
      "execution_count": 7,
      "outputs": [
        {
          "output_type": "stream",
          "name": "stdout",
          "text": [
            "Best Accuracy: 0.9706734006734008\n",
            "Best Parameters: {'random_state': 0, 'n_estimators': 160, 'max_features': 'sqrt', 'max_depth': 4, 'criterion': 'gini'}\n"
          ]
        }
      ]
    },
    {
      "cell_type": "markdown",
      "source": [
        "### Fit the model using the best found *hyperparameters* "
      ],
      "metadata": {
        "id": "nnxabDIgxLU_"
      }
    },
    {
      "cell_type": "code",
      "source": [
        "model= RandomForestClassifier(criterion='entropy', max_depth = 4, max_features='sqrt', n_estimators= 20, random_state=0)\n",
        "model.fit(X_train,y_train)"
      ],
      "metadata": {
        "colab": {
          "base_uri": "https://localhost:8080/"
        },
        "id": "QjZa-MFXw_GX",
        "outputId": "869c7439-55db-4470-c18c-dd48aeae044f"
      },
      "execution_count": 8,
      "outputs": [
        {
          "output_type": "execute_result",
          "data": {
            "text/plain": [
              "RandomForestClassifier(criterion='entropy', max_depth=4, max_features='sqrt',\n",
              "                       n_estimators=20, random_state=0)"
            ]
          },
          "metadata": {},
          "execution_count": 8
        }
      ]
    },
    {
      "cell_type": "markdown",
      "source": [
        "### Evaluate The Model"
      ],
      "metadata": {
        "id": "aBv-rZUpyR6u"
      }
    },
    {
      "cell_type": "code",
      "source": [
        "from sklearn.metrics import accuracy_score , recall_score, precision_score,f1_score, roc_curve,auc,confusion_matrix, ConfusionMatrixDisplay\n",
        "import matplotlib.pyplot as plt\n",
        "\n",
        "# Predict the X_test\n",
        "y_pred=model.predict(X_test)\n",
        "\n",
        "# Create the confusion matrix\n",
        "cm = confusion_matrix(y_test, y_pred)\n",
        "disp = ConfusionMatrixDisplay(confusion_matrix=cm ,display_labels=[\"Benign\",\"Malignant\"])\n",
        "disp.plot(cmap=plt.cm.OrRd)\n",
        "plt.xlabel(\"Predicted labels\")\n",
        "plt.ylabel(\"Actual labels\")\n",
        "plt.show()\n",
        "\n",
        "# Caluclate the performance metrics\n",
        "print(\"Accuracy : \", accuracy_score(y_test, y_pred))\n",
        "print(\"Recall : \",recall_score(y_test, y_pred,pos_label=4))\n",
        "print(\"Precision: \", precision_score(y_test, y_pred,pos_label=4))\n",
        "print(\"F1-score: \", f1_score(y_test, y_pred,pos_label=4))\n",
        "# Plotting the ROC curve and calculating the AUC\n",
        "# get false and true positive rates\n",
        "y_pred_prob=model.predict_proba(X_test)\n",
        "fpr, tpr, thresholds = roc_curve(y_test, y_pred_prob[:,1], pos_label=4)\n",
        "# get area under the curve\n",
        "roc_auc = auc(fpr, tpr)\n",
        "print (\"AUC: \",roc_auc)\n",
        "# plot ROC curve\n",
        "plt.plot(fpr, tpr, color='green')\n",
        "plt.title('ROC Curve ')\n",
        "plt.xlabel('False Positive Rate')\n",
        "plt.ylabel('True Positive Rate (Recall)')\n",
        "plt.show()"
      ],
      "metadata": {
        "colab": {
          "base_uri": "https://localhost:8080/",
          "height": 644
        },
        "id": "76xYuDOE1-Vm",
        "outputId": "0de9c9aa-9876-4f6c-ed4d-ce7196b4dd23"
      },
      "execution_count": 9,
      "outputs": [
        {
          "output_type": "display_data",
          "data": {
            "text/plain": [
              "<Figure size 432x288 with 2 Axes>"
            ],
            "image/png": "[encoded data removed]"
          },
          "metadata": {
            "needs_background": "light"
          }
        },
        {
          "output_type": "stream",
          "name": "stdout",
          "text": [
            "Accuracy :  0.9635036496350365\n",
            "Recall :  0.98\n",
            "Precision:  0.9245283018867925\n",
            "F1-score:  0.9514563106796116\n",
            "AUC:  0.9942528735632183\n"
          ]
        },
        {
          "output_type": "display_data",
          "data": {
            "text/plain": [
              "<Figure size 432x288 with 1 Axes>"
            ],
            "image/png": "[encoded data removed]"
          },
          "metadata": {
            "needs_background": "light"
          }
        }
      ]
    },
    {
      "cell_type": "code",
      "source": [
        "# Confirming the results from the confusion matrix\n",
        "accuracy=(83+49)/(83+49+4+1)\n",
        "recall= (49)/(49+1)\n",
        "precision = (49)/(49+4)\n",
        "print(\"Accuracy : \", accuracy )\n",
        "print(\"Recall : \",recall)\n",
        "print(\"Precision: \", precision)\n",
        "print(\"F1-score: \", 2*(precision*recall/(precision+recall)))"
      ],
      "metadata": {
        "colab": {
          "base_uri": "https://localhost:8080/"
        },
        "id": "Xiqlb_w1P30V",
        "outputId": "4ed2fdf0-e80b-442b-9536-8dea45a018ba"
      },
      "execution_count": 10,
      "outputs": [
        {
          "output_type": "stream",
          "name": "stdout",
          "text": [
            "Accuracy :  0.9635036496350365\n",
            "Recall :  0.98\n",
            "Precision:  0.9245283018867925\n",
            "F1-score:  0.9514563106796116\n"
          ]
        }
      ]
    },
    {
      "cell_type": "code",
      "source": [
        "model.classes_"
      ],
      "metadata": {
        "colab": {
          "base_uri": "https://localhost:8080/"
        },
        "id": "7Qujn3LS7kJg",
        "outputId": "51c4341b-7527-4c10-bc9d-1a319853919a"
      },
      "execution_count": 11,
      "outputs": [
        {
          "output_type": "execute_result",
          "data": {
            "text/plain": [
              "array([2, 4])"
            ]
          },
          "metadata": {},
          "execution_count": 11
        }
      ]
    },
    {
      "cell_type": "code",
      "source": [
        "model.predict(X_test)"
      ],
      "metadata": {
        "colab": {
          "base_uri": "https://localhost:8080/"
        },
        "id": "ov-KPy7h9Km-",
        "outputId": "b269d42e-b696-4172-bc7b-836a65785be4"
      },
      "execution_count": 12,
      "outputs": [
        {
          "output_type": "execute_result",
          "data": {
            "text/plain": [
              "array([2, 2, 4, 4, 2, 2, 2, 4, 2, 2, 4, 2, 4, 2, 2, 2, 4, 4, 4, 2, 2, 2,\n",
              "       4, 2, 4, 4, 2, 2, 2, 4, 2, 4, 4, 2, 2, 2, 4, 4, 2, 4, 2, 2, 2, 2,\n",
              "       2, 2, 2, 4, 2, 2, 4, 2, 4, 2, 2, 2, 4, 4, 2, 4, 2, 2, 2, 2, 2, 2,\n",
              "       2, 2, 4, 4, 2, 2, 2, 2, 2, 2, 4, 2, 2, 2, 4, 2, 4, 2, 2, 4, 2, 4,\n",
              "       4, 4, 4, 2, 4, 4, 4, 4, 4, 4, 4, 2, 2, 2, 4, 4, 2, 2, 4, 2, 2, 2,\n",
              "       4, 2, 2, 4, 2, 2, 2, 4, 2, 2, 2, 4, 2, 2, 4, 4, 2, 4, 2, 4, 2, 2,\n",
              "       4, 2, 2, 4, 2])"
            ]
          },
          "metadata": {},
          "execution_count": 12
        }
      ]
    },
    {
      "cell_type": "code",
      "source": [
        "model.predict_proba(X_test)"
      ],
      "metadata": {
        "colab": {
          "base_uri": "https://localhost:8080/"
        },
        "id": "p5K85G5_9r1O",
        "outputId": "b013331b-b952-4e95-bee1-80e7ce287320"
      },
      "execution_count": 13,
      "outputs": [
        {
          "output_type": "execute_result",
          "data": {
            "text/plain": [
              "array([[9.74733536e-01, 2.52664640e-02],\n",
              "       [9.99497804e-01, 5.02196024e-04],\n",
              "       [1.07994822e-01, 8.92005178e-01],\n",
              "       [7.03422243e-02, 9.29657776e-01],\n",
              "       [9.99497804e-01, 5.02196024e-04],\n",
              "       [9.57287252e-01, 4.27127478e-02],\n",
              "       [9.65620586e-01, 3.43794144e-02],\n",
              "       [2.62754041e-02, 9.73724596e-01],\n",
              "       [9.40291455e-01, 5.97085452e-02],\n",
              "       [9.99497804e-01, 5.02196024e-04],\n",
              "       [1.51928286e-02, 9.84807171e-01],\n",
              "       [9.99497804e-01, 5.02196024e-04],\n",
              "       [2.56874288e-03, 9.97431257e-01],\n",
              "       [9.99497804e-01, 5.02196024e-04],\n",
              "       [9.97043651e-01, 2.95634921e-03],\n",
              "       [5.93110719e-01, 4.06889281e-01],\n",
              "       [1.36816214e-02, 9.86318379e-01],\n",
              "       [6.97740425e-02, 9.30225958e-01],\n",
              "       [3.55862033e-02, 9.64413797e-01],\n",
              "       [9.96880252e-01, 3.11974790e-03],\n",
              "       [9.99497804e-01, 5.02196024e-04],\n",
              "       [9.99497804e-01, 5.02196024e-04],\n",
              "       [1.78388555e-01, 8.21611445e-01],\n",
              "       [9.99497804e-01, 5.02196024e-04],\n",
              "       [4.65587418e-02, 9.53441258e-01],\n",
              "       [2.32231316e-02, 9.76776868e-01],\n",
              "       [9.65620586e-01, 3.43794144e-02],\n",
              "       [9.99497804e-01, 5.02196024e-04],\n",
              "       [9.99497804e-01, 5.02196024e-04],\n",
              "       [4.61515332e-02, 9.53848467e-01],\n",
              "       [9.99497804e-01, 5.02196024e-04],\n",
              "       [1.51928286e-02, 9.84807171e-01],\n",
              "       [2.11776860e-03, 9.97882231e-01],\n",
              "       [9.99497804e-01, 5.02196024e-04],\n",
              "       [9.99497804e-01, 5.02196024e-04],\n",
              "       [9.99497804e-01, 5.02196024e-04],\n",
              "       [1.42904221e-02, 9.85709578e-01],\n",
              "       [9.21853663e-02, 9.07814634e-01],\n",
              "       [9.99497804e-01, 5.02196024e-04],\n",
              "       [1.12273770e-01, 8.87726230e-01],\n",
              "       [9.96271998e-01, 3.72800248e-03],\n",
              "       [8.85708121e-01, 1.14291879e-01],\n",
              "       [9.84427245e-01, 1.55727554e-02],\n",
              "       [9.99497804e-01, 5.02196024e-04],\n",
              "       [9.99497804e-01, 5.02196024e-04],\n",
              "       [9.96271998e-01, 3.72800248e-03],\n",
              "       [9.95908433e-01, 4.09156718e-03],\n",
              "       [2.56874288e-03, 9.97431257e-01],\n",
              "       [9.96720026e-01, 3.27997380e-03],\n",
              "       [9.99497804e-01, 5.02196024e-04],\n",
              "       [6.89605323e-02, 9.31039468e-01],\n",
              "       [9.95908433e-01, 4.09156718e-03],\n",
              "       [7.39422570e-02, 9.26057743e-01],\n",
              "       [9.99497804e-01, 5.02196024e-04],\n",
              "       [9.96880252e-01, 3.11974790e-03],\n",
              "       [9.84733536e-01, 1.52664640e-02],\n",
              "       [1.70539791e-02, 9.82946021e-01],\n",
              "       [2.04403858e-01, 7.95596142e-01],\n",
              "       [9.92682626e-01, 7.31737363e-03],\n",
              "       [6.30443647e-02, 9.36955635e-01],\n",
              "       [9.99497804e-01, 5.02196024e-04],\n",
              "       [9.96271998e-01, 3.72800248e-03],\n",
              "       [9.99497804e-01, 5.02196024e-04],\n",
              "       [9.99497804e-01, 5.02196024e-04],\n",
              "       [9.99497804e-01, 5.02196024e-04],\n",
              "       [9.99497804e-01, 5.02196024e-04],\n",
              "       [9.99497804e-01, 5.02196024e-04],\n",
              "       [9.99497804e-01, 5.02196024e-04],\n",
              "       [8.17385044e-02, 9.18261496e-01],\n",
              "       [4.89414518e-01, 5.10585482e-01],\n",
              "       [9.98361440e-01, 1.63855966e-03],\n",
              "       [9.99497804e-01, 5.02196024e-04],\n",
              "       [9.99497804e-01, 5.02196024e-04],\n",
              "       [9.99497804e-01, 5.02196024e-04],\n",
              "       [9.78261374e-01, 2.17386260e-02],\n",
              "       [9.99497804e-01, 5.02196024e-04],\n",
              "       [1.64576318e-02, 9.83542368e-01],\n",
              "       [9.99497804e-01, 5.02196024e-04],\n",
              "       [9.99497804e-01, 5.02196024e-04],\n",
              "       [9.99497804e-01, 5.02196024e-04],\n",
              "       [1.51928286e-02, 9.84807171e-01],\n",
              "       [9.96720026e-01, 3.27997380e-03],\n",
              "       [6.86347106e-02, 9.31365289e-01],\n",
              "       [9.99497804e-01, 5.02196024e-04],\n",
              "       [9.99497804e-01, 5.02196024e-04],\n",
              "       [2.11776860e-03, 9.97882231e-01],\n",
              "       [9.61165966e-01, 3.88340336e-02],\n",
              "       [1.22268242e-01, 8.77731758e-01],\n",
              "       [2.56874288e-03, 9.97431257e-01],\n",
              "       [4.16599879e-01, 5.83400121e-01],\n",
              "       [1.67895221e-02, 9.83210478e-01],\n",
              "       [9.99497804e-01, 5.02196024e-04],\n",
              "       [1.26570229e-01, 8.73429771e-01],\n",
              "       [3.98309020e-01, 6.01690980e-01],\n",
              "       [4.55248217e-01, 5.44751783e-01],\n",
              "       [2.87896679e-01, 7.12103321e-01],\n",
              "       [1.11023138e-01, 8.88976862e-01],\n",
              "       [6.97740425e-02, 9.30225958e-01],\n",
              "       [2.64914297e-01, 7.35085703e-01],\n",
              "       [9.99497804e-01, 5.02196024e-04],\n",
              "       [9.99497804e-01, 5.02196024e-04],\n",
              "       [9.99497804e-01, 5.02196024e-04],\n",
              "       [9.90939074e-03, 9.90090609e-01],\n",
              "       [6.94023988e-02, 9.30597601e-01],\n",
              "       [9.99497804e-01, 5.02196024e-04],\n",
              "       [9.40291455e-01, 5.97085452e-02],\n",
              "       [5.54309327e-03, 9.94456907e-01],\n",
              "       [7.12001550e-01, 2.87998450e-01],\n",
              "       [9.99497804e-01, 5.02196024e-04],\n",
              "       [9.99497804e-01, 5.02196024e-04],\n",
              "       [8.62836247e-02, 9.13716375e-01],\n",
              "       [9.96720026e-01, 3.27997380e-03],\n",
              "       [9.99497804e-01, 5.02196024e-04],\n",
              "       [1.37222403e-02, 9.86277760e-01],\n",
              "       [9.99497804e-01, 5.02196024e-04],\n",
              "       [8.33391053e-01, 1.66608947e-01],\n",
              "       [9.99497804e-01, 5.02196024e-04],\n",
              "       [3.37351738e-01, 6.62648262e-01],\n",
              "       [9.99497804e-01, 5.02196024e-04],\n",
              "       [9.99497804e-01, 5.02196024e-04],\n",
              "       [9.99497804e-01, 5.02196024e-04],\n",
              "       [8.49563307e-02, 9.15043669e-01],\n",
              "       [9.99497804e-01, 5.02196024e-04],\n",
              "       [9.99497804e-01, 5.02196024e-04],\n",
              "       [1.51928286e-02, 9.84807171e-01],\n",
              "       [2.11776860e-03, 9.97882231e-01],\n",
              "       [9.74733536e-01, 2.52664640e-02],\n",
              "       [2.08820217e-01, 7.91179783e-01],\n",
              "       [9.99497804e-01, 5.02196024e-04],\n",
              "       [1.46177686e-02, 9.85382231e-01],\n",
              "       [8.99497804e-01, 1.00502196e-01],\n",
              "       [9.99497804e-01, 5.02196024e-04],\n",
              "       [2.26348234e-02, 9.77365177e-01],\n",
              "       [9.98361440e-01, 1.63855966e-03],\n",
              "       [9.99497804e-01, 5.02196024e-04],\n",
              "       [1.76859504e-02, 9.82314050e-01],\n",
              "       [9.99497804e-01, 5.02196024e-04]])"
            ]
          },
          "metadata": {},
          "execution_count": 13
        }
      ]
    },
    {
      "cell_type": "code",
      "source": [
        "y_pro=model.predict_proba(X_test)\n",
        "y_pro[:,1]"
      ],
      "metadata": {
        "colab": {
          "base_uri": "https://localhost:8080/"
        },
        "id": "h00CKex3-T4g",
        "outputId": "034dfcf8-f89b-449e-92d8-9d7b8e61c9ae"
      },
      "execution_count": 14,
      "outputs": [
        {
          "output_type": "execute_result",
          "data": {
            "text/plain": [
              "array([2.52664640e-02, 5.02196024e-04, 8.92005178e-01, 9.29657776e-01,\n",
              "       5.02196024e-04, 4.27127478e-02, 3.43794144e-02, 9.73724596e-01,\n",
              "       5.97085452e-02, 5.02196024e-04, 9.84807171e-01, 5.02196024e-04,\n",
              "       9.97431257e-01, 5.02196024e-04, 2.95634921e-03, 4.06889281e-01,\n",
              "       9.86318379e-01, 9.30225958e-01, 9.64413797e-01, 3.11974790e-03,\n",
              "       5.02196024e-04, 5.02196024e-04, 8.21611445e-01, 5.02196024e-04,\n",
              "       9.53441258e-01, 9.76776868e-01, 3.43794144e-02, 5.02196024e-04,\n",
              "       5.02196024e-04, 9.53848467e-01, 5.02196024e-04, 9.84807171e-01,\n",
              "       9.97882231e-01, 5.02196024e-04, 5.02196024e-04, 5.02196024e-04,\n",
              "       9.85709578e-01, 9.07814634e-01, 5.02196024e-04, 8.87726230e-01,\n",
              "       3.72800248e-03, 1.14291879e-01, 1.55727554e-02, 5.02196024e-04,\n",
              "       5.02196024e-04, 3.72800248e-03, 4.09156718e-03, 9.97431257e-01,\n",
              "       3.27997380e-03, 5.02196024e-04, 9.31039468e-01, 4.09156718e-03,\n",
              "       9.26057743e-01, 5.02196024e-04, 3.11974790e-03, 1.52664640e-02,\n",
              "       9.82946021e-01, 7.95596142e-01, 7.31737363e-03, 9.36955635e-01,\n",
              "       5.02196024e-04, 3.72800248e-03, 5.02196024e-04, 5.02196024e-04,\n",
              "       5.02196024e-04, 5.02196024e-04, 5.02196024e-04, 5.02196024e-04,\n",
              "       9.18261496e-01, 5.10585482e-01, 1.63855966e-03, 5.02196024e-04,\n",
              "       5.02196024e-04, 5.02196024e-04, 2.17386260e-02, 5.02196024e-04,\n",
              "       9.83542368e-01, 5.02196024e-04, 5.02196024e-04, 5.02196024e-04,\n",
              "       9.84807171e-01, 3.27997380e-03, 9.31365289e-01, 5.02196024e-04,\n",
              "       5.02196024e-04, 9.97882231e-01, 3.88340336e-02, 8.77731758e-01,\n",
              "       9.97431257e-01, 5.83400121e-01, 9.83210478e-01, 5.02196024e-04,\n",
              "       8.73429771e-01, 6.01690980e-01, 5.44751783e-01, 7.12103321e-01,\n",
              "       8.88976862e-01, 9.30225958e-01, 7.35085703e-01, 5.02196024e-04,\n",
              "       5.02196024e-04, 5.02196024e-04, 9.90090609e-01, 9.30597601e-01,\n",
              "       5.02196024e-04, 5.97085452e-02, 9.94456907e-01, 2.87998450e-01,\n",
              "       5.02196024e-04, 5.02196024e-04, 9.13716375e-01, 3.27997380e-03,\n",
              "       5.02196024e-04, 9.86277760e-01, 5.02196024e-04, 1.66608947e-01,\n",
              "       5.02196024e-04, 6.62648262e-01, 5.02196024e-04, 5.02196024e-04,\n",
              "       5.02196024e-04, 9.15043669e-01, 5.02196024e-04, 5.02196024e-04,\n",
              "       9.84807171e-01, 9.97882231e-01, 2.52664640e-02, 7.91179783e-01,\n",
              "       5.02196024e-04, 9.85382231e-01, 1.00502196e-01, 5.02196024e-04,\n",
              "       9.77365177e-01, 1.63855966e-03, 5.02196024e-04, 9.82314050e-01,\n",
              "       5.02196024e-04])"
            ]
          },
          "metadata": {},
          "execution_count": 14
        }
      ]
    },
    {
      "cell_type": "code",
      "source": [],
      "metadata": {
        "id": "BhNcej_SC95q"
      },
      "execution_count": 14,
      "outputs": []
    }
  ]
}