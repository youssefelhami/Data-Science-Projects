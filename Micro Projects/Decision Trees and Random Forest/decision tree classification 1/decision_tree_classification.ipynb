{
 "cells": [
  {
   "cell_type": "markdown",
   "metadata": {
    "colab_type": "text",
    "id": "0MRC0e0KhQ0S"
   },
   "source": [
    "# Decision Tree Classification"
   ]
  },
  {
   "cell_type": "markdown",
   "metadata": {
    "colab_type": "text",
    "id": "LWd1UlMnhT2s"
   },
   "source": [
    "## Importing the libraries"
   ]
  },
  {
   "cell_type": "code",
   "execution_count": 1,
   "metadata": {
    "colab": {},
    "colab_type": "code",
    "id": "YvGPUQaHhXfL"
   },
   "outputs": [],
   "source": [
    "import numpy as np\n",
    "import matplotlib.pyplot as plt\n",
    "import pandas as pd"
   ]
  },
  {
   "cell_type": "markdown",
   "metadata": {
    "colab_type": "text",
    "id": "K1VMqkGvhc3-"
   },
   "source": [
    "## Importing the dataset"
   ]
  },
  {
   "cell_type": "code",
   "execution_count": 2,
   "metadata": {
    "colab": {},
    "colab_type": "code",
    "id": "M52QDmyzhh9s"
   },
   "outputs": [],
   "source": [
    "dataset = pd.read_csv('Social_Network_Ads.csv')\n",
    "X = dataset.iloc[:, :-1].values\n",
    "y = dataset.iloc[:, -1].values"
   ]
  },
  {
   "cell_type": "markdown",
   "metadata": {
    "colab_type": "text",
    "id": "YvxIPVyMhmKp"
   },
   "source": [
    "## Splitting the dataset into the Training set and Test set"
   ]
  },
  {
   "cell_type": "code",
   "execution_count": 3,
   "metadata": {
    "colab": {},
    "colab_type": "code",
    "id": "AVzJWAXIhxoC"
   },
   "outputs": [],
   "source": [
    "from sklearn.model_selection import train_test_split\n",
    "X_train, X_test, y_train, y_test = train_test_split(X, y, test_size = 0.25, random_state = 0)"
   ]
  },
  {
   "cell_type": "code",
   "execution_count": 4,
   "metadata": {
    "colab": {
     "base_uri": "https://localhost:8080/",
     "height": 1000
    },
    "colab_type": "code",
    "executionInfo": {
     "elapsed": 2065,
     "status": "ok",
     "timestamp": 1588269312367,
     "user": {
      "displayName": "Hadelin de Ponteves",
      "photoUrl": "https://lh3.googleusercontent.com/a-/AOh14GhEuXdT7eQweUmRPW8_laJuPggSK6hfvpl5a6WBaA=s64",
      "userId": "15047218817161520419"
     },
     "user_tz": -240
    },
    "id": "P3nS3-6r1i2B",
    "outputId": "fa90271e-3c0a-43c2-ba6c-cfce4819e98e"
   },
   "outputs": [
    {
     "name": "stdout",
     "output_type": "stream",
     "text": [
      "[[    44  39000]\n",
      " [    32 120000]\n",
      " [    38  50000]\n",
      " [    32 135000]\n",
      " [    52  21000]\n",
      " [    53 104000]\n",
      " [    39  42000]\n",
      " [    38  61000]\n",
      " [    36  50000]\n",
      " [    36  63000]\n",
      " [    35  25000]\n",
      " [    35  50000]\n",
      " [    42  73000]\n",
      " [    47  49000]\n",
      " [    59  29000]\n",
      " [    49  65000]\n",
      " [    45 131000]\n",
      " [    31  89000]\n",
      " [    46  82000]\n",
      " [    47  51000]\n",
      " [    26  15000]\n",
      " [    60 102000]\n",
      " [    38 112000]\n",
      " [    40 107000]\n",
      " [    42  53000]\n",
      " [    35  59000]\n",
      " [    48  41000]\n",
      " [    48 134000]\n",
      " [    38 113000]\n",
      " [    29 148000]\n",
      " [    26  15000]\n",
      " [    60  42000]\n",
      " [    24  19000]\n",
      " [    42 149000]\n",
      " [    46  96000]\n",
      " [    28  59000]\n",
      " [    39  96000]\n",
      " [    28  89000]\n",
      " [    41  72000]\n",
      " [    45  26000]\n",
      " [    33  69000]\n",
      " [    20  82000]\n",
      " [    31  74000]\n",
      " [    42  80000]\n",
      " [    35  72000]\n",
      " [    33 149000]\n",
      " [    40  71000]\n",
      " [    51 146000]\n",
      " [    46  79000]\n",
      " [    35  75000]\n",
      " [    38  51000]\n",
      " [    36  75000]\n",
      " [    37  78000]\n",
      " [    38  61000]\n",
      " [    60 108000]\n",
      " [    20  82000]\n",
      " [    57  74000]\n",
      " [    42  65000]\n",
      " [    26  80000]\n",
      " [    46 117000]\n",
      " [    35  61000]\n",
      " [    21  68000]\n",
      " [    28  44000]\n",
      " [    41  87000]\n",
      " [    37  33000]\n",
      " [    27  90000]\n",
      " [    39  42000]\n",
      " [    28 123000]\n",
      " [    31 118000]\n",
      " [    25  87000]\n",
      " [    35  71000]\n",
      " [    37  70000]\n",
      " [    35  39000]\n",
      " [    47  23000]\n",
      " [    35 147000]\n",
      " [    48 138000]\n",
      " [    26  86000]\n",
      " [    25  79000]\n",
      " [    52 138000]\n",
      " [    51  23000]\n",
      " [    35  60000]\n",
      " [    33 113000]\n",
      " [    30 107000]\n",
      " [    48  33000]\n",
      " [    41  80000]\n",
      " [    48  96000]\n",
      " [    31  18000]\n",
      " [    31  71000]\n",
      " [    43 129000]\n",
      " [    59  76000]\n",
      " [    18  44000]\n",
      " [    36 118000]\n",
      " [    42  90000]\n",
      " [    47  30000]\n",
      " [    26  43000]\n",
      " [    40  78000]\n",
      " [    46  59000]\n",
      " [    59  42000]\n",
      " [    46  74000]\n",
      " [    35  91000]\n",
      " [    28  59000]\n",
      " [    40  57000]\n",
      " [    59 143000]\n",
      " [    57  26000]\n",
      " [    52  38000]\n",
      " [    47 113000]\n",
      " [    53 143000]\n",
      " [    35  27000]\n",
      " [    58 101000]\n",
      " [    45  45000]\n",
      " [    23  82000]\n",
      " [    46  23000]\n",
      " [    42  65000]\n",
      " [    28  84000]\n",
      " [    38  59000]\n",
      " [    26  84000]\n",
      " [    29  28000]\n",
      " [    37  71000]\n",
      " [    22  55000]\n",
      " [    48  35000]\n",
      " [    49  28000]\n",
      " [    38  65000]\n",
      " [    27  17000]\n",
      " [    46  28000]\n",
      " [    48 141000]\n",
      " [    26  17000]\n",
      " [    35  97000]\n",
      " [    39  59000]\n",
      " [    24  27000]\n",
      " [    32  18000]\n",
      " [    46  88000]\n",
      " [    35  58000]\n",
      " [    56  60000]\n",
      " [    47  34000]\n",
      " [    40  72000]\n",
      " [    32 100000]\n",
      " [    19  21000]\n",
      " [    25  90000]\n",
      " [    35  88000]\n",
      " [    28  32000]\n",
      " [    50  20000]\n",
      " [    40  59000]\n",
      " [    50  44000]\n",
      " [    35  72000]\n",
      " [    40 142000]\n",
      " [    46  32000]\n",
      " [    39  71000]\n",
      " [    20  74000]\n",
      " [    29  75000]\n",
      " [    31  76000]\n",
      " [    47  25000]\n",
      " [    40  61000]\n",
      " [    34 112000]\n",
      " [    38  80000]\n",
      " [    42  75000]\n",
      " [    47  47000]\n",
      " [    39  75000]\n",
      " [    19  25000]\n",
      " [    37  80000]\n",
      " [    36  60000]\n",
      " [    41  52000]\n",
      " [    36 125000]\n",
      " [    48  29000]\n",
      " [    36 126000]\n",
      " [    51 134000]\n",
      " [    27  57000]\n",
      " [    38  71000]\n",
      " [    39  61000]\n",
      " [    22  27000]\n",
      " [    33  60000]\n",
      " [    48  74000]\n",
      " [    58  23000]\n",
      " [    53  72000]\n",
      " [    32 117000]\n",
      " [    54  70000]\n",
      " [    30  80000]\n",
      " [    58  95000]\n",
      " [    26  52000]\n",
      " [    45  79000]\n",
      " [    24  55000]\n",
      " [    40  75000]\n",
      " [    33  28000]\n",
      " [    44 139000]\n",
      " [    22  18000]\n",
      " [    33  51000]\n",
      " [    43 133000]\n",
      " [    24  32000]\n",
      " [    46  22000]\n",
      " [    35  55000]\n",
      " [    54 104000]\n",
      " [    48 119000]\n",
      " [    35  53000]\n",
      " [    37 144000]\n",
      " [    23  66000]\n",
      " [    37 137000]\n",
      " [    31  58000]\n",
      " [    33  41000]\n",
      " [    45  22000]\n",
      " [    30  15000]\n",
      " [    19  19000]\n",
      " [    49  74000]\n",
      " [    39 122000]\n",
      " [    35  73000]\n",
      " [    39  71000]\n",
      " [    24  23000]\n",
      " [    41  72000]\n",
      " [    29  83000]\n",
      " [    54  26000]\n",
      " [    35  44000]\n",
      " [    37  75000]\n",
      " [    29  47000]\n",
      " [    31  68000]\n",
      " [    42  54000]\n",
      " [    30 135000]\n",
      " [    52 114000]\n",
      " [    50  36000]\n",
      " [    56 133000]\n",
      " [    29  61000]\n",
      " [    30  89000]\n",
      " [    26  16000]\n",
      " [    33  31000]\n",
      " [    41  72000]\n",
      " [    36  33000]\n",
      " [    55 125000]\n",
      " [    48 131000]\n",
      " [    41  71000]\n",
      " [    30  62000]\n",
      " [    37  72000]\n",
      " [    41  63000]\n",
      " [    58  47000]\n",
      " [    30 116000]\n",
      " [    20  49000]\n",
      " [    37  74000]\n",
      " [    41  59000]\n",
      " [    49  89000]\n",
      " [    28  79000]\n",
      " [    53  82000]\n",
      " [    40  57000]\n",
      " [    60  34000]\n",
      " [    35 108000]\n",
      " [    21  72000]\n",
      " [    38  71000]\n",
      " [    39 106000]\n",
      " [    37  57000]\n",
      " [    26  72000]\n",
      " [    35  23000]\n",
      " [    54 108000]\n",
      " [    30  17000]\n",
      " [    39 134000]\n",
      " [    29  43000]\n",
      " [    33  43000]\n",
      " [    35  38000]\n",
      " [    41  45000]\n",
      " [    41  72000]\n",
      " [    39 134000]\n",
      " [    27 137000]\n",
      " [    21  16000]\n",
      " [    26  32000]\n",
      " [    31  66000]\n",
      " [    39  73000]\n",
      " [    41  79000]\n",
      " [    47  50000]\n",
      " [    41  30000]\n",
      " [    37  93000]\n",
      " [    60  46000]\n",
      " [    25  22000]\n",
      " [    28  37000]\n",
      " [    38  55000]\n",
      " [    36  54000]\n",
      " [    20  36000]\n",
      " [    56 104000]\n",
      " [    40  57000]\n",
      " [    42 108000]\n",
      " [    20  23000]\n",
      " [    40  65000]\n",
      " [    47  20000]\n",
      " [    18  86000]\n",
      " [    35  79000]\n",
      " [    57  33000]\n",
      " [    34  72000]\n",
      " [    49  39000]\n",
      " [    27  31000]\n",
      " [    19  70000]\n",
      " [    39  79000]\n",
      " [    26  81000]\n",
      " [    25  80000]\n",
      " [    28  85000]\n",
      " [    55  39000]\n",
      " [    50  88000]\n",
      " [    49  88000]\n",
      " [    52 150000]\n",
      " [    35  65000]\n",
      " [    42  54000]\n",
      " [    34  43000]\n",
      " [    37  52000]\n",
      " [    48  30000]\n",
      " [    29  43000]\n",
      " [    36  52000]\n",
      " [    27  54000]\n",
      " [    26 118000]]\n"
     ]
    }
   ],
   "source": [
    "print(X_train)"
   ]
  },
  {
   "cell_type": "code",
   "execution_count": 5,
   "metadata": {
    "colab": {
     "base_uri": "https://localhost:8080/",
     "height": 171
    },
    "colab_type": "code",
    "executionInfo": {
     "elapsed": 2059,
     "status": "ok",
     "timestamp": 1588269312368,
     "user": {
      "displayName": "Hadelin de Ponteves",
      "photoUrl": "https://lh3.googleusercontent.com/a-/AOh14GhEuXdT7eQweUmRPW8_laJuPggSK6hfvpl5a6WBaA=s64",
      "userId": "15047218817161520419"
     },
     "user_tz": -240
    },
    "id": "8dpDLojm1mVG",
    "outputId": "4eaa18a3-6481-42bb-c409-7227565c7fe1"
   },
   "outputs": [
    {
     "name": "stdout",
     "output_type": "stream",
     "text": [
      "[0 1 0 1 1 1 0 0 0 0 0 0 1 1 1 0 1 0 0 1 0 1 0 1 0 0 1 1 1 1 0 1 0 1 0 0 1\n",
      " 0 0 1 0 0 0 0 0 1 1 1 1 0 0 0 1 0 1 0 1 0 0 1 0 0 0 1 0 0 0 1 1 0 0 1 0 1\n",
      " 1 1 0 0 1 1 0 0 1 1 0 1 0 0 1 1 0 1 1 1 0 0 0 0 0 1 0 0 1 1 1 1 1 0 1 1 0\n",
      " 1 0 0 0 0 0 0 0 1 1 0 0 1 0 0 1 0 0 0 1 0 1 1 0 1 0 0 0 0 1 0 0 0 1 1 0 0\n",
      " 0 0 1 0 1 0 0 0 1 0 0 0 0 1 1 1 0 0 0 0 0 0 1 1 1 1 1 0 1 0 0 0 0 0 1 0 0\n",
      " 0 0 0 0 1 1 0 1 0 1 0 0 1 0 0 0 1 0 0 0 0 0 1 0 0 0 0 0 1 0 1 1 0 0 0 0 0\n",
      " 0 1 1 0 0 0 0 1 0 0 0 0 1 0 1 0 1 0 0 0 1 0 0 0 1 0 1 0 0 0 0 0 1 1 0 0 0\n",
      " 0 0 1 0 1 1 0 0 0 0 0 1 0 1 0 0 1 0 0 1 0 1 0 0 0 0 0 0 1 1 1 1 0 0 0 0 1\n",
      " 0 0 0 0]\n"
     ]
    }
   ],
   "source": [
    "print(y_train)"
   ]
  },
  {
   "cell_type": "code",
   "execution_count": 6,
   "metadata": {
    "colab": {
     "base_uri": "https://localhost:8080/",
     "height": 1000
    },
    "colab_type": "code",
    "executionInfo": {
     "elapsed": 2055,
     "status": "ok",
     "timestamp": 1588269312369,
     "user": {
      "displayName": "Hadelin de Ponteves",
      "photoUrl": "https://lh3.googleusercontent.com/a-/AOh14GhEuXdT7eQweUmRPW8_laJuPggSK6hfvpl5a6WBaA=s64",
      "userId": "15047218817161520419"
     },
     "user_tz": -240
    },
    "id": "qbb7i0DH1qui",
    "outputId": "5c45ffab-4587-4828-8204-0f4fedf88980"
   },
   "outputs": [
    {
     "name": "stdout",
     "output_type": "stream",
     "text": [
      "[[    30  87000]\n",
      " [    38  50000]\n",
      " [    35  75000]\n",
      " [    30  79000]\n",
      " [    35  50000]\n",
      " [    27  20000]\n",
      " [    31  15000]\n",
      " [    36 144000]\n",
      " [    18  68000]\n",
      " [    47  43000]\n",
      " [    30  49000]\n",
      " [    28  55000]\n",
      " [    37  55000]\n",
      " [    39  77000]\n",
      " [    20  86000]\n",
      " [    32 117000]\n",
      " [    37  77000]\n",
      " [    19  85000]\n",
      " [    55 130000]\n",
      " [    35  22000]\n",
      " [    35  47000]\n",
      " [    47 144000]\n",
      " [    41  51000]\n",
      " [    47 105000]\n",
      " [    23  28000]\n",
      " [    49 141000]\n",
      " [    28  87000]\n",
      " [    29  80000]\n",
      " [    37  62000]\n",
      " [    32  86000]\n",
      " [    21  88000]\n",
      " [    37  79000]\n",
      " [    57  60000]\n",
      " [    37  53000]\n",
      " [    24  58000]\n",
      " [    18  52000]\n",
      " [    22  81000]\n",
      " [    34  43000]\n",
      " [    31  34000]\n",
      " [    49  36000]\n",
      " [    27  88000]\n",
      " [    41  52000]\n",
      " [    27  84000]\n",
      " [    35  20000]\n",
      " [    43 112000]\n",
      " [    27  58000]\n",
      " [    37  80000]\n",
      " [    52  90000]\n",
      " [    26  30000]\n",
      " [    49  86000]\n",
      " [    57 122000]\n",
      " [    34  25000]\n",
      " [    35  57000]\n",
      " [    34 115000]\n",
      " [    59  88000]\n",
      " [    45  32000]\n",
      " [    29  83000]\n",
      " [    26  80000]\n",
      " [    49  28000]\n",
      " [    23  20000]\n",
      " [    32  18000]\n",
      " [    60  42000]\n",
      " [    19  76000]\n",
      " [    36  99000]\n",
      " [    19  26000]\n",
      " [    60  83000]\n",
      " [    24  89000]\n",
      " [    27  58000]\n",
      " [    40  47000]\n",
      " [    42  70000]\n",
      " [    32 150000]\n",
      " [    35  77000]\n",
      " [    22  63000]\n",
      " [    45  22000]\n",
      " [    27  89000]\n",
      " [    18  82000]\n",
      " [    42  79000]\n",
      " [    40  60000]\n",
      " [    53  34000]\n",
      " [    47 107000]\n",
      " [    58 144000]\n",
      " [    59  83000]\n",
      " [    24  55000]\n",
      " [    26  35000]\n",
      " [    58  38000]\n",
      " [    42  80000]\n",
      " [    40  75000]\n",
      " [    59 130000]\n",
      " [    46  41000]\n",
      " [    41  60000]\n",
      " [    42  64000]\n",
      " [    37 146000]\n",
      " [    23  48000]\n",
      " [    25  33000]\n",
      " [    24  84000]\n",
      " [    27  96000]\n",
      " [    23  63000]\n",
      " [    48  33000]\n",
      " [    48  90000]\n",
      " [    42 104000]]\n"
     ]
    }
   ],
   "source": [
    "print(X_test)"
   ]
  },
  {
   "cell_type": "code",
   "execution_count": 7,
   "metadata": {
    "colab": {
     "base_uri": "https://localhost:8080/",
     "height": 68
    },
    "colab_type": "code",
    "executionInfo": {
     "elapsed": 2051,
     "status": "ok",
     "timestamp": 1588269312369,
     "user": {
      "displayName": "Hadelin de Ponteves",
      "photoUrl": "https://lh3.googleusercontent.com/a-/AOh14GhEuXdT7eQweUmRPW8_laJuPggSK6hfvpl5a6WBaA=s64",
      "userId": "15047218817161520419"
     },
     "user_tz": -240
    },
    "id": "kj1hnFAR1s5w",
    "outputId": "984874ad-447c-441b-decb-3c775d9d7936"
   },
   "outputs": [
    {
     "name": "stdout",
     "output_type": "stream",
     "text": [
      "[0 0 0 0 0 0 0 1 0 0 0 0 0 0 0 0 0 0 1 0 0 1 0 1 0 1 0 0 0 0 0 1 1 0 0 0 0\n",
      " 0 0 1 0 0 0 0 1 0 0 1 0 1 1 0 0 0 1 1 0 0 1 0 0 1 0 1 0 1 0 0 0 0 1 0 0 1\n",
      " 0 0 0 0 1 1 1 0 0 0 1 1 0 1 1 0 0 1 0 0 0 1 0 1 1 1]\n"
     ]
    }
   ],
   "source": [
    "print(y_test)"
   ]
  },
  {
   "cell_type": "markdown",
   "metadata": {
    "colab_type": "text",
    "id": "bb6jCOCQiAmP"
   },
   "source": [
    "## Training the Decision Tree Classification model on the Training set"
   ]
  },
  {
   "cell_type": "code",
   "execution_count": 8,
   "metadata": {},
   "outputs": [
    {
     "data": {
      "text/plain": [
       "DecisionTreeClassifier(criterion='entropy', min_samples_leaf=2, random_state=0)"
      ]
     },
     "execution_count": 8,
     "metadata": {},
     "output_type": "execute_result"
    }
   ],
   "source": [
    "from sklearn.tree import DecisionTreeClassifier\n",
    "classifier = DecisionTreeClassifier(criterion='entropy',min_samples_leaf=2, random_state=0)\n",
    "classifier.fit(X_train,y_train)"
   ]
  },
  {
   "cell_type": "markdown",
   "metadata": {
    "colab_type": "text",
    "id": "yyxW5b395mR2"
   },
   "source": [
    "## Predicting a new result"
   ]
  },
  {
   "cell_type": "code",
   "execution_count": 9,
   "metadata": {
    "colab": {
     "base_uri": "https://localhost:8080/",
     "height": 34
    },
    "colab_type": "code",
    "executionInfo": {
     "elapsed": 2034,
     "status": "ok",
     "timestamp": 1588269312371,
     "user": {
      "displayName": "Hadelin de Ponteves",
      "photoUrl": "https://lh3.googleusercontent.com/a-/AOh14GhEuXdT7eQweUmRPW8_laJuPggSK6hfvpl5a6WBaA=s64",
      "userId": "15047218817161520419"
     },
     "user_tz": -240
    },
    "id": "f8YOXsQy58rP",
    "outputId": "cd4b80f5-59ad-40b1-d5f3-8fc98b87bd66"
   },
   "outputs": [
    {
     "name": "stdout",
     "output_type": "stream",
     "text": [
      "[0]\n"
     ]
    }
   ],
   "source": [
    "print(classifier.predict([[30,87000]]))"
   ]
  },
  {
   "cell_type": "markdown",
   "metadata": {
    "colab_type": "text",
    "id": "vKYVQH-l5NpE"
   },
   "source": [
    "## Predicting the Test set results"
   ]
  },
  {
   "cell_type": "code",
   "execution_count": 10,
   "metadata": {
    "colab": {
     "base_uri": "https://localhost:8080/",
     "height": 1000
    },
    "colab_type": "code",
    "executionInfo": {
     "elapsed": 2029,
     "status": "ok",
     "timestamp": 1588269312371,
     "user": {
      "displayName": "Hadelin de Ponteves",
      "photoUrl": "https://lh3.googleusercontent.com/a-/AOh14GhEuXdT7eQweUmRPW8_laJuPggSK6hfvpl5a6WBaA=s64",
      "userId": "15047218817161520419"
     },
     "user_tz": -240
    },
    "id": "p6VMTb2O4hwM",
    "outputId": "05404102-6c3b-4c34-a180-e2a1d5a85e57",
    "scrolled": true
   },
   "outputs": [
    {
     "name": "stdout",
     "output_type": "stream",
     "text": [
      "[[0 0]\n",
      " [0 0]\n",
      " [0 0]\n",
      " [0 0]\n",
      " [0 0]\n",
      " [0 0]\n",
      " [0 0]\n",
      " [1 1]\n",
      " [0 0]\n",
      " [0 0]\n",
      " [0 0]\n",
      " [0 0]\n",
      " [0 0]\n",
      " [1 0]\n",
      " [0 0]\n",
      " [1 0]\n",
      " [1 0]\n",
      " [0 0]\n",
      " [1 1]\n",
      " [0 0]\n",
      " [0 0]\n",
      " [1 1]\n",
      " [0 0]\n",
      " [0 1]\n",
      " [0 0]\n",
      " [1 1]\n",
      " [0 0]\n",
      " [0 0]\n",
      " [0 0]\n",
      " [0 0]\n",
      " [0 0]\n",
      " [0 1]\n",
      " [1 1]\n",
      " [0 0]\n",
      " [0 0]\n",
      " [0 0]\n",
      " [0 0]\n",
      " [0 0]\n",
      " [0 0]\n",
      " [1 1]\n",
      " [0 0]\n",
      " [0 0]\n",
      " [0 0]\n",
      " [0 0]\n",
      " [1 1]\n",
      " [0 0]\n",
      " [0 0]\n",
      " [1 1]\n",
      " [0 0]\n",
      " [1 1]\n",
      " [1 1]\n",
      " [0 0]\n",
      " [0 0]\n",
      " [0 0]\n",
      " [1 1]\n",
      " [1 1]\n",
      " [0 0]\n",
      " [0 0]\n",
      " [1 1]\n",
      " [0 0]\n",
      " [0 0]\n",
      " [0 1]\n",
      " [0 0]\n",
      " [1 1]\n",
      " [0 0]\n",
      " [1 1]\n",
      " [0 0]\n",
      " [0 0]\n",
      " [0 0]\n",
      " [0 0]\n",
      " [1 1]\n",
      " [0 0]\n",
      " [0 0]\n",
      " [0 1]\n",
      " [0 0]\n",
      " [0 0]\n",
      " [0 0]\n",
      " [0 0]\n",
      " [1 1]\n",
      " [0 1]\n",
      " [1 1]\n",
      " [1 0]\n",
      " [0 0]\n",
      " [0 0]\n",
      " [1 1]\n",
      " [0 1]\n",
      " [0 0]\n",
      " [1 1]\n",
      " [1 1]\n",
      " [0 0]\n",
      " [0 0]\n",
      " [1 1]\n",
      " [0 0]\n",
      " [0 0]\n",
      " [0 0]\n",
      " [1 1]\n",
      " [0 0]\n",
      " [1 1]\n",
      " [1 1]\n",
      " [1 1]]\n"
     ]
    }
   ],
   "source": [
    "y_pred = classifier.predict(X_test)\n",
    "print(np.concatenate((y_pred.reshape(len(y_pred),1), y_test.reshape(len(y_test),1)),1))"
   ]
  },
  {
   "cell_type": "markdown",
   "metadata": {
    "colab_type": "text",
    "id": "h4Hwj34ziWQW"
   },
   "source": [
    "## Calculating the Accuracy of the Model"
   ]
  },
  {
   "cell_type": "code",
   "execution_count": 11,
   "metadata": {
    "colab": {
     "base_uri": "https://localhost:8080/",
     "height": 68
    },
    "colab_type": "code",
    "executionInfo": {
     "elapsed": 2026,
     "status": "ok",
     "timestamp": 1588269312371,
     "user": {
      "displayName": "Hadelin de Ponteves",
      "photoUrl": "https://lh3.googleusercontent.com/a-/AOh14GhEuXdT7eQweUmRPW8_laJuPggSK6hfvpl5a6WBaA=s64",
      "userId": "15047218817161520419"
     },
     "user_tz": -240
    },
    "id": "D6bpZwUiiXic",
    "outputId": "031d8132-ae7a-4a4c-b2dd-26b88da40ed6"
   },
   "outputs": [
    {
     "data": {
      "text/plain": [
       "0.9"
      ]
     },
     "execution_count": 11,
     "metadata": {},
     "output_type": "execute_result"
    }
   ],
   "source": [
    "from sklearn.metrics import  accuracy_score\n",
    "accuracy_score(y_test, y_pred)"
   ]
  },
  {
   "cell_type": "markdown",
   "metadata": {
    "colab_type": "text",
    "id": "6OMC_P0diaoD"
   },
   "source": [
    "## Visualising the Training set results"
   ]
  },
  {
   "cell_type": "code",
   "execution_count": 12,
   "metadata": {
    "colab": {
     "base_uri": "https://localhost:8080/",
     "height": 349
    },
    "colab_type": "code",
    "executionInfo": {
     "elapsed": 30339,
     "status": "ok",
     "timestamp": 1588269340691,
     "user": {
      "displayName": "Hadelin de Ponteves",
      "photoUrl": "https://lh3.googleusercontent.com/a-/AOh14GhEuXdT7eQweUmRPW8_laJuPggSK6hfvpl5a6WBaA=s64",
      "userId": "15047218817161520419"
     },
     "user_tz": -240
    },
    "id": "_NOjKvZRid5l",
    "outputId": "cd4f51f4-8260-40bf-aa20-e238d60ccc1e"
   },
   "outputs": [
    {
     "name": "stderr",
     "output_type": "stream",
     "text": [
      "*c* argument looks like a single numeric RGB or RGBA sequence, which should be avoided as value-mapping will have precedence in case its length matches with *x* & *y*.  Please use the *color* keyword-argument or provide a 2-D array with a single row if you intend to specify the same RGB or RGBA value for all points.\n",
      "*c* argument looks like a single numeric RGB or RGBA sequence, which should be avoided as value-mapping will have precedence in case its length matches with *x* & *y*.  Please use the *color* keyword-argument or provide a 2-D array with a single row if you intend to specify the same RGB or RGBA value for all points.\n"
     ]
    },
    {
     "data": {
      "image/png": "[encoded data removed]",
      "text/plain": [
       "<Figure size 432x288 with 1 Axes>"
      ]
     },
     "metadata": {
      "needs_background": "light"
     },
     "output_type": "display_data"
    }
   ],
   "source": [
    "from matplotlib.colors import ListedColormap\n",
    "X_set, y_set = X_train, y_train\n",
    "X1, X2 = np.meshgrid(np.arange(start = X_set[:, 0].min() - 10, stop = X_set[:, 0].max() + 10, step = 0.25),\n",
    "                     np.arange(start = X_set[:, 1].min() - 1000, stop = X_set[:, 1].max() + 1000, step = 0.25))\n",
    "plt.contourf(X1, X2, classifier.predict(np.array([X1.ravel(), X2.ravel()]).T).reshape(X1.shape),\n",
    "             alpha = 0.75, cmap = ListedColormap(('red', 'green')))\n",
    "plt.xlim(X1.min(), X1.max())\n",
    "plt.ylim(X2.min(), X2.max())\n",
    "for i, j in enumerate(np.unique(y_set)):\n",
    "    plt.scatter(X_set[y_set == j, 0], X_set[y_set == j, 1], c = ListedColormap(('red', 'green'))(i), label = j)\n",
    "plt.title('Decision Tree Classification (Training set)')\n",
    "plt.xlabel('Age')\n",
    "plt.ylabel('Estimated Salary')\n",
    "plt.legend()\n",
    "plt.show()"
   ]
  },
  {
   "cell_type": "markdown",
   "metadata": {
    "colab_type": "text",
    "id": "SZ-j28aPihZx"
   },
   "source": [
    "## Visualising the Test set results"
   ]
  },
  {
   "cell_type": "code",
   "execution_count": 13,
   "metadata": {
    "colab": {
     "base_uri": "https://localhost:8080/",
     "height": 349
    },
    "colab_type": "code",
    "executionInfo": {
     "elapsed": 55016,
     "status": "ok",
     "timestamp": 1588269365372,
     "user": {
      "displayName": "Hadelin de Ponteves",
      "photoUrl": "https://lh3.googleusercontent.com/a-/AOh14GhEuXdT7eQweUmRPW8_laJuPggSK6hfvpl5a6WBaA=s64",
      "userId": "15047218817161520419"
     },
     "user_tz": -240
    },
    "id": "qeTjz2vDilAC",
    "outputId": "c9624a3f-544e-4033-8cb8-bb4b7b08ff4a",
    "scrolled": true
   },
   "outputs": [
    {
     "name": "stderr",
     "output_type": "stream",
     "text": [
      "*c* argument looks like a single numeric RGB or RGBA sequence, which should be avoided as value-mapping will have precedence in case its length matches with *x* & *y*.  Please use the *color* keyword-argument or provide a 2-D array with a single row if you intend to specify the same RGB or RGBA value for all points.\n",
      "*c* argument looks like a single numeric RGB or RGBA sequence, which should be avoided as value-mapping will have precedence in case its length matches with *x* & *y*.  Please use the *color* keyword-argument or provide a 2-D array with a single row if you intend to specify the same RGB or RGBA value for all points.\n"
     ]
    },
    {
     "data": {
      "image/png": "[encoded data removed]",
      "text/plain": [
       "<Figure size 432x288 with 1 Axes>"
      ]
     },
     "metadata": {
      "needs_background": "light"
     },
     "output_type": "display_data"
    }
   ],
   "source": [
    "from matplotlib.colors import ListedColormap\n",
    "X_set, y_set = X_test, y_test\n",
    "X1, X2 = np.meshgrid(np.arange(start = X_set[:, 0].min() - 10, stop = X_set[:, 0].max() + 10, step = 0.25),\n",
    "                     np.arange(start = X_set[:, 1].min() - 1000, stop = X_set[:, 1].max() + 1000, step = 0.25))\n",
    "plt.contourf(X1, X2, classifier.predict(np.array([X1.ravel(), X2.ravel()]).T).reshape(X1.shape), alpha = 0.75, cmap = ListedColormap(('red', 'green')))\n",
    "plt.xlim(X1.min(), X1.max())\n",
    "plt.ylim(X2.min(), X2.max())\n",
    "for i, j in enumerate(np.unique(y_set)):\n",
    "    plt.scatter(X_set[y_set == j, 0], X_set[y_set == j, 1], c = ListedColormap(('red', 'green'))(i), label = j)\n",
    "plt.title('Decision Tree Classification (Test set)')\n",
    "plt.xlabel('Age')\n",
    "plt.ylabel('Estimated Salary')\n",
    "plt.legend()\n",
    "plt.show()"
   ]
  }
 ],
 "metadata": {
  "colab": {
   "authorship_tag": "ABX9TyP02NrvZmmq4qjp5mwU3Mr2",
   "collapsed_sections": [],
   "machine_shape": "hm",
   "name": "decision_tree_classification.ipynb",
   "provenance": [],
   "toc_visible": true
  },
  "kernelspec": {
   "display_name": "Python 3",
   "language": "python",
   "name": "python3"
  },
  "language_info": {
   "codemirror_mode": {
    "name": "ipython",
    "version": 3
   },
   "file_extension": ".py",
   "mimetype": "text/x-python",
   "name": "python",
   "nbconvert_exporter": "python",
   "pygments_lexer": "ipython3",
   "version": "3.8.8"
  }
 },
 "nbformat": 4,
 "nbformat_minor": 1
}
