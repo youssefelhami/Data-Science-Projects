{
  "nbformat": 4,
  "nbformat_minor": 0,
  "metadata": {
    "colab": {
      "provenance": [],
      "collapsed_sections": []
    },
    "kernelspec": {
      "name": "python3",
      "display_name": "Python 3"
    },
    "language_info": {
      "name": "python"
    },
    "accelerator": "GPU"
  },
  "cells": [
    {
      "cell_type": "markdown",
      "source": [
        "# Data Preprocessing "
      ],
      "metadata": {
        "id": "xOr4QmlojB7m"
      }
    },
    {
      "cell_type": "markdown",
      "source": [
        "## Importing the Libraries "
      ],
      "metadata": {
        "id": "7pgQQaDOpqs2"
      }
    },
    {
      "cell_type": "code",
      "source": [
        "import numpy as np\n",
        "import pandas as pd\n",
        "import tensorflow as tf "
      ],
      "metadata": {
        "id": "Nb2jSfNtqBzb"
      },
      "execution_count": null,
      "outputs": []
    },
    {
      "cell_type": "markdown",
      "source": [
        "## Importing the dataset "
      ],
      "metadata": {
        "id": "s9F9SDh2sB1v"
      }
    },
    {
      "cell_type": "code",
      "source": [
        "dataset = pd.read_csv('Churn_Modelling.csv')\n",
        "X = dataset.iloc[:, 3:-1].values\n",
        "y = dataset.iloc[:, -1].values"
      ],
      "metadata": {
        "id": "5YMVTFN7sGWu"
      },
      "execution_count": null,
      "outputs": []
    },
    {
      "cell_type": "code",
      "source": [
        "print(X)"
      ],
      "metadata": {
        "id": "JTzaLGCws7_H",
        "colab": {
          "base_uri": "https://localhost:8080/"
        },
        "outputId": "259c6955-4a45-4715-9ee0-764a62e71632"
      },
      "execution_count": null,
      "outputs": [
        {
          "output_type": "stream",
          "name": "stdout",
          "text": [
            "[[619 'France' 'Female' ... 1 1 101348.88]\n",
            " [608 'Spain' 'Female' ... 0 1 112542.58]\n",
            " [502 'France' 'Female' ... 1 0 113931.57]\n",
            " ...\n",
            " [709 'France' 'Female' ... 0 1 42085.58]\n",
            " [772 'Germany' 'Male' ... 1 0 92888.52]\n",
            " [792 'France' 'Female' ... 1 0 38190.78]]\n"
          ]
        }
      ]
    },
    {
      "cell_type": "code",
      "source": [
        "print(y)"
      ],
      "metadata": {
        "id": "_olfF0zgtLQw",
        "colab": {
          "base_uri": "https://localhost:8080/"
        },
        "outputId": "b6caf0c5-35e0-48b3-bca7-8c2a77e58c37"
      },
      "execution_count": null,
      "outputs": [
        {
          "output_type": "stream",
          "name": "stdout",
          "text": [
            "[1 0 1 ... 1 1 0]\n"
          ]
        }
      ]
    },
    {
      "cell_type": "markdown",
      "source": [
        "## Splitting the dataset into train and test sets"
      ],
      "metadata": {
        "id": "FR5T3CkFwQ-w"
      }
    },
    {
      "cell_type": "code",
      "source": [
        "from sklearn.model_selection import train_test_split\n",
        "X_train , X_test, y_train , y_test = train_test_split(X,y,test_size=0.25,random_state=0)"
      ],
      "metadata": {
        "id": "senQxSMbwdXg"
      },
      "execution_count": null,
      "outputs": []
    },
    {
      "cell_type": "code",
      "source": [
        "print(X_train)"
      ],
      "metadata": {
        "id": "cXPT4gw8wmOq",
        "colab": {
          "base_uri": "https://localhost:8080/"
        },
        "outputId": "24402030-0727-4d7d-8801-9896e742506e"
      },
      "execution_count": null,
      "outputs": [
        {
          "output_type": "stream",
          "name": "stdout",
          "text": [
            "[[579 'Germany' 'Female' ... 0 0 5831.0]\n",
            " [750 'France' 'Female' ... 1 0 95611.47]\n",
            " [729 'Spain' 'Female' ... 1 1 42855.97]\n",
            " ...\n",
            " [738 'France' 'Male' ... 1 0 181429.87]\n",
            " [590 'Spain' 'Female' ... 1 1 148750.16]\n",
            " [623 'Germany' 'Female' ... 1 0 118855.26]]\n"
          ]
        }
      ]
    },
    {
      "cell_type": "code",
      "source": [
        "print(X_test)"
      ],
      "metadata": {
        "id": "__qchC_wwmwI",
        "colab": {
          "base_uri": "https://localhost:8080/"
        },
        "outputId": "87106ad6-53e9-434a-f052-b59f6369933d"
      },
      "execution_count": null,
      "outputs": [
        {
          "output_type": "stream",
          "name": "stdout",
          "text": [
            "[[597 'Germany' 'Female' ... 1 1 192852.67]\n",
            " [523 'France' 'Female' ... 1 0 128702.1]\n",
            " [706 'Spain' 'Female' ... 1 1 75732.25]\n",
            " ...\n",
            " [840 'France' 'Female' ... 1 0 84487.62]\n",
            " [679 'Germany' 'Male' ... 1 0 46522.68]\n",
            " [735 'France' 'Male' ... 0 0 72927.68]]\n"
          ]
        }
      ]
    },
    {
      "cell_type": "code",
      "source": [
        "print(y_train)"
      ],
      "metadata": {
        "id": "CnlMEq9swm5A",
        "colab": {
          "base_uri": "https://localhost:8080/"
        },
        "outputId": "fb73c665-0f89-4d25-8b74-2b8f22971539"
      },
      "execution_count": null,
      "outputs": [
        {
          "output_type": "stream",
          "name": "stdout",
          "text": [
            "[1 0 0 ... 0 0 1]\n"
          ]
        }
      ]
    },
    {
      "cell_type": "code",
      "source": [
        "print(y_test)"
      ],
      "metadata": {
        "id": "6BKiTLFCwnCB",
        "colab": {
          "base_uri": "https://localhost:8080/"
        },
        "outputId": "1144d613-6986-4827-f578-5be2ff0a2981"
      },
      "execution_count": null,
      "outputs": [
        {
          "output_type": "stream",
          "name": "stdout",
          "text": [
            "[0 1 0 ... 0 0 0]\n"
          ]
        }
      ]
    },
    {
      "cell_type": "markdown",
      "source": [
        "##Encode the categorical Variables"
      ],
      "metadata": {
        "id": "0iOLskxvtXFv"
      }
    },
    {
      "cell_type": "code",
      "source": [
        "from sklearn.preprocessing import LabelEncoder\n",
        "lb_obj= LabelEncoder() \n",
        "X_train[:,2]=lb_obj.fit_transform(X_train[:,2])\n",
        "X_test[:,2]=lb_obj.transform(X_test[:,2])\n"
      ],
      "metadata": {
        "id": "oqzVLc1itfFR"
      },
      "execution_count": null,
      "outputs": []
    },
    {
      "cell_type": "code",
      "source": [
        "print(X_train)"
      ],
      "metadata": {
        "id": "VfyT9SDcyKSB",
        "colab": {
          "base_uri": "https://localhost:8080/"
        },
        "outputId": "19fd62d3-1da9-4a72-8662-46b7d1a5ada2"
      },
      "execution_count": null,
      "outputs": [
        {
          "output_type": "stream",
          "name": "stdout",
          "text": [
            "[[579 'Germany' 0 ... 0 0 5831.0]\n",
            " [750 'France' 0 ... 1 0 95611.47]\n",
            " [729 'Spain' 0 ... 1 1 42855.97]\n",
            " ...\n",
            " [738 'France' 1 ... 1 0 181429.87]\n",
            " [590 'Spain' 0 ... 1 1 148750.16]\n",
            " [623 'Germany' 0 ... 1 0 118855.26]]\n"
          ]
        }
      ]
    },
    {
      "cell_type": "code",
      "source": [
        "print(X_test)"
      ],
      "metadata": {
        "id": "oEj0ym0LyMfe",
        "colab": {
          "base_uri": "https://localhost:8080/"
        },
        "outputId": "64d426ac-acf7-48fa-f15b-950681c0c49d"
      },
      "execution_count": null,
      "outputs": [
        {
          "output_type": "stream",
          "name": "stdout",
          "text": [
            "[[597 'Germany' 0 ... 1 1 192852.67]\n",
            " [523 'France' 0 ... 1 0 128702.1]\n",
            " [706 'Spain' 0 ... 1 1 75732.25]\n",
            " ...\n",
            " [840 'France' 0 ... 1 0 84487.62]\n",
            " [679 'Germany' 1 ... 1 0 46522.68]\n",
            " [735 'France' 1 ... 0 0 72927.68]]\n"
          ]
        }
      ]
    },
    {
      "cell_type": "code",
      "source": [
        "from sklearn.compose import ColumnTransformer\n",
        "from sklearn.preprocessing import OneHotEncoder\n",
        "ct_obj =  ColumnTransformer(transformers= [(\"encoder\", OneHotEncoder(),[1])] , remainder=\"passthrough\") \n",
        "X_train=np.array(ct_obj.fit_transform(X_train))\n",
        "X_test=np.array(ct_obj.transform(X_test))"
      ],
      "metadata": {
        "id": "jeBNyP7dyREl"
      },
      "execution_count": null,
      "outputs": []
    },
    {
      "cell_type": "code",
      "source": [
        "print(X_train)"
      ],
      "metadata": {
        "id": "KCfeyrFV1O-U",
        "colab": {
          "base_uri": "https://localhost:8080/"
        },
        "outputId": "33fe0a16-8621-48de-ebcc-5b91bbdce739"
      },
      "execution_count": null,
      "outputs": [
        {
          "output_type": "stream",
          "name": "stdout",
          "text": [
            "[[0.0 1.0 0.0 ... 0 0 5831.0]\n",
            " [1.0 0.0 0.0 ... 1 0 95611.47]\n",
            " [0.0 0.0 1.0 ... 1 1 42855.97]\n",
            " ...\n",
            " [1.0 0.0 0.0 ... 1 0 181429.87]\n",
            " [0.0 0.0 1.0 ... 1 1 148750.16]\n",
            " [0.0 1.0 0.0 ... 1 0 118855.26]]\n"
          ]
        }
      ]
    },
    {
      "cell_type": "code",
      "source": [
        "print(X_test)"
      ],
      "metadata": {
        "id": "euuQ1GQM1SjN",
        "colab": {
          "base_uri": "https://localhost:8080/"
        },
        "outputId": "7320d035-9765-4089-8365-5e3b6a01403c"
      },
      "execution_count": null,
      "outputs": [
        {
          "output_type": "stream",
          "name": "stdout",
          "text": [
            "[[0.0 1.0 0.0 ... 1 1 192852.67]\n",
            " [1.0 0.0 0.0 ... 1 0 128702.1]\n",
            " [0.0 0.0 1.0 ... 1 1 75732.25]\n",
            " ...\n",
            " [1.0 0.0 0.0 ... 1 0 84487.62]\n",
            " [0.0 1.0 0.0 ... 1 0 46522.68]\n",
            " [1.0 0.0 0.0 ... 0 0 72927.68]]\n"
          ]
        }
      ]
    },
    {
      "cell_type": "markdown",
      "source": [
        "## Feature Scalling "
      ],
      "metadata": {
        "id": "2zmgShwi10bK"
      }
    },
    {
      "cell_type": "code",
      "source": [
        "from sklearn.preprocessing import StandardScaler\n",
        "sc = StandardScaler()\n",
        "X_train = sc.fit_transform(X_train)\n",
        "X_test = sc.transform(X_test)"
      ],
      "metadata": {
        "id": "dm9fnE5U2a66"
      },
      "execution_count": null,
      "outputs": []
    },
    {
      "cell_type": "markdown",
      "source": [
        "# Creating the ANN"
      ],
      "metadata": {
        "id": "j3gx0jF82fUB"
      }
    },
    {
      "cell_type": "code",
      "source": [
        "ann_model=tf.keras.models.Sequential()"
      ],
      "metadata": {
        "id": "9yFfdwiS2mBy"
      },
      "execution_count": null,
      "outputs": []
    },
    {
      "cell_type": "code",
      "source": [
        "ann_model.add(tf.keras.layers.Dense(units=8,activation=\"relu\"))"
      ],
      "metadata": {
        "id": "LWJSIwanJFTR"
      },
      "execution_count": null,
      "outputs": []
    },
    {
      "cell_type": "code",
      "source": [
        "ann_model.add(tf.keras.layers.Dense(units=8,activation=\"relu\"))"
      ],
      "metadata": {
        "id": "V9NDltoKKFR0"
      },
      "execution_count": null,
      "outputs": []
    },
    {
      "cell_type": "code",
      "source": [
        "ann_model.add(tf.keras.layers.Dense(units=1,activation=\"sigmoid\"))"
      ],
      "metadata": {
        "id": "1_0d059pKRre"
      },
      "execution_count": null,
      "outputs": []
    },
    {
      "cell_type": "markdown",
      "source": [
        "# Compile the model"
      ],
      "metadata": {
        "id": "EJFPiL98KVF9"
      }
    },
    {
      "cell_type": "code",
      "source": [
        "ann_model.compile(optimizer=tf.keras.optimizers.Adam(learning_rate=0.001),loss=\"binary_crossentropy\",metrics=[\"accuracy\"])"
      ],
      "metadata": {
        "id": "wZuwZWLNKYp6"
      },
      "execution_count": null,
      "outputs": []
    },
    {
      "cell_type": "markdown",
      "source": [
        "# Fit the Model to the taining set"
      ],
      "metadata": {
        "id": "69eU0fAeKxys"
      }
    },
    {
      "cell_type": "code",
      "source": [
        "ann_model.fit(X_train,y_train,batch_size=32,epochs=100)"
      ],
      "metadata": {
        "colab": {
          "base_uri": "https://localhost:8080/"
        },
        "id": "nzZ_aW00LGAF",
        "outputId": "b8a33f32-82e9-4fa1-b565-608c908d66d2"
      },
      "execution_count": null,
      "outputs": [
        {
          "output_type": "stream",
          "name": "stdout",
          "text": [
            "Epoch 1/100\n",
            "235/235 [==============================] - 3s 3ms/step - loss: 0.4712 - accuracy: 0.7980\n",
            "Epoch 2/100\n",
            "235/235 [==============================] - 1s 3ms/step - loss: 0.4407 - accuracy: 0.8049\n",
            "Epoch 3/100\n",
            "235/235 [==============================] - 1s 3ms/step - loss: 0.4303 - accuracy: 0.8112\n",
            "Epoch 4/100\n",
            "235/235 [==============================] - 1s 3ms/step - loss: 0.4235 - accuracy: 0.8175\n",
            "Epoch 5/100\n",
            "235/235 [==============================] - 1s 3ms/step - loss: 0.4180 - accuracy: 0.8200\n",
            "Epoch 6/100\n",
            "235/235 [==============================] - 1s 3ms/step - loss: 0.4123 - accuracy: 0.8208\n",
            "Epoch 7/100\n",
            "235/235 [==============================] - 1s 3ms/step - loss: 0.4065 - accuracy: 0.8245\n",
            "Epoch 8/100\n",
            "235/235 [==============================] - 1s 3ms/step - loss: 0.4004 - accuracy: 0.8300\n",
            "Epoch 9/100\n",
            "235/235 [==============================] - 1s 3ms/step - loss: 0.3942 - accuracy: 0.8356\n",
            "Epoch 10/100\n",
            "235/235 [==============================] - 1s 3ms/step - loss: 0.3875 - accuracy: 0.8397\n",
            "Epoch 11/100\n",
            "235/235 [==============================] - 1s 3ms/step - loss: 0.3793 - accuracy: 0.8471\n",
            "Epoch 12/100\n",
            "235/235 [==============================] - 1s 3ms/step - loss: 0.3710 - accuracy: 0.8484\n",
            "Epoch 13/100\n",
            "235/235 [==============================] - 1s 3ms/step - loss: 0.3640 - accuracy: 0.8515\n",
            "Epoch 14/100\n",
            "235/235 [==============================] - 1s 3ms/step - loss: 0.3582 - accuracy: 0.8536\n",
            "Epoch 15/100\n",
            "235/235 [==============================] - 1s 3ms/step - loss: 0.3541 - accuracy: 0.8576\n",
            "Epoch 16/100\n",
            "235/235 [==============================] - 1s 3ms/step - loss: 0.3520 - accuracy: 0.8569\n",
            "Epoch 17/100\n",
            "235/235 [==============================] - 1s 3ms/step - loss: 0.3504 - accuracy: 0.8580\n",
            "Epoch 18/100\n",
            "235/235 [==============================] - 1s 3ms/step - loss: 0.3484 - accuracy: 0.8605\n",
            "Epoch 19/100\n",
            "235/235 [==============================] - 1s 3ms/step - loss: 0.3467 - accuracy: 0.8587\n",
            "Epoch 20/100\n",
            "235/235 [==============================] - 1s 3ms/step - loss: 0.3456 - accuracy: 0.8585\n",
            "Epoch 21/100\n",
            "235/235 [==============================] - 1s 4ms/step - loss: 0.3455 - accuracy: 0.8597\n",
            "Epoch 22/100\n",
            "235/235 [==============================] - 1s 3ms/step - loss: 0.3441 - accuracy: 0.8593\n",
            "Epoch 23/100\n",
            "235/235 [==============================] - 1s 3ms/step - loss: 0.3434 - accuracy: 0.8601\n",
            "Epoch 24/100\n",
            "235/235 [==============================] - 1s 3ms/step - loss: 0.3433 - accuracy: 0.8600\n",
            "Epoch 25/100\n",
            "235/235 [==============================] - 1s 3ms/step - loss: 0.3424 - accuracy: 0.8597\n",
            "Epoch 26/100\n",
            "235/235 [==============================] - 1s 3ms/step - loss: 0.3420 - accuracy: 0.8589\n",
            "Epoch 27/100\n",
            "235/235 [==============================] - 1s 3ms/step - loss: 0.3410 - accuracy: 0.8605\n",
            "Epoch 28/100\n",
            "235/235 [==============================] - 1s 3ms/step - loss: 0.3411 - accuracy: 0.8597\n",
            "Epoch 29/100\n",
            "235/235 [==============================] - 1s 3ms/step - loss: 0.3407 - accuracy: 0.8615\n",
            "Epoch 30/100\n",
            "235/235 [==============================] - 1s 3ms/step - loss: 0.3402 - accuracy: 0.8624\n",
            "Epoch 31/100\n",
            "235/235 [==============================] - 1s 3ms/step - loss: 0.3400 - accuracy: 0.8612\n",
            "Epoch 32/100\n",
            "235/235 [==============================] - 1s 3ms/step - loss: 0.3398 - accuracy: 0.8591\n",
            "Epoch 33/100\n",
            "235/235 [==============================] - 1s 3ms/step - loss: 0.3393 - accuracy: 0.8623\n",
            "Epoch 34/100\n",
            "235/235 [==============================] - 1s 3ms/step - loss: 0.3394 - accuracy: 0.8615\n",
            "Epoch 35/100\n",
            "235/235 [==============================] - 1s 3ms/step - loss: 0.3388 - accuracy: 0.8624\n",
            "Epoch 36/100\n",
            "235/235 [==============================] - 1s 3ms/step - loss: 0.3385 - accuracy: 0.8616\n",
            "Epoch 37/100\n",
            "235/235 [==============================] - 1s 3ms/step - loss: 0.3384 - accuracy: 0.8620\n",
            "Epoch 38/100\n",
            "235/235 [==============================] - 1s 3ms/step - loss: 0.3381 - accuracy: 0.8628\n",
            "Epoch 39/100\n",
            "235/235 [==============================] - 1s 3ms/step - loss: 0.3381 - accuracy: 0.8633\n",
            "Epoch 40/100\n",
            "235/235 [==============================] - 1s 3ms/step - loss: 0.3372 - accuracy: 0.8621\n",
            "Epoch 41/100\n",
            "235/235 [==============================] - 1s 3ms/step - loss: 0.3370 - accuracy: 0.8617\n",
            "Epoch 42/100\n",
            "235/235 [==============================] - 1s 3ms/step - loss: 0.3370 - accuracy: 0.8631\n",
            "Epoch 43/100\n",
            "235/235 [==============================] - 1s 3ms/step - loss: 0.3370 - accuracy: 0.8635\n",
            "Epoch 44/100\n",
            "235/235 [==============================] - 1s 3ms/step - loss: 0.3364 - accuracy: 0.8637\n",
            "Epoch 45/100\n",
            "235/235 [==============================] - 1s 3ms/step - loss: 0.3363 - accuracy: 0.8633\n",
            "Epoch 46/100\n",
            "235/235 [==============================] - 1s 3ms/step - loss: 0.3357 - accuracy: 0.8641\n",
            "Epoch 47/100\n",
            "235/235 [==============================] - 1s 3ms/step - loss: 0.3357 - accuracy: 0.8631\n",
            "Epoch 48/100\n",
            "235/235 [==============================] - 1s 3ms/step - loss: 0.3353 - accuracy: 0.8631\n",
            "Epoch 49/100\n",
            "235/235 [==============================] - 1s 3ms/step - loss: 0.3348 - accuracy: 0.8653\n",
            "Epoch 50/100\n",
            "235/235 [==============================] - 1s 3ms/step - loss: 0.3355 - accuracy: 0.8629\n",
            "Epoch 51/100\n",
            "235/235 [==============================] - 1s 3ms/step - loss: 0.3347 - accuracy: 0.8648\n",
            "Epoch 52/100\n",
            "235/235 [==============================] - 1s 3ms/step - loss: 0.3343 - accuracy: 0.8636\n",
            "Epoch 53/100\n",
            "235/235 [==============================] - 1s 3ms/step - loss: 0.3348 - accuracy: 0.8612\n",
            "Epoch 54/100\n",
            "235/235 [==============================] - 1s 3ms/step - loss: 0.3348 - accuracy: 0.8643\n",
            "Epoch 55/100\n",
            "235/235 [==============================] - 1s 3ms/step - loss: 0.3341 - accuracy: 0.8627\n",
            "Epoch 56/100\n",
            "235/235 [==============================] - 1s 3ms/step - loss: 0.3342 - accuracy: 0.8640\n",
            "Epoch 57/100\n",
            "235/235 [==============================] - 1s 3ms/step - loss: 0.3338 - accuracy: 0.8628\n",
            "Epoch 58/100\n",
            "235/235 [==============================] - 1s 3ms/step - loss: 0.3338 - accuracy: 0.8640\n",
            "Epoch 59/100\n",
            "235/235 [==============================] - 1s 3ms/step - loss: 0.3331 - accuracy: 0.8620\n",
            "Epoch 60/100\n",
            "235/235 [==============================] - 1s 3ms/step - loss: 0.3330 - accuracy: 0.8649\n",
            "Epoch 61/100\n",
            "235/235 [==============================] - 1s 3ms/step - loss: 0.3333 - accuracy: 0.8627\n",
            "Epoch 62/100\n",
            "235/235 [==============================] - 1s 3ms/step - loss: 0.3330 - accuracy: 0.8637\n",
            "Epoch 63/100\n",
            "235/235 [==============================] - 1s 3ms/step - loss: 0.3330 - accuracy: 0.8647\n",
            "Epoch 64/100\n",
            "235/235 [==============================] - 1s 3ms/step - loss: 0.3321 - accuracy: 0.8641\n",
            "Epoch 65/100\n",
            "235/235 [==============================] - 1s 3ms/step - loss: 0.3326 - accuracy: 0.8639\n",
            "Epoch 66/100\n",
            "235/235 [==============================] - 1s 3ms/step - loss: 0.3326 - accuracy: 0.8636\n",
            "Epoch 67/100\n",
            "235/235 [==============================] - 1s 3ms/step - loss: 0.3323 - accuracy: 0.8641\n",
            "Epoch 68/100\n",
            "235/235 [==============================] - 1s 3ms/step - loss: 0.3321 - accuracy: 0.8655\n",
            "Epoch 69/100\n",
            "235/235 [==============================] - 1s 3ms/step - loss: 0.3319 - accuracy: 0.8643\n",
            "Epoch 70/100\n",
            "235/235 [==============================] - 1s 3ms/step - loss: 0.3318 - accuracy: 0.8629\n",
            "Epoch 71/100\n",
            "235/235 [==============================] - 1s 3ms/step - loss: 0.3321 - accuracy: 0.8651\n",
            "Epoch 72/100\n",
            "235/235 [==============================] - 1s 3ms/step - loss: 0.3317 - accuracy: 0.8651\n",
            "Epoch 73/100\n",
            "235/235 [==============================] - 1s 3ms/step - loss: 0.3313 - accuracy: 0.8657\n",
            "Epoch 74/100\n",
            "235/235 [==============================] - 1s 3ms/step - loss: 0.3313 - accuracy: 0.8649\n",
            "Epoch 75/100\n",
            "235/235 [==============================] - 1s 3ms/step - loss: 0.3315 - accuracy: 0.8644\n",
            "Epoch 76/100\n",
            "235/235 [==============================] - 1s 3ms/step - loss: 0.3318 - accuracy: 0.8637\n",
            "Epoch 77/100\n",
            "235/235 [==============================] - 1s 3ms/step - loss: 0.3310 - accuracy: 0.8664\n",
            "Epoch 78/100\n",
            "235/235 [==============================] - 1s 3ms/step - loss: 0.3311 - accuracy: 0.8651\n",
            "Epoch 79/100\n",
            "235/235 [==============================] - 1s 3ms/step - loss: 0.3313 - accuracy: 0.8653\n",
            "Epoch 80/100\n",
            "235/235 [==============================] - 1s 3ms/step - loss: 0.3311 - accuracy: 0.8643\n",
            "Epoch 81/100\n",
            "235/235 [==============================] - 1s 3ms/step - loss: 0.3312 - accuracy: 0.8653\n",
            "Epoch 82/100\n",
            "235/235 [==============================] - 1s 3ms/step - loss: 0.3313 - accuracy: 0.8651\n",
            "Epoch 83/100\n",
            "235/235 [==============================] - 1s 3ms/step - loss: 0.3299 - accuracy: 0.8652\n",
            "Epoch 84/100\n",
            "235/235 [==============================] - 1s 3ms/step - loss: 0.3306 - accuracy: 0.8661\n",
            "Epoch 85/100\n",
            "235/235 [==============================] - 1s 3ms/step - loss: 0.3303 - accuracy: 0.8648\n",
            "Epoch 86/100\n",
            "235/235 [==============================] - 1s 3ms/step - loss: 0.3305 - accuracy: 0.8667\n",
            "Epoch 87/100\n",
            "235/235 [==============================] - 1s 3ms/step - loss: 0.3300 - accuracy: 0.8643\n",
            "Epoch 88/100\n",
            "235/235 [==============================] - 1s 3ms/step - loss: 0.3301 - accuracy: 0.8632\n",
            "Epoch 89/100\n",
            "235/235 [==============================] - 1s 3ms/step - loss: 0.3297 - accuracy: 0.8653\n",
            "Epoch 90/100\n",
            "235/235 [==============================] - 1s 3ms/step - loss: 0.3306 - accuracy: 0.8657\n",
            "Epoch 91/100\n",
            "235/235 [==============================] - 1s 3ms/step - loss: 0.3299 - accuracy: 0.8627\n",
            "Epoch 92/100\n",
            "235/235 [==============================] - 1s 3ms/step - loss: 0.3304 - accuracy: 0.8648\n",
            "Epoch 93/100\n",
            "235/235 [==============================] - 1s 3ms/step - loss: 0.3299 - accuracy: 0.8655\n",
            "Epoch 94/100\n",
            "235/235 [==============================] - 1s 3ms/step - loss: 0.3293 - accuracy: 0.8665\n",
            "Epoch 95/100\n",
            "235/235 [==============================] - 1s 3ms/step - loss: 0.3298 - accuracy: 0.8652\n",
            "Epoch 96/100\n",
            "235/235 [==============================] - 1s 3ms/step - loss: 0.3297 - accuracy: 0.8655\n",
            "Epoch 97/100\n",
            "235/235 [==============================] - 1s 3ms/step - loss: 0.3290 - accuracy: 0.8672\n",
            "Epoch 98/100\n",
            "235/235 [==============================] - 1s 3ms/step - loss: 0.3299 - accuracy: 0.8648\n",
            "Epoch 99/100\n",
            "235/235 [==============================] - 1s 3ms/step - loss: 0.3292 - accuracy: 0.8641\n",
            "Epoch 100/100\n",
            "235/235 [==============================] - 1s 3ms/step - loss: 0.3288 - accuracy: 0.8648\n"
          ]
        },
        {
          "output_type": "execute_result",
          "data": {
            "text/plain": [
              "<keras.callbacks.History at 0x7fd3603c1850>"
            ]
          },
          "metadata": {},
          "execution_count": 24
        }
      ]
    },
    {
      "cell_type": "code",
      "source": [
        "ann_model.summary()"
      ],
      "metadata": {
        "colab": {
          "base_uri": "https://localhost:8080/"
        },
        "id": "QDP51rhOJWuI",
        "outputId": "e1aee5fc-04c3-43b6-8566-82ef520ff273"
      },
      "execution_count": null,
      "outputs": [
        {
          "output_type": "stream",
          "name": "stdout",
          "text": [
            "Model: \"sequential\"\n",
            "_________________________________________________________________\n",
            " Layer (type)                Output Shape              Param #   \n",
            "=================================================================\n",
            " dense (Dense)               (None, 8)                 104       \n",
            "                                                                 \n",
            " dense_1 (Dense)             (None, 8)                 72        \n",
            "                                                                 \n",
            " dense_2 (Dense)             (None, 1)                 9         \n",
            "                                                                 \n",
            "=================================================================\n",
            "Total params: 185\n",
            "Trainable params: 185\n",
            "Non-trainable params: 0\n",
            "_________________________________________________________________\n"
          ]
        }
      ]
    },
    {
      "cell_type": "markdown",
      "source": [
        "# Predicting a single value"
      ],
      "metadata": {
        "id": "8F6jdoGJLRRz"
      }
    },
    {
      "cell_type": "markdown",
      "source": [
        "Predict whether a customer will leave the bank or not. The customer has the following data : \n",
        "\n",
        "- Geography: Germany\n",
        "\n",
        "- Credit Score: 800\n",
        "\n",
        "- Gender: Female\n",
        "\n",
        "- Age: 30 years old\n",
        "\n",
        "- Tenure: 2 years\n",
        "\n",
        "- Balance: \\$ 40000\n",
        "\n",
        "- Number of Products: 3\n",
        "-  Have a credit card? Yes\n",
        "\n",
        "- Active Member ?  Yes\n",
        "\n",
        "- Estimated Salary: \\$ 50000\n",
        "\n",
        "\n",
        "\n"
      ],
      "metadata": {
        "id": "PmgKh9oZMOwP"
      }
    },
    {
      "cell_type": "code",
      "source": [
        "print(ann_model.predict(sc.transform([[0,1,0,800,0,30,2,40000,3,1,1,50000]]))> 0.5)"
      ],
      "metadata": {
        "colab": {
          "base_uri": "https://localhost:8080/"
        },
        "id": "lEEnlNQWMzMw",
        "outputId": "02016be3-d8c2-4fc1-ea4a-66ae32799eaf"
      },
      "execution_count": null,
      "outputs": [
        {
          "output_type": "stream",
          "name": "stdout",
          "text": [
            "1/1 [==============================] - 0s 74ms/step\n",
            "[[False]]\n"
          ]
        }
      ]
    },
    {
      "cell_type": "markdown",
      "source": [
        "# Predicting the test set and calculating the model's accuracy"
      ],
      "metadata": {
        "id": "xw7BGMGtM65b"
      }
    },
    {
      "cell_type": "code",
      "source": [
        "y_pred = ann_model.predict(X_test)\n",
        "y_pred = (y_pred > 0.5)\n",
        "print(np.concatenate((y_pred.reshape(len(y_pred),1), y_test.reshape(len(y_test),1)),1))"
      ],
      "metadata": {
        "colab": {
          "base_uri": "https://localhost:8080/"
        },
        "id": "klY9E7npObNF",
        "outputId": "343a2d51-386c-4985-c391-b81fb993472c"
      },
      "execution_count": null,
      "outputs": [
        {
          "output_type": "stream",
          "name": "stdout",
          "text": [
            "79/79 [==============================] - 0s 1ms/step\n",
            "[[0 0]\n",
            " [0 1]\n",
            " [0 0]\n",
            " ...\n",
            " [0 0]\n",
            " [0 0]\n",
            " [0 0]]\n"
          ]
        }
      ]
    },
    {
      "cell_type": "code",
      "source": [
        "from sklearn.metrics import accuracy_score\n",
        "accuracy_score(y_test, y_pred)"
      ],
      "metadata": {
        "colab": {
          "base_uri": "https://localhost:8080/"
        },
        "id": "eRG6CULPOhGp",
        "outputId": "58179d01-274e-429d-a3e1-2843009514df"
      },
      "execution_count": null,
      "outputs": [
        {
          "output_type": "execute_result",
          "data": {
            "text/plain": [
              "0.8624"
            ]
          },
          "metadata": {},
          "execution_count": 28
        }
      ]
    }
  ]
}