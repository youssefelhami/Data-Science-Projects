{
  "nbformat": 4,
  "nbformat_minor": 0,
  "metadata": {
    "colab": {
      "provenance": [],
      "collapsed_sections": []
    },
    "kernelspec": {
      "name": "python3",
      "display_name": "Python 3"
    },
    "language_info": {
      "name": "python"
    },
    "accelerator": "GPU"
  },
  "cells": [
    {
      "cell_type": "markdown",
      "source": [
        "# Data Preprocessing "
      ],
      "metadata": {
        "id": "xOr4QmlojB7m"
      }
    },
    {
      "cell_type": "markdown",
      "source": [
        "## Importing the Libraries "
      ],
      "metadata": {
        "id": "7pgQQaDOpqs2"
      }
    },
    {
      "cell_type": "code",
      "source": [
        "import numpy as np\n",
        "import pandas as pd\n",
        "import tensorflow as tf \n",
        "import matplotlib.pyplot as plt"
      ],
      "metadata": {
        "id": "Nb2jSfNtqBzb"
      },
      "execution_count": null,
      "outputs": []
    },
    {
      "cell_type": "markdown",
      "source": [
        "## Importing the dataset "
      ],
      "metadata": {
        "id": "s9F9SDh2sB1v"
      }
    },
    {
      "cell_type": "code",
      "source": [
        "dataset = pd.read_csv('Iris.csv')\n",
        "X = dataset.iloc[:, 1:-1].values\n",
        "y = dataset.iloc[:, -1].values"
      ],
      "metadata": {
        "id": "5YMVTFN7sGWu"
      },
      "execution_count": null,
      "outputs": []
    },
    {
      "cell_type": "code",
      "source": [
        "print(X)"
      ],
      "metadata": {
        "id": "JTzaLGCws7_H",
        "colab": {
          "base_uri": "https://localhost:8080/"
        },
        "outputId": "4b84f145-5bae-4df0-f855-9a7a3d68a412"
      },
      "execution_count": null,
      "outputs": [
        {
          "output_type": "stream",
          "name": "stdout",
          "text": [
            "[[5.1 3.5 1.4 0.2]\n",
            " [4.9 3.  1.4 0.2]\n",
            " [4.7 3.2 1.3 0.2]\n",
            " [4.6 3.1 1.5 0.2]\n",
            " [5.  3.6 1.4 0.2]\n",
            " [5.4 3.9 1.7 0.4]\n",
            " [4.6 3.4 1.4 0.3]\n",
            " [5.  3.4 1.5 0.2]\n",
            " [4.4 2.9 1.4 0.2]\n",
            " [4.9 3.1 1.5 0.1]\n",
            " [5.4 3.7 1.5 0.2]\n",
            " [4.8 3.4 1.6 0.2]\n",
            " [4.8 3.  1.4 0.1]\n",
            " [4.3 3.  1.1 0.1]\n",
            " [5.8 4.  1.2 0.2]\n",
            " [5.7 4.4 1.5 0.4]\n",
            " [5.4 3.9 1.3 0.4]\n",
            " [5.1 3.5 1.4 0.3]\n",
            " [5.7 3.8 1.7 0.3]\n",
            " [5.1 3.8 1.5 0.3]\n",
            " [5.4 3.4 1.7 0.2]\n",
            " [5.1 3.7 1.5 0.4]\n",
            " [4.6 3.6 1.  0.2]\n",
            " [5.1 3.3 1.7 0.5]\n",
            " [4.8 3.4 1.9 0.2]\n",
            " [5.  3.  1.6 0.2]\n",
            " [5.  3.4 1.6 0.4]\n",
            " [5.2 3.5 1.5 0.2]\n",
            " [5.2 3.4 1.4 0.2]\n",
            " [4.7 3.2 1.6 0.2]\n",
            " [4.8 3.1 1.6 0.2]\n",
            " [5.4 3.4 1.5 0.4]\n",
            " [5.2 4.1 1.5 0.1]\n",
            " [5.5 4.2 1.4 0.2]\n",
            " [4.9 3.1 1.5 0.1]\n",
            " [5.  3.2 1.2 0.2]\n",
            " [5.5 3.5 1.3 0.2]\n",
            " [4.9 3.1 1.5 0.1]\n",
            " [4.4 3.  1.3 0.2]\n",
            " [5.1 3.4 1.5 0.2]\n",
            " [5.  3.5 1.3 0.3]\n",
            " [4.5 2.3 1.3 0.3]\n",
            " [4.4 3.2 1.3 0.2]\n",
            " [5.  3.5 1.6 0.6]\n",
            " [5.1 3.8 1.9 0.4]\n",
            " [4.8 3.  1.4 0.3]\n",
            " [5.1 3.8 1.6 0.2]\n",
            " [4.6 3.2 1.4 0.2]\n",
            " [5.3 3.7 1.5 0.2]\n",
            " [5.  3.3 1.4 0.2]\n",
            " [7.  3.2 4.7 1.4]\n",
            " [6.4 3.2 4.5 1.5]\n",
            " [6.9 3.1 4.9 1.5]\n",
            " [5.5 2.3 4.  1.3]\n",
            " [6.5 2.8 4.6 1.5]\n",
            " [5.7 2.8 4.5 1.3]\n",
            " [6.3 3.3 4.7 1.6]\n",
            " [4.9 2.4 3.3 1. ]\n",
            " [6.6 2.9 4.6 1.3]\n",
            " [5.2 2.7 3.9 1.4]\n",
            " [5.  2.  3.5 1. ]\n",
            " [5.9 3.  4.2 1.5]\n",
            " [6.  2.2 4.  1. ]\n",
            " [6.1 2.9 4.7 1.4]\n",
            " [5.6 2.9 3.6 1.3]\n",
            " [6.7 3.1 4.4 1.4]\n",
            " [5.6 3.  4.5 1.5]\n",
            " [5.8 2.7 4.1 1. ]\n",
            " [6.2 2.2 4.5 1.5]\n",
            " [5.6 2.5 3.9 1.1]\n",
            " [5.9 3.2 4.8 1.8]\n",
            " [6.1 2.8 4.  1.3]\n",
            " [6.3 2.5 4.9 1.5]\n",
            " [6.1 2.8 4.7 1.2]\n",
            " [6.4 2.9 4.3 1.3]\n",
            " [6.6 3.  4.4 1.4]\n",
            " [6.8 2.8 4.8 1.4]\n",
            " [6.7 3.  5.  1.7]\n",
            " [6.  2.9 4.5 1.5]\n",
            " [5.7 2.6 3.5 1. ]\n",
            " [5.5 2.4 3.8 1.1]\n",
            " [5.5 2.4 3.7 1. ]\n",
            " [5.8 2.7 3.9 1.2]\n",
            " [6.  2.7 5.1 1.6]\n",
            " [5.4 3.  4.5 1.5]\n",
            " [6.  3.4 4.5 1.6]\n",
            " [6.7 3.1 4.7 1.5]\n",
            " [6.3 2.3 4.4 1.3]\n",
            " [5.6 3.  4.1 1.3]\n",
            " [5.5 2.5 4.  1.3]\n",
            " [5.5 2.6 4.4 1.2]\n",
            " [6.1 3.  4.6 1.4]\n",
            " [5.8 2.6 4.  1.2]\n",
            " [5.  2.3 3.3 1. ]\n",
            " [5.6 2.7 4.2 1.3]\n",
            " [5.7 3.  4.2 1.2]\n",
            " [5.7 2.9 4.2 1.3]\n",
            " [6.2 2.9 4.3 1.3]\n",
            " [5.1 2.5 3.  1.1]\n",
            " [5.7 2.8 4.1 1.3]\n",
            " [6.3 3.3 6.  2.5]\n",
            " [5.8 2.7 5.1 1.9]\n",
            " [7.1 3.  5.9 2.1]\n",
            " [6.3 2.9 5.6 1.8]\n",
            " [6.5 3.  5.8 2.2]\n",
            " [7.6 3.  6.6 2.1]\n",
            " [4.9 2.5 4.5 1.7]\n",
            " [7.3 2.9 6.3 1.8]\n",
            " [6.7 2.5 5.8 1.8]\n",
            " [7.2 3.6 6.1 2.5]\n",
            " [6.5 3.2 5.1 2. ]\n",
            " [6.4 2.7 5.3 1.9]\n",
            " [6.8 3.  5.5 2.1]\n",
            " [5.7 2.5 5.  2. ]\n",
            " [5.8 2.8 5.1 2.4]\n",
            " [6.4 3.2 5.3 2.3]\n",
            " [6.5 3.  5.5 1.8]\n",
            " [7.7 3.8 6.7 2.2]\n",
            " [7.7 2.6 6.9 2.3]\n",
            " [6.  2.2 5.  1.5]\n",
            " [6.9 3.2 5.7 2.3]\n",
            " [5.6 2.8 4.9 2. ]\n",
            " [7.7 2.8 6.7 2. ]\n",
            " [6.3 2.7 4.9 1.8]\n",
            " [6.7 3.3 5.7 2.1]\n",
            " [7.2 3.2 6.  1.8]\n",
            " [6.2 2.8 4.8 1.8]\n",
            " [6.1 3.  4.9 1.8]\n",
            " [6.4 2.8 5.6 2.1]\n",
            " [7.2 3.  5.8 1.6]\n",
            " [7.4 2.8 6.1 1.9]\n",
            " [7.9 3.8 6.4 2. ]\n",
            " [6.4 2.8 5.6 2.2]\n",
            " [6.3 2.8 5.1 1.5]\n",
            " [6.1 2.6 5.6 1.4]\n",
            " [7.7 3.  6.1 2.3]\n",
            " [6.3 3.4 5.6 2.4]\n",
            " [6.4 3.1 5.5 1.8]\n",
            " [6.  3.  4.8 1.8]\n",
            " [6.9 3.1 5.4 2.1]\n",
            " [6.7 3.1 5.6 2.4]\n",
            " [6.9 3.1 5.1 2.3]\n",
            " [5.8 2.7 5.1 1.9]\n",
            " [6.8 3.2 5.9 2.3]\n",
            " [6.7 3.3 5.7 2.5]\n",
            " [6.7 3.  5.2 2.3]\n",
            " [6.3 2.5 5.  1.9]\n",
            " [6.5 3.  5.2 2. ]\n",
            " [6.2 3.4 5.4 2.3]\n",
            " [5.9 3.  5.1 1.8]]\n"
          ]
        }
      ]
    },
    {
      "cell_type": "code",
      "source": [
        "print(y)"
      ],
      "metadata": {
        "id": "_olfF0zgtLQw",
        "colab": {
          "base_uri": "https://localhost:8080/"
        },
        "outputId": "2d3578c6-0eaf-419c-e897-e5d752ebf9b5"
      },
      "execution_count": null,
      "outputs": [
        {
          "output_type": "stream",
          "name": "stdout",
          "text": [
            "['Iris-setosa' 'Iris-setosa' 'Iris-setosa' 'Iris-setosa' 'Iris-setosa'\n",
            " 'Iris-setosa' 'Iris-setosa' 'Iris-setosa' 'Iris-setosa' 'Iris-setosa'\n",
            " 'Iris-setosa' 'Iris-setosa' 'Iris-setosa' 'Iris-setosa' 'Iris-setosa'\n",
            " 'Iris-setosa' 'Iris-setosa' 'Iris-setosa' 'Iris-setosa' 'Iris-setosa'\n",
            " 'Iris-setosa' 'Iris-setosa' 'Iris-setosa' 'Iris-setosa' 'Iris-setosa'\n",
            " 'Iris-setosa' 'Iris-setosa' 'Iris-setosa' 'Iris-setosa' 'Iris-setosa'\n",
            " 'Iris-setosa' 'Iris-setosa' 'Iris-setosa' 'Iris-setosa' 'Iris-setosa'\n",
            " 'Iris-setosa' 'Iris-setosa' 'Iris-setosa' 'Iris-setosa' 'Iris-setosa'\n",
            " 'Iris-setosa' 'Iris-setosa' 'Iris-setosa' 'Iris-setosa' 'Iris-setosa'\n",
            " 'Iris-setosa' 'Iris-setosa' 'Iris-setosa' 'Iris-setosa' 'Iris-setosa'\n",
            " 'Iris-versicolor' 'Iris-versicolor' 'Iris-versicolor' 'Iris-versicolor'\n",
            " 'Iris-versicolor' 'Iris-versicolor' 'Iris-versicolor' 'Iris-versicolor'\n",
            " 'Iris-versicolor' 'Iris-versicolor' 'Iris-versicolor' 'Iris-versicolor'\n",
            " 'Iris-versicolor' 'Iris-versicolor' 'Iris-versicolor' 'Iris-versicolor'\n",
            " 'Iris-versicolor' 'Iris-versicolor' 'Iris-versicolor' 'Iris-versicolor'\n",
            " 'Iris-versicolor' 'Iris-versicolor' 'Iris-versicolor' 'Iris-versicolor'\n",
            " 'Iris-versicolor' 'Iris-versicolor' 'Iris-versicolor' 'Iris-versicolor'\n",
            " 'Iris-versicolor' 'Iris-versicolor' 'Iris-versicolor' 'Iris-versicolor'\n",
            " 'Iris-versicolor' 'Iris-versicolor' 'Iris-versicolor' 'Iris-versicolor'\n",
            " 'Iris-versicolor' 'Iris-versicolor' 'Iris-versicolor' 'Iris-versicolor'\n",
            " 'Iris-versicolor' 'Iris-versicolor' 'Iris-versicolor' 'Iris-versicolor'\n",
            " 'Iris-versicolor' 'Iris-versicolor' 'Iris-versicolor' 'Iris-versicolor'\n",
            " 'Iris-versicolor' 'Iris-versicolor' 'Iris-virginica' 'Iris-virginica'\n",
            " 'Iris-virginica' 'Iris-virginica' 'Iris-virginica' 'Iris-virginica'\n",
            " 'Iris-virginica' 'Iris-virginica' 'Iris-virginica' 'Iris-virginica'\n",
            " 'Iris-virginica' 'Iris-virginica' 'Iris-virginica' 'Iris-virginica'\n",
            " 'Iris-virginica' 'Iris-virginica' 'Iris-virginica' 'Iris-virginica'\n",
            " 'Iris-virginica' 'Iris-virginica' 'Iris-virginica' 'Iris-virginica'\n",
            " 'Iris-virginica' 'Iris-virginica' 'Iris-virginica' 'Iris-virginica'\n",
            " 'Iris-virginica' 'Iris-virginica' 'Iris-virginica' 'Iris-virginica'\n",
            " 'Iris-virginica' 'Iris-virginica' 'Iris-virginica' 'Iris-virginica'\n",
            " 'Iris-virginica' 'Iris-virginica' 'Iris-virginica' 'Iris-virginica'\n",
            " 'Iris-virginica' 'Iris-virginica' 'Iris-virginica' 'Iris-virginica'\n",
            " 'Iris-virginica' 'Iris-virginica' 'Iris-virginica' 'Iris-virginica'\n",
            " 'Iris-virginica' 'Iris-virginica' 'Iris-virginica' 'Iris-virginica']\n"
          ]
        }
      ]
    },
    {
      "cell_type": "markdown",
      "source": [
        "## Splitting the dataset into train and test sets"
      ],
      "metadata": {
        "id": "FR5T3CkFwQ-w"
      }
    },
    {
      "cell_type": "code",
      "source": [
        "from sklearn.model_selection import train_test_split\n",
        "X_train , X_test, y_train , y_test = train_test_split(X,y,test_size=0.25,random_state=0)"
      ],
      "metadata": {
        "id": "senQxSMbwdXg"
      },
      "execution_count": null,
      "outputs": []
    },
    {
      "cell_type": "code",
      "source": [
        "print(X_train)"
      ],
      "metadata": {
        "id": "cXPT4gw8wmOq",
        "colab": {
          "base_uri": "https://localhost:8080/"
        },
        "outputId": "fdce8c31-b524-4232-dfbf-357a6357c6ff"
      },
      "execution_count": null,
      "outputs": [
        {
          "output_type": "stream",
          "name": "stdout",
          "text": [
            "[[5.9 3.  4.2 1.5]\n",
            " [5.8 2.6 4.  1.2]\n",
            " [6.8 3.  5.5 2.1]\n",
            " [4.7 3.2 1.3 0.2]\n",
            " [6.9 3.1 5.1 2.3]\n",
            " [5.  3.5 1.6 0.6]\n",
            " [5.4 3.7 1.5 0.2]\n",
            " [5.  2.  3.5 1. ]\n",
            " [6.5 3.  5.5 1.8]\n",
            " [6.7 3.3 5.7 2.5]\n",
            " [6.  2.2 5.  1.5]\n",
            " [6.7 2.5 5.8 1.8]\n",
            " [5.6 2.5 3.9 1.1]\n",
            " [7.7 3.  6.1 2.3]\n",
            " [6.3 3.3 4.7 1.6]\n",
            " [5.5 2.4 3.8 1.1]\n",
            " [6.3 2.7 4.9 1.8]\n",
            " [6.3 2.8 5.1 1.5]\n",
            " [4.9 2.5 4.5 1.7]\n",
            " [6.3 2.5 5.  1.9]\n",
            " [7.  3.2 4.7 1.4]\n",
            " [6.5 3.  5.2 2. ]\n",
            " [6.  3.4 4.5 1.6]\n",
            " [4.8 3.1 1.6 0.2]\n",
            " [5.8 2.7 5.1 1.9]\n",
            " [5.6 2.7 4.2 1.3]\n",
            " [5.6 2.9 3.6 1.3]\n",
            " [5.5 2.5 4.  1.3]\n",
            " [6.1 3.  4.6 1.4]\n",
            " [7.2 3.2 6.  1.8]\n",
            " [5.3 3.7 1.5 0.2]\n",
            " [4.3 3.  1.1 0.1]\n",
            " [6.4 2.7 5.3 1.9]\n",
            " [5.7 3.  4.2 1.2]\n",
            " [5.4 3.4 1.7 0.2]\n",
            " [5.7 4.4 1.5 0.4]\n",
            " [6.9 3.1 4.9 1.5]\n",
            " [4.6 3.1 1.5 0.2]\n",
            " [5.9 3.  5.1 1.8]\n",
            " [5.1 2.5 3.  1.1]\n",
            " [4.6 3.4 1.4 0.3]\n",
            " [6.2 2.2 4.5 1.5]\n",
            " [7.2 3.6 6.1 2.5]\n",
            " [5.7 2.9 4.2 1.3]\n",
            " [4.8 3.  1.4 0.1]\n",
            " [7.1 3.  5.9 2.1]\n",
            " [6.9 3.2 5.7 2.3]\n",
            " [6.5 3.  5.8 2.2]\n",
            " [6.4 2.8 5.6 2.1]\n",
            " [5.1 3.8 1.6 0.2]\n",
            " [4.8 3.4 1.6 0.2]\n",
            " [6.5 3.2 5.1 2. ]\n",
            " [6.7 3.3 5.7 2.1]\n",
            " [4.5 2.3 1.3 0.3]\n",
            " [6.2 3.4 5.4 2.3]\n",
            " [4.9 3.  1.4 0.2]\n",
            " [5.7 2.5 5.  2. ]\n",
            " [6.9 3.1 5.4 2.1]\n",
            " [4.4 3.2 1.3 0.2]\n",
            " [5.  3.6 1.4 0.2]\n",
            " [7.2 3.  5.8 1.6]\n",
            " [5.1 3.5 1.4 0.3]\n",
            " [4.4 3.  1.3 0.2]\n",
            " [5.4 3.9 1.7 0.4]\n",
            " [5.5 2.3 4.  1.3]\n",
            " [6.8 3.2 5.9 2.3]\n",
            " [7.6 3.  6.6 2.1]\n",
            " [5.1 3.5 1.4 0.2]\n",
            " [4.9 3.1 1.5 0.1]\n",
            " [5.2 3.4 1.4 0.2]\n",
            " [5.7 2.8 4.5 1.3]\n",
            " [6.6 3.  4.4 1.4]\n",
            " [5.  3.2 1.2 0.2]\n",
            " [5.1 3.3 1.7 0.5]\n",
            " [6.4 2.9 4.3 1.3]\n",
            " [5.4 3.4 1.5 0.4]\n",
            " [7.7 2.6 6.9 2.3]\n",
            " [4.9 2.4 3.3 1. ]\n",
            " [7.9 3.8 6.4 2. ]\n",
            " [6.7 3.1 4.4 1.4]\n",
            " [5.2 4.1 1.5 0.1]\n",
            " [6.  3.  4.8 1.8]\n",
            " [5.8 4.  1.2 0.2]\n",
            " [7.7 2.8 6.7 2. ]\n",
            " [5.1 3.8 1.5 0.3]\n",
            " [4.7 3.2 1.6 0.2]\n",
            " [7.4 2.8 6.1 1.9]\n",
            " [5.  3.3 1.4 0.2]\n",
            " [6.3 3.4 5.6 2.4]\n",
            " [5.7 2.8 4.1 1.3]\n",
            " [5.8 2.7 3.9 1.2]\n",
            " [5.7 2.6 3.5 1. ]\n",
            " [6.4 3.2 5.3 2.3]\n",
            " [6.7 3.  5.2 2.3]\n",
            " [6.3 2.5 4.9 1.5]\n",
            " [6.7 3.  5.  1.7]\n",
            " [5.  3.  1.6 0.2]\n",
            " [5.5 2.4 3.7 1. ]\n",
            " [6.7 3.1 5.6 2.4]\n",
            " [5.8 2.7 5.1 1.9]\n",
            " [5.1 3.4 1.5 0.2]\n",
            " [6.6 2.9 4.6 1.3]\n",
            " [5.6 3.  4.1 1.3]\n",
            " [5.9 3.2 4.8 1.8]\n",
            " [6.3 2.3 4.4 1.3]\n",
            " [5.5 3.5 1.3 0.2]\n",
            " [5.1 3.7 1.5 0.4]\n",
            " [4.9 3.1 1.5 0.1]\n",
            " [6.3 2.9 5.6 1.8]\n",
            " [5.8 2.7 4.1 1. ]\n",
            " [7.7 3.8 6.7 2.2]\n",
            " [4.6 3.2 1.4 0.2]]\n"
          ]
        }
      ]
    },
    {
      "cell_type": "code",
      "source": [
        "print(X_test)"
      ],
      "metadata": {
        "id": "__qchC_wwmwI",
        "colab": {
          "base_uri": "https://localhost:8080/"
        },
        "outputId": "6d29e863-5b44-4611-d7e2-53e6ea080694"
      },
      "execution_count": null,
      "outputs": [
        {
          "output_type": "stream",
          "name": "stdout",
          "text": [
            "[[5.8 2.8 5.1 2.4]\n",
            " [6.  2.2 4.  1. ]\n",
            " [5.5 4.2 1.4 0.2]\n",
            " [7.3 2.9 6.3 1.8]\n",
            " [5.  3.4 1.5 0.2]\n",
            " [6.3 3.3 6.  2.5]\n",
            " [5.  3.5 1.3 0.3]\n",
            " [6.7 3.1 4.7 1.5]\n",
            " [6.8 2.8 4.8 1.4]\n",
            " [6.1 2.8 4.  1.3]\n",
            " [6.1 2.6 5.6 1.4]\n",
            " [6.4 3.2 4.5 1.5]\n",
            " [6.1 2.8 4.7 1.2]\n",
            " [6.5 2.8 4.6 1.5]\n",
            " [6.1 2.9 4.7 1.4]\n",
            " [4.9 3.1 1.5 0.1]\n",
            " [6.  2.9 4.5 1.5]\n",
            " [5.5 2.6 4.4 1.2]\n",
            " [4.8 3.  1.4 0.3]\n",
            " [5.4 3.9 1.3 0.4]\n",
            " [5.6 2.8 4.9 2. ]\n",
            " [5.6 3.  4.5 1.5]\n",
            " [4.8 3.4 1.9 0.2]\n",
            " [4.4 2.9 1.4 0.2]\n",
            " [6.2 2.8 4.8 1.8]\n",
            " [4.6 3.6 1.  0.2]\n",
            " [5.1 3.8 1.9 0.4]\n",
            " [6.2 2.9 4.3 1.3]\n",
            " [5.  2.3 3.3 1. ]\n",
            " [5.  3.4 1.6 0.4]\n",
            " [6.4 3.1 5.5 1.8]\n",
            " [5.4 3.  4.5 1.5]\n",
            " [5.2 3.5 1.5 0.2]\n",
            " [6.1 3.  4.9 1.8]\n",
            " [6.4 2.8 5.6 2.2]\n",
            " [5.2 2.7 3.9 1.4]\n",
            " [5.7 3.8 1.7 0.3]\n",
            " [6.  2.7 5.1 1.6]]\n"
          ]
        }
      ]
    },
    {
      "cell_type": "code",
      "source": [
        "print(y_train)"
      ],
      "metadata": {
        "id": "CnlMEq9swm5A",
        "colab": {
          "base_uri": "https://localhost:8080/"
        },
        "outputId": "1128d03b-0137-4abb-dca0-c88b8d21a8d5"
      },
      "execution_count": null,
      "outputs": [
        {
          "output_type": "stream",
          "name": "stdout",
          "text": [
            "['Iris-versicolor' 'Iris-versicolor' 'Iris-virginica' 'Iris-setosa'\n",
            " 'Iris-virginica' 'Iris-setosa' 'Iris-setosa' 'Iris-versicolor'\n",
            " 'Iris-virginica' 'Iris-virginica' 'Iris-virginica' 'Iris-virginica'\n",
            " 'Iris-versicolor' 'Iris-virginica' 'Iris-versicolor' 'Iris-versicolor'\n",
            " 'Iris-virginica' 'Iris-virginica' 'Iris-virginica' 'Iris-virginica'\n",
            " 'Iris-versicolor' 'Iris-virginica' 'Iris-versicolor' 'Iris-setosa'\n",
            " 'Iris-virginica' 'Iris-versicolor' 'Iris-versicolor' 'Iris-versicolor'\n",
            " 'Iris-versicolor' 'Iris-virginica' 'Iris-setosa' 'Iris-setosa'\n",
            " 'Iris-virginica' 'Iris-versicolor' 'Iris-setosa' 'Iris-setosa'\n",
            " 'Iris-versicolor' 'Iris-setosa' 'Iris-virginica' 'Iris-versicolor'\n",
            " 'Iris-setosa' 'Iris-versicolor' 'Iris-virginica' 'Iris-versicolor'\n",
            " 'Iris-setosa' 'Iris-virginica' 'Iris-virginica' 'Iris-virginica'\n",
            " 'Iris-virginica' 'Iris-setosa' 'Iris-setosa' 'Iris-virginica'\n",
            " 'Iris-virginica' 'Iris-setosa' 'Iris-virginica' 'Iris-setosa'\n",
            " 'Iris-virginica' 'Iris-virginica' 'Iris-setosa' 'Iris-setosa'\n",
            " 'Iris-virginica' 'Iris-setosa' 'Iris-setosa' 'Iris-setosa'\n",
            " 'Iris-versicolor' 'Iris-virginica' 'Iris-virginica' 'Iris-setosa'\n",
            " 'Iris-setosa' 'Iris-setosa' 'Iris-versicolor' 'Iris-versicolor'\n",
            " 'Iris-setosa' 'Iris-setosa' 'Iris-versicolor' 'Iris-setosa'\n",
            " 'Iris-virginica' 'Iris-versicolor' 'Iris-virginica' 'Iris-versicolor'\n",
            " 'Iris-setosa' 'Iris-virginica' 'Iris-setosa' 'Iris-virginica'\n",
            " 'Iris-setosa' 'Iris-setosa' 'Iris-virginica' 'Iris-setosa'\n",
            " 'Iris-virginica' 'Iris-versicolor' 'Iris-versicolor' 'Iris-versicolor'\n",
            " 'Iris-virginica' 'Iris-virginica' 'Iris-versicolor' 'Iris-versicolor'\n",
            " 'Iris-setosa' 'Iris-versicolor' 'Iris-virginica' 'Iris-virginica'\n",
            " 'Iris-setosa' 'Iris-versicolor' 'Iris-versicolor' 'Iris-versicolor'\n",
            " 'Iris-versicolor' 'Iris-setosa' 'Iris-setosa' 'Iris-setosa'\n",
            " 'Iris-virginica' 'Iris-versicolor' 'Iris-virginica' 'Iris-setosa']\n"
          ]
        }
      ]
    },
    {
      "cell_type": "code",
      "source": [
        "print(y_test)"
      ],
      "metadata": {
        "id": "6BKiTLFCwnCB",
        "colab": {
          "base_uri": "https://localhost:8080/"
        },
        "outputId": "bc48126e-0905-42a6-9283-fab1c4dbe73e"
      },
      "execution_count": null,
      "outputs": [
        {
          "output_type": "stream",
          "name": "stdout",
          "text": [
            "['Iris-virginica' 'Iris-versicolor' 'Iris-setosa' 'Iris-virginica'\n",
            " 'Iris-setosa' 'Iris-virginica' 'Iris-setosa' 'Iris-versicolor'\n",
            " 'Iris-versicolor' 'Iris-versicolor' 'Iris-virginica' 'Iris-versicolor'\n",
            " 'Iris-versicolor' 'Iris-versicolor' 'Iris-versicolor' 'Iris-setosa'\n",
            " 'Iris-versicolor' 'Iris-versicolor' 'Iris-setosa' 'Iris-setosa'\n",
            " 'Iris-virginica' 'Iris-versicolor' 'Iris-setosa' 'Iris-setosa'\n",
            " 'Iris-virginica' 'Iris-setosa' 'Iris-setosa' 'Iris-versicolor'\n",
            " 'Iris-versicolor' 'Iris-setosa' 'Iris-virginica' 'Iris-versicolor'\n",
            " 'Iris-setosa' 'Iris-virginica' 'Iris-virginica' 'Iris-versicolor'\n",
            " 'Iris-setosa' 'Iris-versicolor']\n"
          ]
        }
      ]
    },
    {
      "cell_type": "markdown",
      "source": [
        "##Encode the categorical Variables"
      ],
      "metadata": {
        "id": "0iOLskxvtXFv"
      }
    },
    {
      "cell_type": "code",
      "source": [
        "from sklearn.preprocessing import OneHotEncoder\n",
        "encoder = OneHotEncoder(sparse=False)\n",
        "y_train=y_train.reshape(-1, 1)\n",
        "y_test=y_test.reshape(-1, 1)\n",
        "y_train=encoder.fit_transform(y_train)\n",
        "y_test=encoder.transform(y_test)"
      ],
      "metadata": {
        "id": "jeBNyP7dyREl"
      },
      "execution_count": null,
      "outputs": []
    },
    {
      "cell_type": "code",
      "source": [
        "print(X_train)"
      ],
      "metadata": {
        "id": "KCfeyrFV1O-U",
        "colab": {
          "base_uri": "https://localhost:8080/"
        },
        "outputId": "13523853-26ee-4761-9270-58af14fd751f"
      },
      "execution_count": null,
      "outputs": [
        {
          "output_type": "stream",
          "name": "stdout",
          "text": [
            "[[5.9 3.  4.2 1.5]\n",
            " [5.8 2.6 4.  1.2]\n",
            " [6.8 3.  5.5 2.1]\n",
            " [4.7 3.2 1.3 0.2]\n",
            " [6.9 3.1 5.1 2.3]\n",
            " [5.  3.5 1.6 0.6]\n",
            " [5.4 3.7 1.5 0.2]\n",
            " [5.  2.  3.5 1. ]\n",
            " [6.5 3.  5.5 1.8]\n",
            " [6.7 3.3 5.7 2.5]\n",
            " [6.  2.2 5.  1.5]\n",
            " [6.7 2.5 5.8 1.8]\n",
            " [5.6 2.5 3.9 1.1]\n",
            " [7.7 3.  6.1 2.3]\n",
            " [6.3 3.3 4.7 1.6]\n",
            " [5.5 2.4 3.8 1.1]\n",
            " [6.3 2.7 4.9 1.8]\n",
            " [6.3 2.8 5.1 1.5]\n",
            " [4.9 2.5 4.5 1.7]\n",
            " [6.3 2.5 5.  1.9]\n",
            " [7.  3.2 4.7 1.4]\n",
            " [6.5 3.  5.2 2. ]\n",
            " [6.  3.4 4.5 1.6]\n",
            " [4.8 3.1 1.6 0.2]\n",
            " [5.8 2.7 5.1 1.9]\n",
            " [5.6 2.7 4.2 1.3]\n",
            " [5.6 2.9 3.6 1.3]\n",
            " [5.5 2.5 4.  1.3]\n",
            " [6.1 3.  4.6 1.4]\n",
            " [7.2 3.2 6.  1.8]\n",
            " [5.3 3.7 1.5 0.2]\n",
            " [4.3 3.  1.1 0.1]\n",
            " [6.4 2.7 5.3 1.9]\n",
            " [5.7 3.  4.2 1.2]\n",
            " [5.4 3.4 1.7 0.2]\n",
            " [5.7 4.4 1.5 0.4]\n",
            " [6.9 3.1 4.9 1.5]\n",
            " [4.6 3.1 1.5 0.2]\n",
            " [5.9 3.  5.1 1.8]\n",
            " [5.1 2.5 3.  1.1]\n",
            " [4.6 3.4 1.4 0.3]\n",
            " [6.2 2.2 4.5 1.5]\n",
            " [7.2 3.6 6.1 2.5]\n",
            " [5.7 2.9 4.2 1.3]\n",
            " [4.8 3.  1.4 0.1]\n",
            " [7.1 3.  5.9 2.1]\n",
            " [6.9 3.2 5.7 2.3]\n",
            " [6.5 3.  5.8 2.2]\n",
            " [6.4 2.8 5.6 2.1]\n",
            " [5.1 3.8 1.6 0.2]\n",
            " [4.8 3.4 1.6 0.2]\n",
            " [6.5 3.2 5.1 2. ]\n",
            " [6.7 3.3 5.7 2.1]\n",
            " [4.5 2.3 1.3 0.3]\n",
            " [6.2 3.4 5.4 2.3]\n",
            " [4.9 3.  1.4 0.2]\n",
            " [5.7 2.5 5.  2. ]\n",
            " [6.9 3.1 5.4 2.1]\n",
            " [4.4 3.2 1.3 0.2]\n",
            " [5.  3.6 1.4 0.2]\n",
            " [7.2 3.  5.8 1.6]\n",
            " [5.1 3.5 1.4 0.3]\n",
            " [4.4 3.  1.3 0.2]\n",
            " [5.4 3.9 1.7 0.4]\n",
            " [5.5 2.3 4.  1.3]\n",
            " [6.8 3.2 5.9 2.3]\n",
            " [7.6 3.  6.6 2.1]\n",
            " [5.1 3.5 1.4 0.2]\n",
            " [4.9 3.1 1.5 0.1]\n",
            " [5.2 3.4 1.4 0.2]\n",
            " [5.7 2.8 4.5 1.3]\n",
            " [6.6 3.  4.4 1.4]\n",
            " [5.  3.2 1.2 0.2]\n",
            " [5.1 3.3 1.7 0.5]\n",
            " [6.4 2.9 4.3 1.3]\n",
            " [5.4 3.4 1.5 0.4]\n",
            " [7.7 2.6 6.9 2.3]\n",
            " [4.9 2.4 3.3 1. ]\n",
            " [7.9 3.8 6.4 2. ]\n",
            " [6.7 3.1 4.4 1.4]\n",
            " [5.2 4.1 1.5 0.1]\n",
            " [6.  3.  4.8 1.8]\n",
            " [5.8 4.  1.2 0.2]\n",
            " [7.7 2.8 6.7 2. ]\n",
            " [5.1 3.8 1.5 0.3]\n",
            " [4.7 3.2 1.6 0.2]\n",
            " [7.4 2.8 6.1 1.9]\n",
            " [5.  3.3 1.4 0.2]\n",
            " [6.3 3.4 5.6 2.4]\n",
            " [5.7 2.8 4.1 1.3]\n",
            " [5.8 2.7 3.9 1.2]\n",
            " [5.7 2.6 3.5 1. ]\n",
            " [6.4 3.2 5.3 2.3]\n",
            " [6.7 3.  5.2 2.3]\n",
            " [6.3 2.5 4.9 1.5]\n",
            " [6.7 3.  5.  1.7]\n",
            " [5.  3.  1.6 0.2]\n",
            " [5.5 2.4 3.7 1. ]\n",
            " [6.7 3.1 5.6 2.4]\n",
            " [5.8 2.7 5.1 1.9]\n",
            " [5.1 3.4 1.5 0.2]\n",
            " [6.6 2.9 4.6 1.3]\n",
            " [5.6 3.  4.1 1.3]\n",
            " [5.9 3.2 4.8 1.8]\n",
            " [6.3 2.3 4.4 1.3]\n",
            " [5.5 3.5 1.3 0.2]\n",
            " [5.1 3.7 1.5 0.4]\n",
            " [4.9 3.1 1.5 0.1]\n",
            " [6.3 2.9 5.6 1.8]\n",
            " [5.8 2.7 4.1 1. ]\n",
            " [7.7 3.8 6.7 2.2]\n",
            " [4.6 3.2 1.4 0.2]]\n"
          ]
        }
      ]
    },
    {
      "cell_type": "code",
      "source": [
        "print(X_test)"
      ],
      "metadata": {
        "id": "euuQ1GQM1SjN",
        "colab": {
          "base_uri": "https://localhost:8080/"
        },
        "outputId": "188e9c82-2e95-4424-bbd8-f8e93614b487"
      },
      "execution_count": null,
      "outputs": [
        {
          "output_type": "stream",
          "name": "stdout",
          "text": [
            "[[5.8 2.8 5.1 2.4]\n",
            " [6.  2.2 4.  1. ]\n",
            " [5.5 4.2 1.4 0.2]\n",
            " [7.3 2.9 6.3 1.8]\n",
            " [5.  3.4 1.5 0.2]\n",
            " [6.3 3.3 6.  2.5]\n",
            " [5.  3.5 1.3 0.3]\n",
            " [6.7 3.1 4.7 1.5]\n",
            " [6.8 2.8 4.8 1.4]\n",
            " [6.1 2.8 4.  1.3]\n",
            " [6.1 2.6 5.6 1.4]\n",
            " [6.4 3.2 4.5 1.5]\n",
            " [6.1 2.8 4.7 1.2]\n",
            " [6.5 2.8 4.6 1.5]\n",
            " [6.1 2.9 4.7 1.4]\n",
            " [4.9 3.1 1.5 0.1]\n",
            " [6.  2.9 4.5 1.5]\n",
            " [5.5 2.6 4.4 1.2]\n",
            " [4.8 3.  1.4 0.3]\n",
            " [5.4 3.9 1.3 0.4]\n",
            " [5.6 2.8 4.9 2. ]\n",
            " [5.6 3.  4.5 1.5]\n",
            " [4.8 3.4 1.9 0.2]\n",
            " [4.4 2.9 1.4 0.2]\n",
            " [6.2 2.8 4.8 1.8]\n",
            " [4.6 3.6 1.  0.2]\n",
            " [5.1 3.8 1.9 0.4]\n",
            " [6.2 2.9 4.3 1.3]\n",
            " [5.  2.3 3.3 1. ]\n",
            " [5.  3.4 1.6 0.4]\n",
            " [6.4 3.1 5.5 1.8]\n",
            " [5.4 3.  4.5 1.5]\n",
            " [5.2 3.5 1.5 0.2]\n",
            " [6.1 3.  4.9 1.8]\n",
            " [6.4 2.8 5.6 2.2]\n",
            " [5.2 2.7 3.9 1.4]\n",
            " [5.7 3.8 1.7 0.3]\n",
            " [6.  2.7 5.1 1.6]]\n"
          ]
        }
      ]
    },
    {
      "cell_type": "code",
      "source": [
        "print(y_train)"
      ],
      "metadata": {
        "colab": {
          "base_uri": "https://localhost:8080/"
        },
        "id": "iFZsuRWVg2vW",
        "outputId": "d8a19ab4-56cc-44d8-e604-8b116766823a"
      },
      "execution_count": null,
      "outputs": [
        {
          "output_type": "stream",
          "name": "stdout",
          "text": [
            "[[0. 1. 0.]\n",
            " [0. 1. 0.]\n",
            " [0. 0. 1.]\n",
            " [1. 0. 0.]\n",
            " [0. 0. 1.]\n",
            " [1. 0. 0.]\n",
            " [1. 0. 0.]\n",
            " [0. 1. 0.]\n",
            " [0. 0. 1.]\n",
            " [0. 0. 1.]\n",
            " [0. 0. 1.]\n",
            " [0. 0. 1.]\n",
            " [0. 1. 0.]\n",
            " [0. 0. 1.]\n",
            " [0. 1. 0.]\n",
            " [0. 1. 0.]\n",
            " [0. 0. 1.]\n",
            " [0. 0. 1.]\n",
            " [0. 0. 1.]\n",
            " [0. 0. 1.]\n",
            " [0. 1. 0.]\n",
            " [0. 0. 1.]\n",
            " [0. 1. 0.]\n",
            " [1. 0. 0.]\n",
            " [0. 0. 1.]\n",
            " [0. 1. 0.]\n",
            " [0. 1. 0.]\n",
            " [0. 1. 0.]\n",
            " [0. 1. 0.]\n",
            " [0. 0. 1.]\n",
            " [1. 0. 0.]\n",
            " [1. 0. 0.]\n",
            " [0. 0. 1.]\n",
            " [0. 1. 0.]\n",
            " [1. 0. 0.]\n",
            " [1. 0. 0.]\n",
            " [0. 1. 0.]\n",
            " [1. 0. 0.]\n",
            " [0. 0. 1.]\n",
            " [0. 1. 0.]\n",
            " [1. 0. 0.]\n",
            " [0. 1. 0.]\n",
            " [0. 0. 1.]\n",
            " [0. 1. 0.]\n",
            " [1. 0. 0.]\n",
            " [0. 0. 1.]\n",
            " [0. 0. 1.]\n",
            " [0. 0. 1.]\n",
            " [0. 0. 1.]\n",
            " [1. 0. 0.]\n",
            " [1. 0. 0.]\n",
            " [0. 0. 1.]\n",
            " [0. 0. 1.]\n",
            " [1. 0. 0.]\n",
            " [0. 0. 1.]\n",
            " [1. 0. 0.]\n",
            " [0. 0. 1.]\n",
            " [0. 0. 1.]\n",
            " [1. 0. 0.]\n",
            " [1. 0. 0.]\n",
            " [0. 0. 1.]\n",
            " [1. 0. 0.]\n",
            " [1. 0. 0.]\n",
            " [1. 0. 0.]\n",
            " [0. 1. 0.]\n",
            " [0. 0. 1.]\n",
            " [0. 0. 1.]\n",
            " [1. 0. 0.]\n",
            " [1. 0. 0.]\n",
            " [1. 0. 0.]\n",
            " [0. 1. 0.]\n",
            " [0. 1. 0.]\n",
            " [1. 0. 0.]\n",
            " [1. 0. 0.]\n",
            " [0. 1. 0.]\n",
            " [1. 0. 0.]\n",
            " [0. 0. 1.]\n",
            " [0. 1. 0.]\n",
            " [0. 0. 1.]\n",
            " [0. 1. 0.]\n",
            " [1. 0. 0.]\n",
            " [0. 0. 1.]\n",
            " [1. 0. 0.]\n",
            " [0. 0. 1.]\n",
            " [1. 0. 0.]\n",
            " [1. 0. 0.]\n",
            " [0. 0. 1.]\n",
            " [1. 0. 0.]\n",
            " [0. 0. 1.]\n",
            " [0. 1. 0.]\n",
            " [0. 1. 0.]\n",
            " [0. 1. 0.]\n",
            " [0. 0. 1.]\n",
            " [0. 0. 1.]\n",
            " [0. 1. 0.]\n",
            " [0. 1. 0.]\n",
            " [1. 0. 0.]\n",
            " [0. 1. 0.]\n",
            " [0. 0. 1.]\n",
            " [0. 0. 1.]\n",
            " [1. 0. 0.]\n",
            " [0. 1. 0.]\n",
            " [0. 1. 0.]\n",
            " [0. 1. 0.]\n",
            " [0. 1. 0.]\n",
            " [1. 0. 0.]\n",
            " [1. 0. 0.]\n",
            " [1. 0. 0.]\n",
            " [0. 0. 1.]\n",
            " [0. 1. 0.]\n",
            " [0. 0. 1.]\n",
            " [1. 0. 0.]]\n"
          ]
        }
      ]
    },
    {
      "cell_type": "code",
      "source": [
        "print(y_test)"
      ],
      "metadata": {
        "colab": {
          "base_uri": "https://localhost:8080/"
        },
        "id": "BOAHKJhXg6lq",
        "outputId": "970c6e72-5386-4b50-f5b7-b5d11e502516"
      },
      "execution_count": null,
      "outputs": [
        {
          "output_type": "stream",
          "name": "stdout",
          "text": [
            "[[0. 0. 1.]\n",
            " [0. 1. 0.]\n",
            " [1. 0. 0.]\n",
            " [0. 0. 1.]\n",
            " [1. 0. 0.]\n",
            " [0. 0. 1.]\n",
            " [1. 0. 0.]\n",
            " [0. 1. 0.]\n",
            " [0. 1. 0.]\n",
            " [0. 1. 0.]\n",
            " [0. 0. 1.]\n",
            " [0. 1. 0.]\n",
            " [0. 1. 0.]\n",
            " [0. 1. 0.]\n",
            " [0. 1. 0.]\n",
            " [1. 0. 0.]\n",
            " [0. 1. 0.]\n",
            " [0. 1. 0.]\n",
            " [1. 0. 0.]\n",
            " [1. 0. 0.]\n",
            " [0. 0. 1.]\n",
            " [0. 1. 0.]\n",
            " [1. 0. 0.]\n",
            " [1. 0. 0.]\n",
            " [0. 0. 1.]\n",
            " [1. 0. 0.]\n",
            " [1. 0. 0.]\n",
            " [0. 1. 0.]\n",
            " [0. 1. 0.]\n",
            " [1. 0. 0.]\n",
            " [0. 0. 1.]\n",
            " [0. 1. 0.]\n",
            " [1. 0. 0.]\n",
            " [0. 0. 1.]\n",
            " [0. 0. 1.]\n",
            " [0. 1. 0.]\n",
            " [1. 0. 0.]\n",
            " [0. 1. 0.]]\n"
          ]
        }
      ]
    },
    {
      "cell_type": "markdown",
      "source": [
        "## Feature Scalling "
      ],
      "metadata": {
        "id": "2zmgShwi10bK"
      }
    },
    {
      "cell_type": "code",
      "source": [
        "from sklearn.preprocessing import StandardScaler\n",
        "sc = StandardScaler()\n",
        "X_train = sc.fit_transform(X_train)\n",
        "X_test = sc.transform(X_test)"
      ],
      "metadata": {
        "id": "dm9fnE5U2a66"
      },
      "execution_count": null,
      "outputs": []
    },
    {
      "cell_type": "markdown",
      "source": [
        "# Creating the ANN"
      ],
      "metadata": {
        "id": "j3gx0jF82fUB"
      }
    },
    {
      "cell_type": "code",
      "source": [
        "ann_model=tf.keras.models.Sequential()"
      ],
      "metadata": {
        "id": "9yFfdwiS2mBy"
      },
      "execution_count": null,
      "outputs": []
    },
    {
      "cell_type": "code",
      "source": [
        "ann_model.add(tf.keras.layers.Dense(units=100,activation=\"relu\",kernel_regularizer=tf.keras.regularizers.L2(0.01)))"
      ],
      "metadata": {
        "id": "LWJSIwanJFTR"
      },
      "execution_count": null,
      "outputs": []
    },
    {
      "cell_type": "code",
      "source": [
        "ann_model.add(tf.keras.layers.Dropout(0.4))"
      ],
      "metadata": {
        "id": "vrKNaSmqh1xT"
      },
      "execution_count": null,
      "outputs": []
    },
    {
      "cell_type": "code",
      "source": [
        "ann_model.add(tf.keras.layers.Dense(units=50,activation=\"relu\"))"
      ],
      "metadata": {
        "id": "V9NDltoKKFR0"
      },
      "execution_count": null,
      "outputs": []
    },
    {
      "cell_type": "code",
      "source": [
        "ann_model.add(tf.keras.layers.Dense(units=3,activation=\"softmax\"))"
      ],
      "metadata": {
        "id": "1_0d059pKRre"
      },
      "execution_count": null,
      "outputs": []
    },
    {
      "cell_type": "markdown",
      "source": [
        "# Compile the model"
      ],
      "metadata": {
        "id": "EJFPiL98KVF9"
      }
    },
    {
      "cell_type": "code",
      "source": [
        "ann_model.compile(optimizer=tf.keras.optimizers.Adam(learning_rate=0.001),loss=\"categorical_crossentropy\",metrics=[\"accuracy\"])"
      ],
      "metadata": {
        "id": "wZuwZWLNKYp6"
      },
      "execution_count": null,
      "outputs": []
    },
    {
      "cell_type": "markdown",
      "source": [
        "# Fit the Model to the taining set"
      ],
      "metadata": {
        "id": "69eU0fAeKxys"
      }
    },
    {
      "cell_type": "code",
      "source": [
        "es = tf.keras.callbacks.EarlyStopping(monitor=\"val_accuracy\", mode='max', verbose=1, patience=40)\n",
        "history=ann_model.fit(X_train,y_train,batch_size=64,epochs=100,validation_split=0.3,callbacks=[es])"
      ],
      "metadata": {
        "colab": {
          "base_uri": "https://localhost:8080/"
        },
        "id": "nzZ_aW00LGAF",
        "outputId": "e7fe160a-c4c9-4e04-fa6b-49308d8e1e8c"
      },
      "execution_count": null,
      "outputs": [
        {
          "output_type": "stream",
          "name": "stdout",
          "text": [
            "Epoch 1/100\n",
            "2/2 [==============================] - 2s 293ms/step - loss: 1.2214 - accuracy: 0.1538 - val_loss: 1.1790 - val_accuracy: 0.1765\n",
            "Epoch 2/100\n",
            "2/2 [==============================] - 0s 55ms/step - loss: 1.1553 - accuracy: 0.3205 - val_loss: 1.1260 - val_accuracy: 0.3235\n",
            "Epoch 3/100\n",
            "2/2 [==============================] - 0s 57ms/step - loss: 1.1076 - accuracy: 0.3718 - val_loss: 1.0762 - val_accuracy: 0.4706\n",
            "Epoch 4/100\n",
            "2/2 [==============================] - 0s 53ms/step - loss: 1.0493 - accuracy: 0.5769 - val_loss: 1.0299 - val_accuracy: 0.6471\n",
            "Epoch 5/100\n",
            "2/2 [==============================] - 0s 39ms/step - loss: 1.0092 - accuracy: 0.6282 - val_loss: 0.9864 - val_accuracy: 0.6471\n",
            "Epoch 6/100\n",
            "2/2 [==============================] - 0s 36ms/step - loss: 0.9905 - accuracy: 0.7051 - val_loss: 0.9452 - val_accuracy: 0.7059\n",
            "Epoch 7/100\n",
            "2/2 [==============================] - 0s 51ms/step - loss: 0.9358 - accuracy: 0.7308 - val_loss: 0.9056 - val_accuracy: 0.7059\n",
            "Epoch 8/100\n",
            "2/2 [==============================] - 0s 75ms/step - loss: 0.8933 - accuracy: 0.7308 - val_loss: 0.8678 - val_accuracy: 0.7647\n",
            "Epoch 9/100\n",
            "2/2 [==============================] - 0s 50ms/step - loss: 0.8585 - accuracy: 0.7564 - val_loss: 0.8323 - val_accuracy: 0.7941\n",
            "Epoch 10/100\n",
            "2/2 [==============================] - 0s 59ms/step - loss: 0.8281 - accuracy: 0.7692 - val_loss: 0.7995 - val_accuracy: 0.7941\n",
            "Epoch 11/100\n",
            "2/2 [==============================] - 0s 36ms/step - loss: 0.7835 - accuracy: 0.7949 - val_loss: 0.7694 - val_accuracy: 0.7941\n",
            "Epoch 12/100\n",
            "2/2 [==============================] - 0s 35ms/step - loss: 0.7569 - accuracy: 0.7821 - val_loss: 0.7421 - val_accuracy: 0.7941\n",
            "Epoch 13/100\n",
            "2/2 [==============================] - 0s 76ms/step - loss: 0.7261 - accuracy: 0.7949 - val_loss: 0.7177 - val_accuracy: 0.7941\n",
            "Epoch 14/100\n",
            "2/2 [==============================] - 0s 38ms/step - loss: 0.6836 - accuracy: 0.8077 - val_loss: 0.6954 - val_accuracy: 0.8235\n",
            "Epoch 15/100\n",
            "2/2 [==============================] - 0s 36ms/step - loss: 0.6743 - accuracy: 0.8462 - val_loss: 0.6749 - val_accuracy: 0.8235\n",
            "Epoch 16/100\n",
            "2/2 [==============================] - 0s 45ms/step - loss: 0.6299 - accuracy: 0.8590 - val_loss: 0.6565 - val_accuracy: 0.8235\n",
            "Epoch 17/100\n",
            "2/2 [==============================] - 0s 82ms/step - loss: 0.6217 - accuracy: 0.8590 - val_loss: 0.6395 - val_accuracy: 0.8235\n",
            "Epoch 18/100\n",
            "2/2 [==============================] - 0s 31ms/step - loss: 0.6146 - accuracy: 0.8333 - val_loss: 0.6229 - val_accuracy: 0.8235\n",
            "Epoch 19/100\n",
            "2/2 [==============================] - 0s 36ms/step - loss: 0.5926 - accuracy: 0.8333 - val_loss: 0.6068 - val_accuracy: 0.8235\n",
            "Epoch 20/100\n",
            "2/2 [==============================] - 0s 54ms/step - loss: 0.5640 - accuracy: 0.8718 - val_loss: 0.5918 - val_accuracy: 0.8235\n",
            "Epoch 21/100\n",
            "2/2 [==============================] - 0s 63ms/step - loss: 0.5663 - accuracy: 0.8718 - val_loss: 0.5776 - val_accuracy: 0.8235\n",
            "Epoch 22/100\n",
            "2/2 [==============================] - 0s 87ms/step - loss: 0.5389 - accuracy: 0.8590 - val_loss: 0.5632 - val_accuracy: 0.8235\n",
            "Epoch 23/100\n",
            "2/2 [==============================] - 0s 32ms/step - loss: 0.5230 - accuracy: 0.8718 - val_loss: 0.5485 - val_accuracy: 0.8529\n",
            "Epoch 24/100\n",
            "2/2 [==============================] - 0s 31ms/step - loss: 0.5205 - accuracy: 0.8333 - val_loss: 0.5347 - val_accuracy: 0.8529\n",
            "Epoch 25/100\n",
            "2/2 [==============================] - 0s 33ms/step - loss: 0.4883 - accuracy: 0.8590 - val_loss: 0.5214 - val_accuracy: 0.8529\n",
            "Epoch 26/100\n",
            "2/2 [==============================] - 0s 109ms/step - loss: 0.4992 - accuracy: 0.8718 - val_loss: 0.5091 - val_accuracy: 0.8529\n",
            "Epoch 27/100\n",
            "2/2 [==============================] - 0s 87ms/step - loss: 0.4686 - accuracy: 0.8846 - val_loss: 0.4981 - val_accuracy: 0.8529\n",
            "Epoch 28/100\n",
            "2/2 [==============================] - 0s 41ms/step - loss: 0.5058 - accuracy: 0.8590 - val_loss: 0.4873 - val_accuracy: 0.8529\n",
            "Epoch 29/100\n",
            "2/2 [==============================] - 0s 50ms/step - loss: 0.4676 - accuracy: 0.8590 - val_loss: 0.4767 - val_accuracy: 0.8529\n",
            "Epoch 30/100\n",
            "2/2 [==============================] - 0s 35ms/step - loss: 0.4356 - accuracy: 0.8846 - val_loss: 0.4670 - val_accuracy: 0.8529\n",
            "Epoch 31/100\n",
            "2/2 [==============================] - 0s 44ms/step - loss: 0.4323 - accuracy: 0.8718 - val_loss: 0.4580 - val_accuracy: 0.8529\n",
            "Epoch 32/100\n",
            "2/2 [==============================] - 0s 31ms/step - loss: 0.4458 - accuracy: 0.8846 - val_loss: 0.4489 - val_accuracy: 0.8529\n",
            "Epoch 33/100\n",
            "2/2 [==============================] - 0s 38ms/step - loss: 0.4305 - accuracy: 0.8718 - val_loss: 0.4400 - val_accuracy: 0.8529\n",
            "Epoch 34/100\n",
            "2/2 [==============================] - 0s 129ms/step - loss: 0.4027 - accuracy: 0.8718 - val_loss: 0.4312 - val_accuracy: 0.8529\n",
            "Epoch 35/100\n",
            "2/2 [==============================] - 0s 47ms/step - loss: 0.4345 - accuracy: 0.8590 - val_loss: 0.4242 - val_accuracy: 0.8529\n",
            "Epoch 36/100\n",
            "2/2 [==============================] - 0s 59ms/step - loss: 0.4021 - accuracy: 0.8718 - val_loss: 0.4176 - val_accuracy: 0.8529\n",
            "Epoch 37/100\n",
            "2/2 [==============================] - 0s 52ms/step - loss: 0.4053 - accuracy: 0.8590 - val_loss: 0.4107 - val_accuracy: 0.8529\n",
            "Epoch 38/100\n",
            "2/2 [==============================] - 0s 36ms/step - loss: 0.4019 - accuracy: 0.8718 - val_loss: 0.4045 - val_accuracy: 0.8529\n",
            "Epoch 39/100\n",
            "2/2 [==============================] - 0s 51ms/step - loss: 0.3939 - accuracy: 0.8590 - val_loss: 0.3994 - val_accuracy: 0.8529\n",
            "Epoch 40/100\n",
            "2/2 [==============================] - 0s 63ms/step - loss: 0.3800 - accuracy: 0.8718 - val_loss: 0.3936 - val_accuracy: 0.8529\n",
            "Epoch 41/100\n",
            "2/2 [==============================] - 0s 35ms/step - loss: 0.3699 - accuracy: 0.8462 - val_loss: 0.3871 - val_accuracy: 0.8529\n",
            "Epoch 42/100\n",
            "2/2 [==============================] - 0s 38ms/step - loss: 0.3664 - accuracy: 0.8462 - val_loss: 0.3814 - val_accuracy: 0.8529\n",
            "Epoch 43/100\n",
            "2/2 [==============================] - 0s 58ms/step - loss: 0.3820 - accuracy: 0.8718 - val_loss: 0.3763 - val_accuracy: 0.8529\n",
            "Epoch 44/100\n",
            "2/2 [==============================] - 0s 68ms/step - loss: 0.3673 - accuracy: 0.8846 - val_loss: 0.3724 - val_accuracy: 0.8529\n",
            "Epoch 45/100\n",
            "2/2 [==============================] - 0s 51ms/step - loss: 0.3323 - accuracy: 0.8462 - val_loss: 0.3693 - val_accuracy: 0.8529\n",
            "Epoch 46/100\n",
            "2/2 [==============================] - 0s 101ms/step - loss: 0.3375 - accuracy: 0.8846 - val_loss: 0.3674 - val_accuracy: 0.8529\n",
            "Epoch 47/100\n",
            "2/2 [==============================] - 0s 53ms/step - loss: 0.3259 - accuracy: 0.8974 - val_loss: 0.3668 - val_accuracy: 0.8529\n",
            "Epoch 48/100\n",
            "2/2 [==============================] - 0s 41ms/step - loss: 0.3250 - accuracy: 0.8718 - val_loss: 0.3657 - val_accuracy: 0.8529\n",
            "Epoch 49/100\n",
            "2/2 [==============================] - 0s 34ms/step - loss: 0.3195 - accuracy: 0.8718 - val_loss: 0.3623 - val_accuracy: 0.8529\n",
            "Epoch 50/100\n",
            "2/2 [==============================] - 0s 76ms/step - loss: 0.3487 - accuracy: 0.8590 - val_loss: 0.3581 - val_accuracy: 0.8529\n",
            "Epoch 51/100\n",
            "2/2 [==============================] - 0s 57ms/step - loss: 0.3138 - accuracy: 0.8846 - val_loss: 0.3511 - val_accuracy: 0.8529\n",
            "Epoch 52/100\n",
            "2/2 [==============================] - 0s 37ms/step - loss: 0.3148 - accuracy: 0.8846 - val_loss: 0.3439 - val_accuracy: 0.8529\n",
            "Epoch 53/100\n",
            "2/2 [==============================] - 0s 47ms/step - loss: 0.2912 - accuracy: 0.9103 - val_loss: 0.3387 - val_accuracy: 0.8529\n",
            "Epoch 54/100\n",
            "2/2 [==============================] - 0s 37ms/step - loss: 0.2955 - accuracy: 0.9103 - val_loss: 0.3326 - val_accuracy: 0.8529\n",
            "Epoch 55/100\n",
            "2/2 [==============================] - 0s 68ms/step - loss: 0.2907 - accuracy: 0.9231 - val_loss: 0.3270 - val_accuracy: 0.8824\n",
            "Epoch 56/100\n",
            "2/2 [==============================] - 0s 65ms/step - loss: 0.2743 - accuracy: 0.9615 - val_loss: 0.3224 - val_accuracy: 0.9118\n",
            "Epoch 57/100\n",
            "2/2 [==============================] - 0s 40ms/step - loss: 0.3024 - accuracy: 0.8846 - val_loss: 0.3177 - val_accuracy: 0.9118\n",
            "Epoch 58/100\n",
            "2/2 [==============================] - 0s 88ms/step - loss: 0.2719 - accuracy: 0.9359 - val_loss: 0.3134 - val_accuracy: 0.9118\n",
            "Epoch 59/100\n",
            "2/2 [==============================] - 0s 47ms/step - loss: 0.2705 - accuracy: 0.9487 - val_loss: 0.3075 - val_accuracy: 0.9118\n",
            "Epoch 60/100\n",
            "2/2 [==============================] - 0s 52ms/step - loss: 0.2862 - accuracy: 0.9359 - val_loss: 0.3014 - val_accuracy: 0.9118\n",
            "Epoch 61/100\n",
            "2/2 [==============================] - 0s 54ms/step - loss: 0.2540 - accuracy: 0.9615 - val_loss: 0.2968 - val_accuracy: 0.9118\n",
            "Epoch 62/100\n",
            "2/2 [==============================] - 0s 34ms/step - loss: 0.2767 - accuracy: 0.9744 - val_loss: 0.2939 - val_accuracy: 0.9118\n",
            "Epoch 63/100\n",
            "2/2 [==============================] - 0s 33ms/step - loss: 0.2822 - accuracy: 0.9487 - val_loss: 0.2942 - val_accuracy: 0.9118\n",
            "Epoch 64/100\n",
            "2/2 [==============================] - 0s 59ms/step - loss: 0.2592 - accuracy: 0.9487 - val_loss: 0.2951 - val_accuracy: 0.9118\n",
            "Epoch 65/100\n",
            "2/2 [==============================] - 0s 55ms/step - loss: 0.2907 - accuracy: 0.9359 - val_loss: 0.2965 - val_accuracy: 0.9118\n",
            "Epoch 66/100\n",
            "2/2 [==============================] - 0s 39ms/step - loss: 0.2764 - accuracy: 0.9359 - val_loss: 0.2976 - val_accuracy: 0.9118\n",
            "Epoch 67/100\n",
            "2/2 [==============================] - 0s 54ms/step - loss: 0.2726 - accuracy: 0.9487 - val_loss: 0.2969 - val_accuracy: 0.9118\n",
            "Epoch 68/100\n",
            "2/2 [==============================] - 0s 46ms/step - loss: 0.2618 - accuracy: 0.9359 - val_loss: 0.2966 - val_accuracy: 0.9118\n",
            "Epoch 69/100\n",
            "2/2 [==============================] - 0s 33ms/step - loss: 0.2551 - accuracy: 0.9359 - val_loss: 0.2937 - val_accuracy: 0.9118\n",
            "Epoch 70/100\n",
            "2/2 [==============================] - 0s 53ms/step - loss: 0.2332 - accuracy: 0.9744 - val_loss: 0.2868 - val_accuracy: 0.9118\n",
            "Epoch 71/100\n",
            "2/2 [==============================] - 0s 36ms/step - loss: 0.2337 - accuracy: 0.9615 - val_loss: 0.2812 - val_accuracy: 0.9118\n",
            "Epoch 72/100\n",
            "2/2 [==============================] - 0s 29ms/step - loss: 0.2428 - accuracy: 0.9359 - val_loss: 0.2761 - val_accuracy: 0.9118\n",
            "Epoch 73/100\n",
            "2/2 [==============================] - 0s 64ms/step - loss: 0.2305 - accuracy: 0.9744 - val_loss: 0.2725 - val_accuracy: 0.9118\n",
            "Epoch 74/100\n",
            "2/2 [==============================] - 0s 38ms/step - loss: 0.2015 - accuracy: 1.0000 - val_loss: 0.2697 - val_accuracy: 0.9118\n",
            "Epoch 75/100\n",
            "2/2 [==============================] - 0s 37ms/step - loss: 0.2236 - accuracy: 0.9615 - val_loss: 0.2685 - val_accuracy: 0.9118\n",
            "Epoch 76/100\n",
            "2/2 [==============================] - 0s 45ms/step - loss: 0.2404 - accuracy: 0.9615 - val_loss: 0.2671 - val_accuracy: 0.9118\n",
            "Epoch 77/100\n",
            "2/2 [==============================] - 0s 34ms/step - loss: 0.2058 - accuracy: 0.9872 - val_loss: 0.2669 - val_accuracy: 0.9118\n",
            "Epoch 78/100\n",
            "2/2 [==============================] - 0s 106ms/step - loss: 0.2405 - accuracy: 0.9615 - val_loss: 0.2683 - val_accuracy: 0.9118\n",
            "Epoch 79/100\n",
            "2/2 [==============================] - 0s 58ms/step - loss: 0.1947 - accuracy: 1.0000 - val_loss: 0.2677 - val_accuracy: 0.9118\n",
            "Epoch 80/100\n",
            "2/2 [==============================] - 0s 58ms/step - loss: 0.2018 - accuracy: 0.9615 - val_loss: 0.2644 - val_accuracy: 0.9118\n",
            "Epoch 81/100\n",
            "2/2 [==============================] - 0s 69ms/step - loss: 0.1899 - accuracy: 0.9872 - val_loss: 0.2608 - val_accuracy: 0.9118\n",
            "Epoch 82/100\n",
            "2/2 [==============================] - 0s 32ms/step - loss: 0.1941 - accuracy: 0.9744 - val_loss: 0.2575 - val_accuracy: 0.9118\n",
            "Epoch 83/100\n",
            "2/2 [==============================] - 0s 73ms/step - loss: 0.2013 - accuracy: 0.9872 - val_loss: 0.2556 - val_accuracy: 0.9118\n",
            "Epoch 84/100\n",
            "2/2 [==============================] - 0s 61ms/step - loss: 0.1843 - accuracy: 0.9487 - val_loss: 0.2543 - val_accuracy: 0.9118\n",
            "Epoch 85/100\n",
            "2/2 [==============================] - 0s 54ms/step - loss: 0.2155 - accuracy: 0.9487 - val_loss: 0.2511 - val_accuracy: 0.9118\n",
            "Epoch 86/100\n",
            "2/2 [==============================] - 0s 47ms/step - loss: 0.1941 - accuracy: 1.0000 - val_loss: 0.2505 - val_accuracy: 0.9118\n",
            "Epoch 87/100\n",
            "2/2 [==============================] - 0s 70ms/step - loss: 0.1694 - accuracy: 0.9872 - val_loss: 0.2525 - val_accuracy: 0.9118\n",
            "Epoch 88/100\n",
            "2/2 [==============================] - 0s 91ms/step - loss: 0.1999 - accuracy: 0.9615 - val_loss: 0.2545 - val_accuracy: 0.9118\n",
            "Epoch 89/100\n",
            "2/2 [==============================] - 0s 42ms/step - loss: 0.1803 - accuracy: 0.9615 - val_loss: 0.2557 - val_accuracy: 0.9118\n",
            "Epoch 90/100\n",
            "2/2 [==============================] - 0s 36ms/step - loss: 0.1554 - accuracy: 1.0000 - val_loss: 0.2582 - val_accuracy: 0.9118\n",
            "Epoch 91/100\n",
            "2/2 [==============================] - 0s 69ms/step - loss: 0.1611 - accuracy: 1.0000 - val_loss: 0.2576 - val_accuracy: 0.9118\n",
            "Epoch 92/100\n",
            "2/2 [==============================] - 0s 104ms/step - loss: 0.1681 - accuracy: 1.0000 - val_loss: 0.2544 - val_accuracy: 0.9118\n",
            "Epoch 93/100\n",
            "2/2 [==============================] - 0s 54ms/step - loss: 0.2029 - accuracy: 0.9487 - val_loss: 0.2476 - val_accuracy: 0.9118\n",
            "Epoch 94/100\n",
            "2/2 [==============================] - 0s 36ms/step - loss: 0.1617 - accuracy: 0.9872 - val_loss: 0.2390 - val_accuracy: 0.9118\n",
            "Epoch 95/100\n",
            "2/2 [==============================] - 0s 70ms/step - loss: 0.1831 - accuracy: 0.9744 - val_loss: 0.2308 - val_accuracy: 0.9118\n",
            "Epoch 96/100\n",
            "2/2 [==============================] - 0s 68ms/step - loss: 0.1760 - accuracy: 0.9744 - val_loss: 0.2238 - val_accuracy: 0.9118\n",
            "Epoch 96: early stopping\n"
          ]
        }
      ]
    },
    {
      "cell_type": "code",
      "source": [
        "ann_model.summary()"
      ],
      "metadata": {
        "colab": {
          "base_uri": "https://localhost:8080/"
        },
        "id": "QDP51rhOJWuI",
        "outputId": "21cbca26-c8cb-4876-dae8-223c0860a179"
      },
      "execution_count": null,
      "outputs": [
        {
          "output_type": "stream",
          "name": "stdout",
          "text": [
            "Model: \"sequential\"\n",
            "_________________________________________________________________\n",
            " Layer (type)                Output Shape              Param #   \n",
            "=================================================================\n",
            " dense (Dense)               (None, 100)               500       \n",
            "                                                                 \n",
            " dropout (Dropout)           (None, 100)               0         \n",
            "                                                                 \n",
            " dense_1 (Dense)             (None, 50)                5050      \n",
            "                                                                 \n",
            " dense_2 (Dense)             (None, 3)                 153       \n",
            "                                                                 \n",
            "=================================================================\n",
            "Total params: 5,703\n",
            "Trainable params: 5,703\n",
            "Non-trainable params: 0\n",
            "_________________________________________________________________\n"
          ]
        }
      ]
    },
    {
      "cell_type": "code",
      "source": [
        "#Visualizing history for accuracy\n",
        "plt.plot(history.history['accuracy'])\n",
        "plt.plot(history.history['val_accuracy'])\n",
        "plt.title('model accuracy')\n",
        "plt.ylabel('accuracy')\n",
        "plt.xlabel('epoch')\n",
        "plt.legend(['train', 'Validation'], loc='upper left')\n",
        "\n",
        "plt.show()"
      ],
      "metadata": {
        "colab": {
          "base_uri": "https://localhost:8080/",
          "height": 295
        },
        "id": "lEEnlNQWMzMw",
        "outputId": "57bd815e-952c-4bdd-ad2d-6a10747812c1"
      },
      "execution_count": null,
      "outputs": [
        {
          "output_type": "display_data",
          "data": {
            "text/plain": [
              "<Figure size 432x288 with 1 Axes>"
            ],
            "image/png": "[encoded data removed]"
          },
          "metadata": {
            "needs_background": "light"
          }
        }
      ]
    },
    {
      "cell_type": "code",
      "source": [
        "# Visualizing history for loss\n",
        "plt.plot(history.history['loss'])\n",
        "plt.plot(history.history['val_loss'])\n",
        "plt.title('model loss')\n",
        "plt.ylabel('loss')\n",
        "plt.xlabel('epoch')\n",
        "plt.legend(['train', 'Validation'], loc='upper left')\n",
        "plt.show()"
      ],
      "metadata": {
        "colab": {
          "base_uri": "https://localhost:8080/",
          "height": 295
        },
        "id": "pYkOYCc9yek5",
        "outputId": "1421d91e-0869-473a-89ee-ad10c1b5bcec"
      },
      "execution_count": null,
      "outputs": [
        {
          "output_type": "display_data",
          "data": {
            "text/plain": [
              "<Figure size 432x288 with 1 Axes>"
            ],
            "image/png": "[encoded data removed]"
          },
          "metadata": {
            "needs_background": "light"
          }
        }
      ]
    },
    {
      "cell_type": "markdown",
      "source": [
        "# Evaluating the model"
      ],
      "metadata": {
        "id": "xw7BGMGtM65b"
      }
    },
    {
      "cell_type": "code",
      "source": [
        "ann_model.evaluate(X_test,y_test)\n"
      ],
      "metadata": {
        "colab": {
          "base_uri": "https://localhost:8080/"
        },
        "id": "klY9E7npObNF",
        "outputId": "a19d6a2e-7f15-47ef-da71-1b22ae369fd3"
      },
      "execution_count": null,
      "outputs": [
        {
          "output_type": "stream",
          "name": "stdout",
          "text": [
            "2/2 [==============================] - 0s 11ms/step - loss: 0.2386 - accuracy: 0.9737\n"
          ]
        },
        {
          "output_type": "execute_result",
          "data": {
            "text/plain": [
              "[0.23858320713043213, 0.9736841917037964]"
            ]
          },
          "metadata": {},
          "execution_count": 29
        }
      ]
    }
  ]
}