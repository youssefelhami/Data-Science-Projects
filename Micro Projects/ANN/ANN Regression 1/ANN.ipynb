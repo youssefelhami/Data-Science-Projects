{
  "nbformat": 4,
  "nbformat_minor": 0,
  "metadata": {
    "colab": {
      "provenance": [],
      "collapsed_sections": []
    },
    "kernelspec": {
      "name": "python3",
      "display_name": "Python 3"
    },
    "language_info": {
      "name": "python"
    },
    "accelerator": "GPU"
  },
  "cells": [
    {
      "cell_type": "markdown",
      "source": [
        "# Data Preprocessing "
      ],
      "metadata": {
        "id": "xOr4QmlojB7m"
      }
    },
    {
      "cell_type": "markdown",
      "source": [
        "## Importing the Libraries "
      ],
      "metadata": {
        "id": "7pgQQaDOpqs2"
      }
    },
    {
      "cell_type": "code",
      "source": [
        "import numpy as np\n",
        "import pandas as pd\n",
        "import tensorflow as tf "
      ],
      "metadata": {
        "id": "Nb2jSfNtqBzb"
      },
      "execution_count": 1,
      "outputs": []
    },
    {
      "cell_type": "markdown",
      "source": [
        "## Importing the dataset "
      ],
      "metadata": {
        "id": "s9F9SDh2sB1v"
      }
    },
    {
      "cell_type": "code",
      "source": [
        "dataset = pd.read_csv('Data.csv')\n",
        "X = dataset.iloc[:, :-1].values\n",
        "y = dataset.iloc[:, -1].values"
      ],
      "metadata": {
        "id": "5YMVTFN7sGWu"
      },
      "execution_count": 2,
      "outputs": []
    },
    {
      "cell_type": "code",
      "source": [
        "print(X)"
      ],
      "metadata": {
        "id": "JTzaLGCws7_H",
        "colab": {
          "base_uri": "https://localhost:8080/"
        },
        "outputId": "9476246e-150c-4891-a474-fe0771a03ba0"
      },
      "execution_count": 3,
      "outputs": [
        {
          "output_type": "stream",
          "name": "stdout",
          "text": [
            "[[  14.96   41.76 1024.07   73.17]\n",
            " [  25.18   62.96 1020.04   59.08]\n",
            " [   5.11   39.4  1012.16   92.14]\n",
            " ...\n",
            " [  31.32   74.33 1012.92   36.48]\n",
            " [  24.48   69.45 1013.86   62.39]\n",
            " [  21.6    62.52 1017.23   67.87]]\n"
          ]
        }
      ]
    },
    {
      "cell_type": "code",
      "source": [
        "print(y)"
      ],
      "metadata": {
        "id": "_olfF0zgtLQw",
        "colab": {
          "base_uri": "https://localhost:8080/"
        },
        "outputId": "36d0452d-23aa-48a0-f486-0266da8f81b8"
      },
      "execution_count": 4,
      "outputs": [
        {
          "output_type": "stream",
          "name": "stdout",
          "text": [
            "[463.26 444.37 488.56 ... 429.57 435.74 453.28]\n"
          ]
        }
      ]
    },
    {
      "cell_type": "markdown",
      "source": [
        "## Splitting the dataset into train and test sets"
      ],
      "metadata": {
        "id": "FR5T3CkFwQ-w"
      }
    },
    {
      "cell_type": "code",
      "source": [
        "from sklearn.model_selection import train_test_split\n",
        "X_train , X_test, y_train , y_test = train_test_split(X,y,test_size=0.25,random_state=0)"
      ],
      "metadata": {
        "id": "senQxSMbwdXg"
      },
      "execution_count": 5,
      "outputs": []
    },
    {
      "cell_type": "code",
      "source": [
        "print(X_train)"
      ],
      "metadata": {
        "id": "cXPT4gw8wmOq",
        "colab": {
          "base_uri": "https://localhost:8080/"
        },
        "outputId": "080740da-5e0b-45d5-9e2e-dfdcb5d4d853"
      },
      "execution_count": 6,
      "outputs": [
        {
          "output_type": "stream",
          "name": "stdout",
          "text": [
            "[[  14.2    42.86 1031.96   69.59]\n",
            " [  28.79   68.51 1013.02   62.84]\n",
            " [  14.55   41.7  1018.58   80.8 ]\n",
            " ...\n",
            " [  16.81   38.52 1018.26   75.21]\n",
            " [  12.8    41.16 1022.43   86.19]\n",
            " [  32.32   67.9  1006.08   37.93]]\n"
          ]
        }
      ]
    },
    {
      "cell_type": "code",
      "source": [
        "print(X_test)"
      ],
      "metadata": {
        "id": "__qchC_wwmwI",
        "colab": {
          "base_uri": "https://localhost:8080/"
        },
        "outputId": "cd49810a-49fd-4a26-8e2c-8666d52d8b16"
      },
      "execution_count": 7,
      "outputs": [
        {
          "output_type": "stream",
          "name": "stdout",
          "text": [
            "[[  28.66   77.95 1009.56   69.07]\n",
            " [  17.48   49.39 1021.51   84.53]\n",
            " [  14.86   43.14 1019.21   99.14]\n",
            " ...\n",
            " [  13.07   38.47 1015.16   57.26]\n",
            " [   9.38   44.77 1020.41   85.26]\n",
            " [  25.73   66.54 1010.07   55.97]]\n"
          ]
        }
      ]
    },
    {
      "cell_type": "code",
      "source": [
        "print(y_train)"
      ],
      "metadata": {
        "id": "CnlMEq9swm5A",
        "colab": {
          "base_uri": "https://localhost:8080/"
        },
        "outputId": "4eca5475-85b3-4084-c4b6-48aa80c4f732"
      },
      "execution_count": 8,
      "outputs": [
        {
          "output_type": "stream",
          "name": "stdout",
          "text": [
            "[468.63 432.51 454.14 ... 459.01 462.72 428.12]\n"
          ]
        }
      ]
    },
    {
      "cell_type": "code",
      "source": [
        "print(y_test)"
      ],
      "metadata": {
        "id": "6BKiTLFCwnCB",
        "colab": {
          "base_uri": "https://localhost:8080/"
        },
        "outputId": "8ac37007-5ff4-4efe-ded1-7868d11cdf57"
      },
      "execution_count": 9,
      "outputs": [
        {
          "output_type": "stream",
          "name": "stdout",
          "text": [
            "[431.23 460.01 461.14 ... 468.9  473.9  437.07]\n"
          ]
        }
      ]
    },
    {
      "cell_type": "markdown",
      "source": [
        "## Feature Scalling "
      ],
      "metadata": {
        "id": "2zmgShwi10bK"
      }
    },
    {
      "cell_type": "code",
      "source": [
        "from sklearn.preprocessing import StandardScaler\n",
        "sc = StandardScaler()\n",
        "X_train = sc.fit_transform(X_train)\n",
        "X_test = sc.transform(X_test)"
      ],
      "metadata": {
        "id": "dm9fnE5U2a66"
      },
      "execution_count": 10,
      "outputs": []
    },
    {
      "cell_type": "markdown",
      "source": [
        "# Creating the ANN"
      ],
      "metadata": {
        "id": "j3gx0jF82fUB"
      }
    },
    {
      "cell_type": "code",
      "source": [
        "ann_model=tf.keras.models.Sequential()"
      ],
      "metadata": {
        "id": "9yFfdwiS2mBy"
      },
      "execution_count": 11,
      "outputs": []
    },
    {
      "cell_type": "code",
      "source": [
        "ann_model.add(tf.keras.layers.Dense(units=8,activation=\"relu\"))"
      ],
      "metadata": {
        "id": "LWJSIwanJFTR"
      },
      "execution_count": 12,
      "outputs": []
    },
    {
      "cell_type": "code",
      "source": [
        "ann_model.add(tf.keras.layers.Dense(units=8,activation=\"relu\"))"
      ],
      "metadata": {
        "id": "V9NDltoKKFR0"
      },
      "execution_count": 13,
      "outputs": []
    },
    {
      "cell_type": "code",
      "source": [
        "ann_model.add(tf.keras.layers.Dense(units=1))"
      ],
      "metadata": {
        "id": "1_0d059pKRre"
      },
      "execution_count": 14,
      "outputs": []
    },
    {
      "cell_type": "markdown",
      "source": [
        "# Compile the model"
      ],
      "metadata": {
        "id": "EJFPiL98KVF9"
      }
    },
    {
      "cell_type": "code",
      "source": [
        "ann_model.compile(tf.keras.optimizers.Adam(learning_rate=0.001),loss=\"mean_squared_error\")"
      ],
      "metadata": {
        "id": "wZuwZWLNKYp6"
      },
      "execution_count": 15,
      "outputs": []
    },
    {
      "cell_type": "markdown",
      "source": [
        "# Fit the Model to the taining set"
      ],
      "metadata": {
        "id": "69eU0fAeKxys"
      }
    },
    {
      "cell_type": "code",
      "source": [
        "ann_model.fit(X_train,y_train,batch_size=32,epochs=100)"
      ],
      "metadata": {
        "colab": {
          "base_uri": "https://localhost:8080/"
        },
        "id": "nzZ_aW00LGAF",
        "outputId": "a4671390-d254-4d36-9e0d-851e2556ef4d"
      },
      "execution_count": 16,
      "outputs": [
        {
          "output_type": "stream",
          "name": "stdout",
          "text": [
            "Epoch 1/100\n",
            "225/225 [==============================] - 1s 2ms/step - loss: 204065.3594\n",
            "Epoch 2/100\n",
            "225/225 [==============================] - 1s 3ms/step - loss: 183436.5938\n",
            "Epoch 3/100\n",
            "225/225 [==============================] - 1s 4ms/step - loss: 127305.7031\n",
            "Epoch 4/100\n",
            "225/225 [==============================] - 1s 4ms/step - loss: 60982.8984\n",
            "Epoch 5/100\n",
            "225/225 [==============================] - 1s 4ms/step - loss: 26521.4609\n",
            "Epoch 6/100\n",
            "225/225 [==============================] - 1s 4ms/step - loss: 17772.7461\n",
            "Epoch 7/100\n",
            "225/225 [==============================] - 1s 4ms/step - loss: 14034.9424\n",
            "Epoch 8/100\n",
            "225/225 [==============================] - 1s 5ms/step - loss: 10774.9814\n",
            "Epoch 9/100\n",
            "225/225 [==============================] - 1s 5ms/step - loss: 7846.1069\n",
            "Epoch 10/100\n",
            "225/225 [==============================] - 1s 4ms/step - loss: 5354.4209\n",
            "Epoch 11/100\n",
            "225/225 [==============================] - 1s 3ms/step - loss: 3411.4077\n",
            "Epoch 12/100\n",
            "225/225 [==============================] - 1s 4ms/step - loss: 2065.5413\n",
            "Epoch 13/100\n",
            "225/225 [==============================] - 1s 4ms/step - loss: 1237.8389\n",
            "Epoch 14/100\n",
            "225/225 [==============================] - 1s 4ms/step - loss: 777.1619\n",
            "Epoch 15/100\n",
            "225/225 [==============================] - 1s 2ms/step - loss: 529.7219\n",
            "Epoch 16/100\n",
            "225/225 [==============================] - 1s 2ms/step - loss: 389.7589\n",
            "Epoch 17/100\n",
            "225/225 [==============================] - 1s 2ms/step - loss: 301.9808\n",
            "Epoch 18/100\n",
            "225/225 [==============================] - 0s 2ms/step - loss: 241.9332\n",
            "Epoch 19/100\n",
            "225/225 [==============================] - 1s 2ms/step - loss: 197.5886\n",
            "Epoch 20/100\n",
            "225/225 [==============================] - 1s 2ms/step - loss: 162.6494\n",
            "Epoch 21/100\n",
            "225/225 [==============================] - 1s 2ms/step - loss: 134.6816\n",
            "Epoch 22/100\n",
            "225/225 [==============================] - 1s 2ms/step - loss: 112.4955\n",
            "Epoch 23/100\n",
            "225/225 [==============================] - 1s 2ms/step - loss: 94.8592\n",
            "Epoch 24/100\n",
            "225/225 [==============================] - 1s 3ms/step - loss: 80.3840\n",
            "Epoch 25/100\n",
            "225/225 [==============================] - 1s 3ms/step - loss: 68.8747\n",
            "Epoch 26/100\n",
            "225/225 [==============================] - 1s 2ms/step - loss: 59.3023\n",
            "Epoch 27/100\n",
            "225/225 [==============================] - 1s 2ms/step - loss: 51.6050\n",
            "Epoch 28/100\n",
            "225/225 [==============================] - 1s 2ms/step - loss: 45.4289\n",
            "Epoch 29/100\n",
            "225/225 [==============================] - 1s 2ms/step - loss: 40.2811\n",
            "Epoch 30/100\n",
            "225/225 [==============================] - 1s 2ms/step - loss: 36.2785\n",
            "Epoch 31/100\n",
            "225/225 [==============================] - 1s 2ms/step - loss: 32.7702\n",
            "Epoch 32/100\n",
            "225/225 [==============================] - 1s 2ms/step - loss: 30.0261\n",
            "Epoch 33/100\n",
            "225/225 [==============================] - 1s 2ms/step - loss: 27.9739\n",
            "Epoch 34/100\n",
            "225/225 [==============================] - 1s 2ms/step - loss: 26.2984\n",
            "Epoch 35/100\n",
            "225/225 [==============================] - 1s 2ms/step - loss: 25.0450\n",
            "Epoch 36/100\n",
            "225/225 [==============================] - 1s 2ms/step - loss: 24.2170\n",
            "Epoch 37/100\n",
            "225/225 [==============================] - 1s 2ms/step - loss: 23.5639\n",
            "Epoch 38/100\n",
            "225/225 [==============================] - 1s 2ms/step - loss: 23.1219\n",
            "Epoch 39/100\n",
            "225/225 [==============================] - 1s 2ms/step - loss: 22.9187\n",
            "Epoch 40/100\n",
            "225/225 [==============================] - 1s 2ms/step - loss: 22.5356\n",
            "Epoch 41/100\n",
            "225/225 [==============================] - 1s 2ms/step - loss: 22.2055\n",
            "Epoch 42/100\n",
            "225/225 [==============================] - 1s 2ms/step - loss: 22.0345\n",
            "Epoch 43/100\n",
            "225/225 [==============================] - 1s 2ms/step - loss: 22.1166\n",
            "Epoch 44/100\n",
            "225/225 [==============================] - 1s 2ms/step - loss: 21.8576\n",
            "Epoch 45/100\n",
            "225/225 [==============================] - 1s 2ms/step - loss: 21.8202\n",
            "Epoch 46/100\n",
            "225/225 [==============================] - 1s 2ms/step - loss: 21.7441\n",
            "Epoch 47/100\n",
            "225/225 [==============================] - 1s 2ms/step - loss: 21.6627\n",
            "Epoch 48/100\n",
            "225/225 [==============================] - 1s 2ms/step - loss: 21.6594\n",
            "Epoch 49/100\n",
            "225/225 [==============================] - 1s 2ms/step - loss: 21.7335\n",
            "Epoch 50/100\n",
            "225/225 [==============================] - 1s 2ms/step - loss: 21.6454\n",
            "Epoch 51/100\n",
            "225/225 [==============================] - 1s 2ms/step - loss: 21.6121\n",
            "Epoch 52/100\n",
            "225/225 [==============================] - 1s 2ms/step - loss: 21.5619\n",
            "Epoch 53/100\n",
            "225/225 [==============================] - 1s 2ms/step - loss: 21.4267\n",
            "Epoch 54/100\n",
            "225/225 [==============================] - 1s 2ms/step - loss: 21.6075\n",
            "Epoch 55/100\n",
            "225/225 [==============================] - 1s 2ms/step - loss: 21.5158\n",
            "Epoch 56/100\n",
            "225/225 [==============================] - 1s 2ms/step - loss: 21.5418\n",
            "Epoch 57/100\n",
            "225/225 [==============================] - 1s 2ms/step - loss: 21.4393\n",
            "Epoch 58/100\n",
            "225/225 [==============================] - 1s 2ms/step - loss: 21.4506\n",
            "Epoch 59/100\n",
            "225/225 [==============================] - 1s 2ms/step - loss: 21.3908\n",
            "Epoch 60/100\n",
            "225/225 [==============================] - 1s 2ms/step - loss: 21.5397\n",
            "Epoch 61/100\n",
            "225/225 [==============================] - 1s 2ms/step - loss: 21.5717\n",
            "Epoch 62/100\n",
            "225/225 [==============================] - 1s 2ms/step - loss: 21.2971\n",
            "Epoch 63/100\n",
            "225/225 [==============================] - 1s 2ms/step - loss: 21.5513\n",
            "Epoch 64/100\n",
            "225/225 [==============================] - 1s 2ms/step - loss: 21.4608\n",
            "Epoch 65/100\n",
            "225/225 [==============================] - 1s 2ms/step - loss: 21.5211\n",
            "Epoch 66/100\n",
            "225/225 [==============================] - 1s 2ms/step - loss: 21.3961\n",
            "Epoch 67/100\n",
            "225/225 [==============================] - 1s 2ms/step - loss: 21.5275\n",
            "Epoch 68/100\n",
            "225/225 [==============================] - 1s 2ms/step - loss: 21.3125\n",
            "Epoch 69/100\n",
            "225/225 [==============================] - 1s 2ms/step - loss: 21.3567\n",
            "Epoch 70/100\n",
            "225/225 [==============================] - 1s 2ms/step - loss: 21.2741\n",
            "Epoch 71/100\n",
            "225/225 [==============================] - 1s 2ms/step - loss: 21.5348\n",
            "Epoch 72/100\n",
            "225/225 [==============================] - 1s 2ms/step - loss: 21.2393\n",
            "Epoch 73/100\n",
            "225/225 [==============================] - 1s 2ms/step - loss: 21.4570\n",
            "Epoch 74/100\n",
            "225/225 [==============================] - 1s 2ms/step - loss: 21.4305\n",
            "Epoch 75/100\n",
            "225/225 [==============================] - 1s 2ms/step - loss: 21.2761\n",
            "Epoch 76/100\n",
            "225/225 [==============================] - 1s 2ms/step - loss: 21.6932\n",
            "Epoch 77/100\n",
            "225/225 [==============================] - 1s 2ms/step - loss: 21.1641\n",
            "Epoch 78/100\n",
            "225/225 [==============================] - 1s 2ms/step - loss: 21.2691\n",
            "Epoch 79/100\n",
            "225/225 [==============================] - 1s 2ms/step - loss: 21.3506\n",
            "Epoch 80/100\n",
            "225/225 [==============================] - 1s 2ms/step - loss: 21.5015\n",
            "Epoch 81/100\n",
            "225/225 [==============================] - 1s 2ms/step - loss: 21.2363\n",
            "Epoch 82/100\n",
            "225/225 [==============================] - 1s 3ms/step - loss: 21.2130\n",
            "Epoch 83/100\n",
            "225/225 [==============================] - 1s 3ms/step - loss: 21.3128\n",
            "Epoch 84/100\n",
            "225/225 [==============================] - 1s 2ms/step - loss: 21.2586\n",
            "Epoch 85/100\n",
            "225/225 [==============================] - 1s 2ms/step - loss: 21.2054\n",
            "Epoch 86/100\n",
            "225/225 [==============================] - 1s 2ms/step - loss: 21.1964\n",
            "Epoch 87/100\n",
            "225/225 [==============================] - 1s 2ms/step - loss: 21.0075\n",
            "Epoch 88/100\n",
            "225/225 [==============================] - 1s 2ms/step - loss: 21.1182\n",
            "Epoch 89/100\n",
            "225/225 [==============================] - 1s 2ms/step - loss: 21.1634\n",
            "Epoch 90/100\n",
            "225/225 [==============================] - 1s 2ms/step - loss: 21.0173\n",
            "Epoch 91/100\n",
            "225/225 [==============================] - 1s 2ms/step - loss: 21.0908\n",
            "Epoch 92/100\n",
            "225/225 [==============================] - 1s 2ms/step - loss: 21.3073\n",
            "Epoch 93/100\n",
            "225/225 [==============================] - 1s 2ms/step - loss: 21.0806\n",
            "Epoch 94/100\n",
            "225/225 [==============================] - 1s 2ms/step - loss: 21.0353\n",
            "Epoch 95/100\n",
            "225/225 [==============================] - 1s 2ms/step - loss: 20.8696\n",
            "Epoch 96/100\n",
            "225/225 [==============================] - 1s 2ms/step - loss: 20.9352\n",
            "Epoch 97/100\n",
            "225/225 [==============================] - 1s 2ms/step - loss: 21.0663\n",
            "Epoch 98/100\n",
            "225/225 [==============================] - 1s 2ms/step - loss: 20.9977\n",
            "Epoch 99/100\n",
            "225/225 [==============================] - 1s 2ms/step - loss: 21.0662\n",
            "Epoch 100/100\n",
            "225/225 [==============================] - 1s 2ms/step - loss: 20.8838\n"
          ]
        },
        {
          "output_type": "execute_result",
          "data": {
            "text/plain": [
              "<keras.callbacks.History at 0x7f2bc0193250>"
            ]
          },
          "metadata": {},
          "execution_count": 16
        }
      ]
    },
    {
      "cell_type": "markdown",
      "source": [
        "# Predicting the test set"
      ],
      "metadata": {
        "id": "xw7BGMGtM65b"
      }
    },
    {
      "cell_type": "code",
      "source": [
        "y_pred = ann_model.predict(X_test)\n",
        "print(np.concatenate((y_pred.reshape(len(y_pred),1), y_test.reshape(len(y_test),1)),1))"
      ],
      "metadata": {
        "colab": {
          "base_uri": "https://localhost:8080/"
        },
        "id": "klY9E7npObNF",
        "outputId": "f78134ff-8795-4f09-c7b2-06d7e39943f6"
      },
      "execution_count": 17,
      "outputs": [
        {
          "output_type": "stream",
          "name": "stdout",
          "text": [
            "75/75 [==============================] - 0s 1ms/step\n",
            "[[430.47021484 431.23      ]\n",
            " [458.04458618 460.01      ]\n",
            " [462.80944824 461.14      ]\n",
            " ...\n",
            " [472.64804077 468.9       ]\n",
            " [474.95870972 473.9       ]\n",
            " [440.75509644 437.07      ]]\n"
          ]
        }
      ]
    },
    {
      "cell_type": "code",
      "source": [
        "from sklearn.metrics import mean_squared_error\n",
        "mean_squared_error(y_test, y_pred)"
      ],
      "metadata": {
        "colab": {
          "base_uri": "https://localhost:8080/"
        },
        "id": "eRG6CULPOhGp",
        "outputId": "edbd37ea-ae99-456b-c890-7c42c304fc10"
      },
      "execution_count": 18,
      "outputs": [
        {
          "output_type": "execute_result",
          "data": {
            "text/plain": [
              "19.36746704346536"
            ]
          },
          "metadata": {},
          "execution_count": 18
        }
      ]
    }
  ]
}